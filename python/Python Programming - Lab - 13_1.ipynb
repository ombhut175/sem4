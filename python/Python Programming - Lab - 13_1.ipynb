{
 "cells": [
  {
   "cell_type": "markdown",
   "metadata": {},
   "source": [
    "<a href='https://www.darshan.ac.in/'> <img src='https://www.darshan.ac.in/Content/media/DU_Logo.svg' width=\"250\" height=\"300\"/></a>\n",
    "<pre>\n",
    "<center><b><h1>Python Programming - 2301CS404</b></center>\n",
    "<center><b><h1>Lab - 13</b></center>    \n",
    "<pre>"
   ]
  },
  {
   "cell_type": "markdown",
   "metadata": {},
   "source": [
    "# OOP"
   ]
  },
  {
   "cell_type": "markdown",
   "metadata": {},
   "source": [
    "### 01) Write a Program to create a class by name Students, and initialize attributes like name, age, and grade while creating an object."
   ]
  },
  {
   "cell_type": "code",
   "execution_count": 1,
   "metadata": {},
   "outputs": [
    {
     "name": "stdout",
     "output_type": "stream",
     "text": [
      "John  20  90.5\n"
     ]
    }
   ],
   "source": [
    "class Student:\n",
    "    def __init__(self,name:str,age:int,grade:float) -> None:\n",
    "        self.name = name\n",
    "        self.age = age\n",
    "        self.grade = grade\n",
    "    def printStudent(self):\n",
    "        print(f\"{self.name}  {self.age}  {self.grade}\")\n",
    "\n",
    "s1 = Student(\"John\",20,90.5)\n",
    "s1.printStudent()"
   ]
  },
  {
   "cell_type": "markdown",
   "metadata": {},
   "source": [
    "### 02) Create a class named Bank_Account with Account_No, User_Name, Email,Account_Type and Account_Balance data members. Also create a method GetAccountDetails() and DisplayAccountDetails(). Create main method to demonstrate the Bank_Account class."
   ]
  },
  {
   "cell_type": "code",
   "execution_count": 2,
   "metadata": {},
   "outputs": [
    {
     "name": "stdout",
     "output_type": "stream",
     "text": [
      "Account Details:\n",
      "Account_No:  123456789\n",
      "User_Name:  John Doe\n",
      "Email:  john@example.com\n",
      "Account_Type:  Savings\n",
      "Account_Balance:  10000.0\n",
      "\n",
      "Account Details (Dictionary):\n",
      "{'Account_No': '123456789', 'User_Name': 'John Doe', 'Email': 'john@example.com', 'Account_Type': 'Savings', 'Account_Balance': 10000.0}\n"
     ]
    }
   ],
   "source": [
    "class Bank_Account:\n",
    "    def __init__(self, Account_No, User_Name, Email, Account_Type, Account_Balance):\n",
    "        self.Account_No = Account_No\n",
    "        self.User_Name = User_Name\n",
    "        self.Email = Email\n",
    "        self.Account_Type = Account_Type\n",
    "        self.Account_Balance = Account_Balance\n",
    "\n",
    "    def getAccountDetails(self):\n",
    "        return {\n",
    "            \"Account_No\": self.Account_No,\n",
    "            \"User_Name\": self.User_Name,\n",
    "            \"Email\": self.Email,\n",
    "            \"Account_Type\": self.Account_Type,\n",
    "            \"Account_Balance\": self.Account_Balance\n",
    "        }\n",
    "\n",
    "    def displayAccountDetails(self):\n",
    "        print(\"Account_No: \", self.Account_No)\n",
    "        print(\"User_Name: \", self.User_Name)\n",
    "        print(\"Email: \", self.Email)\n",
    "        print(\"Account_Type: \", self.Account_Type)\n",
    "        print(\"Account_Balance: \", self.Account_Balance)\n",
    "\n",
    "\n",
    "def main():\n",
    "    account = Bank_Account(\"123456789\", \"John Doe\", \"john@example.com\", \"Savings\", 10000.0)\n",
    "    print(\"Account Details:\")\n",
    "    account.displayAccountDetails()\n",
    "    print(\"\\nAccount Details (Dictionary):\")\n",
    "    print(account.getAccountDetails())\n",
    "\n",
    "\n",
    "if __name__ == \"__main__\":\n",
    "    main()"
   ]
  },
  {
   "cell_type": "markdown",
   "metadata": {},
   "source": [
    "### 03) WAP to create Circle class with area and perimeter function to find area and perimeter of circle."
   ]
  },
  {
   "cell_type": "code",
   "execution_count": null,
   "metadata": {},
   "outputs": [],
   "source": [
    "class Circle:\n",
    "    def __init__(self, radius):\n",
    "        self.radius = radius\n",
    "\n",
    "    def area(self):\n",
    "        return 3.14 * self.radius ** 2\n",
    "\n",
    "    def perimeter(self):\n",
    "        return 2 * 3.14 * self.radius"
   ]
  },
  {
   "cell_type": "markdown",
   "metadata": {},
   "source": [
    "### 04) Create a class for employees that includes attributes such as name, age, salary, and methods to update and display employee information."
   ]
  },
  {
   "cell_type": "code",
   "execution_count": null,
   "metadata": {},
   "outputs": [],
   "source": [
    "class Employee:\n",
    "    def __init__(self, name, age, salary):\n",
    "        self.name = name\n",
    "        self.age = age\n",
    "        self.salary = salary\n",
    "\n",
    "    def update_employee_info(self, name=None, age=None, salary=None):\n",
    "        if name:\n",
    "            self.name = name\n",
    "        if age:\n",
    "            self.age = age\n",
    "        if salary:\n",
    "            self.salary = salary\n",
    "\n",
    "    def display_employee_info(self):\n",
    "        print(f\"Name: {self.name}\")\n",
    "        print(f\"Age: {self.age}\")\n",
    "        print(f\"Salary: {self.salary}\")"
   ]
  },
  {
   "cell_type": "markdown",
   "metadata": {},
   "source": [
    "### 05) Create a bank account class with methods to deposit, withdraw, and check balance."
   ]
  },
  {
   "cell_type": "code",
   "execution_count": null,
   "metadata": {},
   "outputs": [],
   "source": [
    "class BankAccount:\n",
    "    def __init__(self, account_number, account_name, initial_balance=0):\n",
    "        self.account_number = account_number\n",
    "        self.account_name = account_name\n",
    "        self.balance = initial_balance\n",
    "\n",
    "    def deposit(self, amount):\n",
    "        if amount > 0:\n",
    "            self.balance += amount\n",
    "            print(f\"Deposited ${amount}. Current balance is ${self.balance}\")\n",
    "        else:\n",
    "            print(\"Invalid deposit amount. Please enter a positive value.\")\n",
    "\n",
    "    def withdraw(self, amount):\n",
    "        if 0 < amount <= self.balance:\n",
    "            self.balance -= amount\n",
    "            print(f\"Withdrew ${amount}. Current balance is ${self.balance}\")\n",
    "        elif amount <= 0:\n",
    "            print(\"Invalid withdrawal amount. Please enter a positive value.\")\n",
    "        else:\n",
    "            print(\"Insufficient funds.\")\n",
    "\n",
    "    def check_balance(self):\n",
    "        print(f\"Current balance is ${self.balance}\")"
   ]
  },
  {
   "cell_type": "markdown",
   "metadata": {},
   "source": [
    "### 06) Create a class for managing inventory that includes attributes such as item name, price, quantity, and methods to add, remove, and update items."
   ]
  },
  {
   "cell_type": "code",
   "execution_count": 8,
   "metadata": {},
   "outputs": [
    {
     "name": "stdout",
     "output_type": "stream",
     "text": [
      "Name: Banana\n",
      "Price: 50\n",
      "Quantity: 10\n",
      "\n",
      "\n",
      "Name: bag\n",
      "Price: 500\n",
      "Quantity: 40\n",
      "\n",
      "\n",
      "Name: apple\n",
      "Price: 1000\n",
      "Quantity: 80\n",
      "\n",
      "\n",
      "Name: cycle\n",
      "Price: 50000\n",
      "Quantity: 100\n",
      "\n",
      "\n"
     ]
    }
   ],
   "source": [
    "NAME = \"name\"\n",
    "PRICE = \"price\"\n",
    "QUANTITY = \"quantity\"\n",
    "\n",
    "class Product:\n",
    "    def __init__(self,*,name,price,quantity) -> None:\n",
    "        self.item = {\n",
    "            NAME: name,\n",
    "            PRICE: price,\n",
    "            QUANTITY: quantity\n",
    "        }\n",
    "    def addItem(self,name:str):\n",
    "        self.item[QUANTITY] += 1 \n",
    "\n",
    "    def removeItem(self):\n",
    "        if self.item[QUANTITY]<=0:\n",
    "            print(\"item have zero quantity\")\n",
    "            return\n",
    "        self.item[QUANTITY] -= 1\n",
    "    def updateItem(self,newItem:map):\n",
    "        self.item = newItem\n",
    "\n",
    "    def printProduct(self):\n",
    "        print(f\"Name: {self.item[NAME]}\")\n",
    "        print(f\"Price: {self.item[PRICE]}\")\n",
    "        print(f\"Quantity: {self.item[QUANTITY]}\")\n",
    "\n",
    "class Inventory:\n",
    "    def __init__(self,products) -> None:\n",
    "        self.products = products\n",
    "    \n",
    "    def addProduct(self,product:Product):\n",
    "        self.products.append(product)\n",
    "\n",
    "    def removeProduct(self,product:Product):\n",
    "        self.products.remove(product)\n",
    "\n",
    "    def updateProduct(self,productId:int,newProduct:Product):\n",
    "        self.products[productId] = newProduct\n",
    "    \n",
    "    def displayInventory(self):\n",
    "        for i in range(len(self.products)):\n",
    "            self.products[i].printProduct()\n",
    "            print(\"\\n\")\n",
    "\n",
    "\n",
    "p1 = Product(name=\"Banana\",price=50,quantity=10)\n",
    "p2 = Product(name=\"bag\",price=500,quantity=40)\n",
    "p3 = Product(name=\"apple\",price=1000,quantity=80)\n",
    "p4 = Product(name=\"cycle\",price=50000,quantity=100)\n",
    "\n",
    "\n",
    "i1 = Inventory([p1,p2,p3,p4])\n",
    "i1.displayInventory()"
   ]
  },
  {
   "cell_type": "markdown",
   "metadata": {},
   "source": [
    "### 07) Create a Class with instance attributes of your choice."
   ]
  },
  {
   "cell_type": "code",
   "execution_count": null,
   "metadata": {},
   "outputs": [],
   "source": []
  },
  {
   "cell_type": "markdown",
   "metadata": {},
   "source": [
    "### 08) Create one class student_kit\n",
    "#### Within the student_kit class create one class attribute principal name ( Mr ABC )\n",
    "#### Create one attendance method and take input as number of days.\n",
    "#### While creating student take input their name .\n",
    "#### Create one certificate for each student by taking input of number of days present in class."
   ]
  },
  {
   "cell_type": "code",
   "execution_count": null,
   "metadata": {},
   "outputs": [],
   "source": []
  },
  {
   "cell_type": "markdown",
   "metadata": {},
   "source": [
    "### 09) Define Time class with hour and minute as data member. Also define addition method to add two time objects."
   ]
  },
  {
   "cell_type": "code",
   "execution_count": null,
   "metadata": {},
   "outputs": [],
   "source": []
  }
 ],
 "metadata": {
  "kernelspec": {
   "display_name": "Python 3 (ipykernel)",
   "language": "python",
   "name": "python3"
  },
  "language_info": {
   "codemirror_mode": {
    "name": "ipython",
    "version": 3
   },
   "file_extension": ".py",
   "mimetype": "text/x-python",
   "name": "python",
   "nbconvert_exporter": "python",
   "pygments_lexer": "ipython3",
   "version": "3.11.4"
  }
 },
 "nbformat": 4,
 "nbformat_minor": 4
}
