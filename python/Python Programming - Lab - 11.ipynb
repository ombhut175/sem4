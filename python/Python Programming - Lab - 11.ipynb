{
 "cells": [
  {
   "attachments": {},
   "cell_type": "markdown",
   "metadata": {},
   "source": [
    "<a href='https://www.darshan.ac.in/'> <img src='https://www.darshan.ac.in/Content/media/DU_Logo.svg' width=\"250\" height=\"300\"/></a>\n",
    "<pre>\n",
    "<center><b><h1>Python Programming - 2301CS404</b></center>\n",
    "<center><b><h1>Lab - 11</b></center> \n",
    "   <center><b><h1>OM BHUT | 23010101033 | 122</b></center> \n",
    "\n",
    "<pre>"
   ]
  },
  {
   "cell_type": "markdown",
   "metadata": {},
   "source": [
    "# Modules"
   ]
  },
  {
   "cell_type": "markdown",
   "metadata": {},
   "source": [
    "### 01) WAP to create Calculator module which defines functions like add, sub,mul and div. \n",
    "### Create another .py file that uses the functions available in Calculator module."
   ]
  },
  {
   "cell_type": "code",
   "execution_count": null,
   "metadata": {},
   "outputs": [],
   "source": []
  },
  {
   "cell_type": "markdown",
   "metadata": {},
   "source": [
    "### 02) WAP to pick a random character from a given String."
   ]
  },
  {
   "cell_type": "code",
   "execution_count": 2,
   "metadata": {},
   "outputs": [
    {
     "name": "stdout",
     "output_type": "stream",
     "text": [
      "f\n"
     ]
    }
   ],
   "source": [
    "import random\n",
    "\n",
    "s = \"abcdef\"\n",
    "\n",
    "print(random.choice(s))"
   ]
  },
  {
   "cell_type": "markdown",
   "metadata": {},
   "source": [
    "### 03) WAP to pick a random element from a given list."
   ]
  },
  {
   "cell_type": "code",
   "execution_count": 4,
   "metadata": {},
   "outputs": [
    {
     "name": "stdout",
     "output_type": "stream",
     "text": [
      "34\n"
     ]
    }
   ],
   "source": [
    "import random\n",
    "\n",
    "s = [1,34,56,7,4]\n",
    "\n",
    "print(random.choice(s))"
   ]
  },
  {
   "cell_type": "markdown",
   "metadata": {},
   "source": [
    "## 04) WAP to roll a dice in such a way that every time you get the same number."
   ]
  },
  {
   "cell_type": "code",
   "execution_count": 11,
   "metadata": {},
   "outputs": [
    {
     "name": "stdout",
     "output_type": "stream",
     "text": [
      "2\n",
      "1\n",
      "1\n"
     ]
    }
   ],
   "source": [
    "import random\n",
    "\n",
    "random.seed(1)\n",
    "s = random.randint(1,6)\n",
    "print(s)\n",
    "\n",
    "random.seed(2)\n",
    "s = random.randint(1,6)\n",
    "print(s)\n",
    "\n",
    "\n",
    "random.seed(1)\n",
    "s = random.randint(0,6)\n",
    "print(s)\n",
    "\n"
   ]
  },
  {
   "cell_type": "markdown",
   "metadata": {},
   "source": [
    "### 05) WAP to generate 3 random integers between 100 and 999 which is divisible by 5."
   ]
  },
  {
   "cell_type": "code",
   "execution_count": 13,
   "metadata": {},
   "outputs": [
    {
     "name": "stdout",
     "output_type": "stream",
     "text": [
      "885\n",
      "705\n",
      "425\n"
     ]
    }
   ],
   "source": [
    "import random\n",
    "\n",
    "count = 1\n",
    "while count<=3:\n",
    "    n = random.randint(100,999)\n",
    "    if n%5==0:\n",
    "        print(n)\n",
    "        count+=1\n",
    "    "
   ]
  },
  {
   "cell_type": "markdown",
   "metadata": {},
   "source": [
    "### 06) WAP to generate 100 random lottery tickets and pick two lucky tickets from it and announce them as Winner and Runner up respectively."
   ]
  },
  {
   "cell_type": "code",
   "execution_count": 5,
   "metadata": {},
   "outputs": [
    {
     "name": "stdout",
     "output_type": "stream",
     "text": [
      "873 544\n"
     ]
    }
   ],
   "source": [
    "import random\n",
    "t = random.sample(range(100,999),100)\n",
    "ticket1 = random.choice(t)\n",
    "t.remove(ticket1)\n",
    "ticket2 = random.choice(t)\n",
    "print(ticket1,ticket2,sep=\" \")"
   ]
  },
  {
   "cell_type": "markdown",
   "metadata": {},
   "source": [
    "### 07) WAP to print current date and time in Python."
   ]
  },
  {
   "cell_type": "code",
   "execution_count": 19,
   "metadata": {},
   "outputs": [
    {
     "name": "stdout",
     "output_type": "stream",
     "text": [
      "2025-02-19 21:22:36.199047\n"
     ]
    }
   ],
   "source": [
    "from datetime import datetime\n",
    "val = datetime.now()\n",
    "print(val)"
   ]
  },
  {
   "cell_type": "markdown",
   "metadata": {},
   "source": [
    "### 08) Subtract a week (7 days) from a given date in Python."
   ]
  },
  {
   "cell_type": "code",
   "execution_count": 3,
   "metadata": {},
   "outputs": [
    {
     "name": "stdout",
     "output_type": "stream",
     "text": [
      "2025-03-04 18:37:53.423383\n"
     ]
    }
   ],
   "source": [
    "from datetime import datetime,timedelta\n",
    "val = datetime.now() - timedelta(days=7)\n",
    "print(val)"
   ]
  },
  {
   "cell_type": "markdown",
   "metadata": {},
   "source": [
    "### 09) WAP to Calculate number of days between two given dates."
   ]
  },
  {
   "cell_type": "code",
   "execution_count": 2,
   "metadata": {},
   "outputs": [
    {
     "name": "stdout",
     "output_type": "stream",
     "text": [
      "7\n"
     ]
    }
   ],
   "source": [
    "import datetime\n",
    "\n",
    "date1 = datetime.datetime(2025, 2, 19)\n",
    "date2 = datetime.datetime(2025, 2, 26)\n",
    "\n",
    "date_diff = date2 - date1\n",
    "print(date_diff.days)"
   ]
  },
  {
   "cell_type": "markdown",
   "metadata": {},
   "source": [
    "### 10) WAP to Find the day of the week of a given date.(i.e. wether it is sunday/monday/tuesday/etc.)"
   ]
  },
  {
   "cell_type": "code",
   "execution_count": 33,
   "metadata": {},
   "outputs": [
    {
     "name": "stdout",
     "output_type": "stream",
     "text": [
      "Wednesday\n"
     ]
    }
   ],
   "source": [
    "date1 = datetime.now()\n",
    "days_of_week = [\"Monday\", \"Tuesday\", \"Wednesday\", \"Thursday\", \"Friday\", \"Saturday\", \"Sunday\"]\n",
    "\n",
    "dayOfWeek = days_of_week[date1.weekday()]\n",
    "print(dayOfWeek) "
   ]
  },
  {
   "cell_type": "markdown",
   "metadata": {},
   "source": [
    "### 11) WAP to demonstrate the use of date time module."
   ]
  },
  {
   "cell_type": "code",
   "execution_count": 1,
   "metadata": {},
   "outputs": [
    {
     "name": "stdout",
     "output_type": "stream",
     "text": [
      "Current Date and Time: 2025-02-19 21:46:57.961491\n",
      "Today's Date: 2025-02-19\n",
      "Year: 2025, Month: 2, Day: 19\n",
      "Hour: 21, Minute: 46, Second: 57\n",
      "Specific Date: 2025-02-19\n",
      "10 days from Today: 2025-03-01\n",
      "5 days ago: 2025-02-14\n",
      "Formatted Date: Wednesday, February 19, 2025 09:46PM\n"
     ]
    }
   ],
   "source": [
    "import datetime\n",
    "\n",
    "# Get the current date and time\n",
    "now = datetime.datetime.now()\n",
    "print(f\"Current Date and Time: {now}\")\n",
    "\n",
    "# Get today's date\n",
    "today = datetime.date.today()\n",
    "print(f\"Today's Date: {today}\")\n",
    "\n",
    "# Extract specific parts of the date and time\n",
    "year = now.year\n",
    "month = now.month\n",
    "day = now.day\n",
    "hour = now.hour\n",
    "minute = now.minute\n",
    "second = now.second\n",
    "print(f\"Year: {year}, Month: {month}, Day: {day}\")\n",
    "print(f\"Hour: {hour}, Minute: {minute}, Second: {second}\")\n",
    "\n",
    "# Creating a specific date object\n",
    "specific_date = datetime.date(2025, 2, 19)\n",
    "print(f\"Specific Date: {specific_date}\")\n",
    "\n",
    "# Add 10 days to the current date\n",
    "future_date = today + datetime.timedelta(days=10)\n",
    "print(f\"10 days from Today: {future_date}\")\n",
    "\n",
    "# Subtract 5 days from the current date\n",
    "past_date = today - datetime.timedelta(days=5)\n",
    "print(f\"5 days ago: {past_date}\")\n",
    "\n",
    "# Format a date into a string\n",
    "formatted_date = now.strftime(\"%A, %B %d, %Y %I:%M%p\")\n",
    "print(f\"Formatted Date: {formatted_date}\")\n"
   ]
  },
  {
   "cell_type": "markdown",
   "metadata": {},
   "source": [
    "### 12) WAP to demonstrate the use of the math module."
   ]
  },
  {
   "cell_type": "code",
   "execution_count": 2,
   "metadata": {},
   "outputs": [
    {
     "name": "stdout",
     "output_type": "stream",
     "text": [
      "Value of Pi: 3.141592653589793\n",
      "Square root of 16: 4.0\n",
      "2 raised to the power of 3: 8.0\n",
      "Sine of 45 degrees: 0.7071067811865476\n",
      "Cosine of 45 degrees: 0.7071067811865476\n",
      "Logarithm of 100 to the base 10: 2.0\n",
      "Factorial of 5: 120\n",
      "Absolute value of -7: 7.0\n",
      "4.567 rounded to 2 decimal places: 4.57\n",
      "GCD of 36 and 60: 12\n",
      "0.7853981633974483 radians is equal to 45.0 degrees\n"
     ]
    }
   ],
   "source": [
    "import math\n",
    "\n",
    "# 1. Getting the value of pi\n",
    "pi_value = math.pi\n",
    "print(f\"Value of Pi: {pi_value}\")\n",
    "\n",
    "# 2. Square root of a number\n",
    "num = 16\n",
    "sqrt_value = math.sqrt(num)\n",
    "print(f\"Square root of {num}: {sqrt_value}\")\n",
    "\n",
    "# 3. Power of a number\n",
    "base = 2\n",
    "exponent = 3\n",
    "power_value = math.pow(base, exponent)\n",
    "print(f\"{base} raised to the power of {exponent}: {power_value}\")\n",
    "\n",
    "# 4. Trigonometric functions\n",
    "angle_deg = 45  # degrees\n",
    "angle_rad = math.radians(angle_deg)  # Convert degrees to radians\n",
    "sin_value = math.sin(angle_rad)\n",
    "cos_value = math.cos(angle_rad)\n",
    "print(f\"Sine of {angle_deg} degrees: {sin_value}\")\n",
    "print(f\"Cosine of {angle_deg} degrees: {cos_value}\")\n",
    "\n",
    "# 5. Logarithmic functions\n",
    "log_value = math.log(100, 10)  # log base 10\n",
    "print(f\"Logarithm of 100 to the base 10: {log_value}\")\n",
    "\n",
    "# 6. Factorial of a number\n",
    "fact_value = math.factorial(5)\n",
    "print(f\"Factorial of 5: {fact_value}\")\n",
    "\n",
    "# 7. Absolute value\n",
    "neg_num = -7\n",
    "abs_value = math.fabs(neg_num)\n",
    "print(f\"Absolute value of {neg_num}: {abs_value}\")\n",
    "\n",
    "# 8. Rounding a number\n",
    "number = 4.567\n",
    "rounded_value = round(number, 2)\n",
    "print(f\"{number} rounded to 2 decimal places: {rounded_value}\")\n",
    "\n",
    "# 9. Greatest common divisor (GCD)\n",
    "gcd_value = math.gcd(36, 60)\n",
    "print(f\"GCD of 36 and 60: {gcd_value}\")\n",
    "\n",
    "# 10. Converting radians to degrees\n",
    "radian_value = math.pi / 4\n",
    "degree_value = math.degrees(radian_value)\n",
    "print(f\"{radian_value} radians is equal to {degree_value} degrees\")"
   ]
  }
 ],
 "metadata": {
  "kernelspec": {
   "display_name": "base",
   "language": "python",
   "name": "python3"
  },
  "language_info": {
   "codemirror_mode": {
    "name": "ipython",
    "version": 3
   },
   "file_extension": ".py",
   "mimetype": "text/x-python",
   "name": "python",
   "nbconvert_exporter": "python",
   "pygments_lexer": "ipython3",
   "version": "3.12.3"
  }
 },
 "nbformat": 4,
 "nbformat_minor": 4
}
