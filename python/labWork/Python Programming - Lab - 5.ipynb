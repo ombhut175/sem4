{
 "cells": [
  {
   "cell_type": "markdown",
   "metadata": {},
   "source": [
    "\n",
    "<a href='https://www.darshan.ac.in/'> <img src='https://www.darshan.ac.in/Content/media/DU_Logo.svg' width=\"250\" height=\"300\"/></a>\n",
    "<pre>\n",
    "<center><b><h1>Python Programming - 2301CS404</b></center>\n",
    "<center><b><h1>OM BHUT</b></center> \n",
    "   <center><b><h1>OM BHUT | 23010101033 | 122</b></center> \n",
    "<pre>"
   ]
  },
  {
   "cell_type": "markdown",
   "metadata": {},
   "source": [
    "# List"
   ]
  },
  {
   "cell_type": "markdown",
   "metadata": {},
   "source": [
    "### 01) WAP to find sum of all the elements in a List."
   ]
  },
  {
   "cell_type": "code",
   "execution_count": 3,
   "metadata": {},
   "outputs": [
    {
     "name": "stdout",
     "output_type": "stream",
     "text": [
      "53\n"
     ]
    }
   ],
   "source": [
    "l1 = [3,15,23,12]\n",
    "ans = sum(l1)\n",
    "print(ans)"
   ]
  },
  {
   "cell_type": "markdown",
   "metadata": {},
   "source": [
    "### 02) WAP to find largest element in a List."
   ]
  },
  {
   "cell_type": "code",
   "execution_count": 4,
   "metadata": {},
   "outputs": [
    {
     "name": "stdout",
     "output_type": "stream",
     "text": [
      "23\n"
     ]
    }
   ],
   "source": [
    "l1 = [3,15,23,12]\n",
    "ans = max(l1)\n",
    "print(ans)"
   ]
  },
  {
   "cell_type": "markdown",
   "metadata": {},
   "source": [
    "### 03) WAP to find the length of a List."
   ]
  },
  {
   "cell_type": "code",
   "execution_count": 5,
   "metadata": {},
   "outputs": [
    {
     "name": "stdout",
     "output_type": "stream",
     "text": [
      "4\n"
     ]
    }
   ],
   "source": [
    "l1 = [3,15,23,12]\n",
    "ans = len(l1)\n",
    "print(ans)"
   ]
  },
  {
   "cell_type": "markdown",
   "metadata": {},
   "source": [
    "### 04) WAP to interchange first and last elements in a list."
   ]
  },
  {
   "cell_type": "code",
   "execution_count": 9,
   "metadata": {},
   "outputs": [
    {
     "name": "stdout",
     "output_type": "stream",
     "text": [
      "[12, 15, 23, 3]\n"
     ]
    }
   ],
   "source": [
    "l1 = [3,15,23,12]\n",
    "n = len(l1)-1\n",
    "l1[0],l1[n] = l1[n],l1[0]\n",
    "print(l1)"
   ]
  },
  {
   "cell_type": "markdown",
   "metadata": {},
   "source": [
    "### 05) WAP to split the List into two parts and append the first part to the end."
   ]
  },
  {
   "cell_type": "code",
   "execution_count": null,
   "metadata": {},
   "outputs": [
    {
     "name": "stdout",
     "output_type": "stream",
     "text": [
      "[23, 12, 3, 15]\n"
     ]
    }
   ],
   "source": [
    "l1 = [3,15,23,12]\n",
    "n = len(l1)//2\n",
    "first,last = l1[:n], l1[n:]\n",
    "last.extend(first)\n",
    "print(last)"
   ]
  },
  {
   "cell_type": "markdown",
   "metadata": {},
   "source": [
    "### 06) WAP to interchange the elements on two positions entered by a user."
   ]
  },
  {
   "cell_type": "code",
   "execution_count": 20,
   "metadata": {},
   "outputs": [
    {
     "name": "stdout",
     "output_type": "stream",
     "text": [
      "[3, 23, 15, 12]\n"
     ]
    }
   ],
   "source": [
    "a = int(input(\"enter first index\"))\n",
    "b = int(input(\"enter second index\"))\n",
    "l1 = [3,15,23,12]\n",
    "l1[a],l1[b] = l1[b],l1[a]\n",
    "print(l1)"
   ]
  },
  {
   "cell_type": "markdown",
   "metadata": {},
   "source": [
    "### 07) WAP to reverse the list entered by user."
   ]
  },
  {
   "cell_type": "code",
   "execution_count": 3,
   "metadata": {},
   "outputs": [
    {
     "name": "stdout",
     "output_type": "stream",
     "text": [
      "[8, 7, 6, 5, 4, 3, 2, 1]\n"
     ]
    }
   ],
   "source": [
    "# l1 = input(\"enter space seperated values\").split()\n",
    "l1 = [1,2,3,4,5,6,7,8]\n",
    "l1 = reversed(l1)\n",
    "# l1 = [int(i) for i in l1]\n",
    "l1 = list(l1)\n",
    "print(l1)"
   ]
  },
  {
   "cell_type": "markdown",
   "metadata": {},
   "source": [
    "### 08) WAP to print even numbers in a list."
   ]
  },
  {
   "cell_type": "code",
   "execution_count": 32,
   "metadata": {},
   "outputs": [
    {
     "name": "stdout",
     "output_type": "stream",
     "text": [
      "[12, 24]\n"
     ]
    }
   ],
   "source": [
    "l1 = [3,15,23,12,24]\n",
    "l2 = filter(lambda x : x%2==0,l1)\n",
    "print(list(l2))\n"
   ]
  },
  {
   "cell_type": "markdown",
   "metadata": {},
   "source": [
    "### 09) WAP to count unique items in a list."
   ]
  },
  {
   "cell_type": "code",
   "execution_count": 39,
   "metadata": {},
   "outputs": [
    {
     "name": "stdout",
     "output_type": "stream",
     "text": [
      "[23, 12, 24]\n"
     ]
    }
   ],
   "source": [
    "l1 = [3,3,3,3,15,15,23,12,24]\n",
    "# ans = []\n",
    "# for i in l1:\n",
    "#     if(i not in ans):\n",
    "#         ans.append(i)\n",
    "# print(ans)\n",
    "dict = {}\n",
    "for i in l1:\n",
    "    if(i in dict):\n",
    "        dict[i] += 1\n",
    "    else:\n",
    "        dict[i] = 1\n",
    "# print(dict)\n",
    "ans = []\n",
    "for key,value in dict.items():\n",
    "    if value==1:\n",
    "        ans.append(key)\n",
    "print(ans)"
   ]
  },
  {
   "cell_type": "markdown",
   "metadata": {},
   "source": [
    "### 10) WAP to copy a list."
   ]
  },
  {
   "cell_type": "code",
   "execution_count": 40,
   "metadata": {},
   "outputs": [
    {
     "name": "stdout",
     "output_type": "stream",
     "text": [
      "[3, 15, 23, 12, 24]\n"
     ]
    }
   ],
   "source": [
    "l1 = [3,15,23,12,24]\n",
    "l2 = l1.copy()\n",
    "print(l2)"
   ]
  },
  {
   "cell_type": "markdown",
   "metadata": {},
   "source": [
    "### 11) WAP to print all odd numbers in a given range."
   ]
  },
  {
   "cell_type": "code",
   "execution_count": 43,
   "metadata": {},
   "outputs": [
    {
     "name": "stdout",
     "output_type": "stream",
     "text": [
      "3\n",
      "6\n",
      "9\n"
     ]
    }
   ],
   "source": [
    "a = int(input(\"enter first\"))\n",
    "b = int(input(\"enter second\"))\n",
    "for i in range(a,b):\n",
    "    if i%3==0:\n",
    "        print(i)\n",
    "        "
   ]
  },
  {
   "cell_type": "markdown",
   "metadata": {},
   "source": [
    "### 12) WAP to count occurrences of an element in a list."
   ]
  },
  {
   "cell_type": "code",
   "execution_count": 44,
   "metadata": {},
   "outputs": [
    {
     "name": "stdout",
     "output_type": "stream",
     "text": [
      "{3: 4, 15: 2, 23: 1, 12: 1, 24: 1}\n"
     ]
    }
   ],
   "source": [
    "l1 = [3,3,3,3,15,15,23,12,24]\n",
    "dict = {}\n",
    "for i in l1:\n",
    "    if(i in dict):\n",
    "        dict[i] += 1\n",
    "    else:\n",
    "        dict[i] = 1\n",
    "print(dict)"
   ]
  },
  {
   "cell_type": "markdown",
   "metadata": {},
   "source": [
    "### 13) WAP to find second largest number in a list."
   ]
  },
  {
   "cell_type": "code",
   "execution_count": 61,
   "metadata": {},
   "outputs": [
    {
     "name": "stdout",
     "output_type": "stream",
     "text": [
      "23\n"
     ]
    }
   ],
   "source": [
    "l1 = [3,15,23,12,24]\n",
    "largest = max(l1)\n",
    "l1 = filter(lambda x: x<largest,l1)\n",
    "l1 = list(l1)\n",
    "print(max(l1))"
   ]
  },
  {
   "cell_type": "markdown",
   "metadata": {},
   "source": [
    "### 14) WAP to extract elements with frequency greater than K."
   ]
  },
  {
   "cell_type": "code",
   "execution_count": 63,
   "metadata": {},
   "outputs": [
    {
     "name": "stdout",
     "output_type": "stream",
     "text": [
      "[3]\n"
     ]
    }
   ],
   "source": [
    "k = int(input(\"enter frequency\"))\n",
    "l1 = [3,3,3,3,15,15,23,12,24]\n",
    "dict = {}\n",
    "for i in l1:\n",
    "    if(i in dict):\n",
    "        dict[i] += 1\n",
    "    else:\n",
    "        dict[i] = 1\n",
    "ans = []\n",
    "for key,value in dict.items():\n",
    "    if value>=k:\n",
    "        ans.append(key)\n",
    "print(ans)"
   ]
  },
  {
   "cell_type": "markdown",
   "metadata": {},
   "source": [
    "### 15) WAP to create a list of squared numbers from 0 to 9 with and without using List Comprehension."
   ]
  },
  {
   "cell_type": "code",
   "execution_count": 65,
   "metadata": {},
   "outputs": [
    {
     "name": "stdout",
     "output_type": "stream",
     "text": [
      "[9, 225, 529, 144, 576]\n"
     ]
    }
   ],
   "source": [
    "l1 = [3,15,23,12,24]\n",
    "l1 = map(lambda x: x**2,l1)\n",
    "print(list(l1))"
   ]
  },
  {
   "cell_type": "markdown",
   "metadata": {},
   "source": [
    "### 16) WAP to create a new list (fruit whose name starts with 'b') from the list of fruits given by user."
   ]
  },
  {
   "cell_type": "code",
   "execution_count": 67,
   "metadata": {},
   "outputs": [
    {
     "name": "stdout",
     "output_type": "stream",
     "text": [
      "['banana', 'bonanaza']\n"
     ]
    }
   ],
   "source": [
    "l1 = ['banana','apple','bonanaza']\n",
    "l2 = filter(lambda x:x[0]=='b',l1)\n",
    "print(list(l2))"
   ]
  },
  {
   "cell_type": "markdown",
   "metadata": {},
   "source": [
    "### 17) WAP to create a list of common elements from given two lists."
   ]
  },
  {
   "cell_type": "code",
   "execution_count": 72,
   "metadata": {},
   "outputs": [
    {
     "name": "stdout",
     "output_type": "stream",
     "text": [
      "{3, 4}\n"
     ]
    }
   ],
   "source": [
    "l1 = [3,3,4,7,12,4]\n",
    "l2 = [3,4,5,9]\n",
    "s1 = set(l1)\n",
    "s2 = set(l2)\n",
    "print(s1.intersection(s2))"
   ]
  }
 ],
 "metadata": {
  "kernelspec": {
   "display_name": "base",
   "language": "python",
   "name": "python3"
  },
  "language_info": {
   "codemirror_mode": {
    "name": "ipython",
    "version": 3
   },
   "file_extension": ".py",
   "mimetype": "text/x-python",
   "name": "python",
   "nbconvert_exporter": "python",
   "pygments_lexer": "ipython3",
   "version": "3.12.3"
  }
 },
 "nbformat": 4,
 "nbformat_minor": 4
}
