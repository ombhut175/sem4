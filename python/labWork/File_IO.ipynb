{
 "cells": [
  {
   "cell_type": "markdown",
   "id": "148462b2-c0c9-4dae-9e30-569c4271c1fd",
   "metadata": {},
   "source": [
    "## Opening a file"
   ]
  },
  {
   "cell_type": "code",
   "execution_count": 2,
   "id": "3566af8d-110b-4f64-85ad-ea3ebaa5cc0a",
   "metadata": {},
   "outputs": [],
   "source": [
    "# MyData.txt\n",
    "# This is a Test file.\n",
    "# It is stored in hard disk.\n",
    "# Files will have their names.\n",
    "# They are accessed using their names."
   ]
  },
  {
   "cell_type": "code",
   "execution_count": 3,
   "id": "c67eb560-2c53-4375-b7b1-066da86f0fca",
   "metadata": {},
   "outputs": [],
   "source": [
    "fp = open(\"MyData.txt\") #default is read mode, returns a file object"
   ]
  },
  {
   "cell_type": "code",
   "execution_count": 4,
   "id": "1980cb3d-6773-414c-8ae3-f336704561b7",
   "metadata": {},
   "outputs": [
    {
     "name": "stdout",
     "output_type": "stream",
     "text": [
      "<class '_io.TextIOWrapper'>\n"
     ]
    }
   ],
   "source": [
    "print(type(fp)) # this object belongs to TextIOWrapper class "
   ]
  },
  {
   "cell_type": "code",
   "execution_count": 8,
   "id": "3791fc1d-d1fc-4d45-83cc-be63273b5a23",
   "metadata": {},
   "outputs": [
    {
     "name": "stdout",
     "output_type": "stream",
     "text": [
      "<_io.TextIOWrapper name='MyData.txt' mode='r' encoding='cp1252'>\n"
     ]
    }
   ],
   "source": [
    "print(fp) # iterable object"
   ]
  },
  {
   "cell_type": "code",
   "execution_count": 10,
   "id": "5de1eefd-0154-4edd-bba9-f0667a3f7526",
   "metadata": {},
   "outputs": [
    {
     "name": "stdout",
     "output_type": "stream",
     "text": [
      "Hello Students\n"
     ]
    }
   ],
   "source": [
    "for i in fp:\n",
    "    print(i)"
   ]
  },
  {
   "cell_type": "code",
   "execution_count": 12,
   "id": "4cf51e83-5ea6-4dc9-ad63-5b712d3d9f66",
   "metadata": {},
   "outputs": [],
   "source": [
    "fp.close() # Closing the file which was openned"
   ]
  },
  {
   "cell_type": "markdown",
   "id": "84ea4730-83de-447d-8b67-69c1bd5262c5",
   "metadata": {},
   "source": [
    "### open a file not stored in the current working directory"
   ]
  },
  {
   "cell_type": "code",
   "execution_count": 15,
   "id": "30845e96-76ae-48ef-8050-e84dd5360437",
   "metadata": {},
   "outputs": [
    {
     "ename": "SyntaxError",
     "evalue": "(unicode error) 'unicodeescape' codec can't decode bytes in position 2-3: truncated \\UXXXXXXXX escape (2574295987.py, line 1)",
     "output_type": "error",
     "traceback": [
      "\u001b[1;36m  Cell \u001b[1;32mIn[15], line 1\u001b[1;36m\u001b[0m\n\u001b[1;33m    fp = open(\"C:\\Users\\mania\\OneDrive\\Desktop\\abc.txt\") #absolute path - path from the root directory\u001b[0m\n\u001b[1;37m              ^\u001b[0m\n\u001b[1;31mSyntaxError\u001b[0m\u001b[1;31m:\u001b[0m (unicode error) 'unicodeescape' codec can't decode bytes in position 2-3: truncated \\UXXXXXXXX escape\n"
     ]
    }
   ],
   "source": [
    "fp = open(\"C:\\Users\\mania\\OneDrive\\Desktop\\abc.txt\") #absolute path - path from the root directory\n",
    "print(fp.read())\n",
    "fp.close()"
   ]
  },
  {
   "cell_type": "code",
   "execution_count": 17,
   "id": "e7e650b1-32e8-4218-8b4d-693c13533936",
   "metadata": {},
   "outputs": [
    {
     "name": "stdout",
     "output_type": "stream",
     "text": [
      "This file is stored on desktop.\n"
     ]
    }
   ],
   "source": [
    "fp = open(\"C:\\\\Users\\\\mania\\\\OneDrive\\\\Desktop\\\\abc.txt\") #absolute path - path from the root directory\n",
    "print(fp.read())\n",
    "fp.close()"
   ]
  },
  {
   "cell_type": "markdown",
   "id": "9300e73d-3b18-46d8-9c9c-7ad93960af3b",
   "metadata": {},
   "source": [
    "## Reading a file"
   ]
  },
  {
   "cell_type": "markdown",
   "id": "2e41a129-14de-42d3-9b0c-1f537305070a",
   "metadata": {},
   "source": [
    "### read(): read the whole file, returns a string"
   ]
  },
  {
   "cell_type": "code",
   "execution_count": 21,
   "id": "e930b518-320e-4ed1-b025-13cdb972c05f",
   "metadata": {},
   "outputs": [
    {
     "name": "stdout",
     "output_type": "stream",
     "text": [
      "Hello Students\n",
      "<class 'str'>\n"
     ]
    }
   ],
   "source": [
    "fp = open(\"MyData.txt\",\"r\")\n",
    "str1 = fp.read()\n",
    "print(str1)\n",
    "print(type(str1))\n",
    "fp.close()"
   ]
  },
  {
   "cell_type": "code",
   "execution_count": 23,
   "id": "6ba056c7-c06e-403e-a975-e2ae7d2ad2ef",
   "metadata": {},
   "outputs": [
    {
     "name": "stdout",
     "output_type": "stream",
     "text": [
      "Hello \n",
      "Students\n"
     ]
    }
   ],
   "source": [
    "fp = open(\"MyData.txt\",\"r\")\n",
    "str1 = fp.read(6)  #read(n) : n number of characters need to read\n",
    "print(str1)\n",
    "str1 = fp.read(10)\n",
    "print(str1)\n",
    "fp.close()"
   ]
  },
  {
   "cell_type": "markdown",
   "id": "00abb259-6cf0-429d-a46d-9de99b59a95b",
   "metadata": {},
   "source": [
    "### readline() : reads a line (read characters till \\n is encountered)"
   ]
  },
  {
   "cell_type": "code",
   "execution_count": 26,
   "id": "829171d2-29c2-46a8-983d-7aac1bbe7e14",
   "metadata": {},
   "outputs": [
    {
     "name": "stdout",
     "output_type": "stream",
     "text": [
      "Hello Students\n"
     ]
    }
   ],
   "source": [
    "fp = open(\"MyData.txt\",\"r\")\n",
    "line1 = fp.readline()\n",
    "print(line1, end=\"\")\n",
    "# print(type(line1))\n",
    "line2 = fp.readline()\n",
    "print(line2,end=\"\")\n",
    "line3 = fp.readline()\n",
    "print(line3,end=\"\")\n",
    "print(fp.read())\n",
    "fp.close()"
   ]
  },
  {
   "cell_type": "markdown",
   "id": "36e0ce01-125b-4ebf-bf9a-43a4ee023e5e",
   "metadata": {},
   "source": [
    "### readlines() : reads the whole file and returns the list of all the lines."
   ]
  },
  {
   "cell_type": "code",
   "execution_count": 29,
   "id": "28310365-9570-4852-afea-a94cf84fae5f",
   "metadata": {},
   "outputs": [
    {
     "name": "stdout",
     "output_type": "stream",
     "text": [
      "['Hello Students']\n"
     ]
    }
   ],
   "source": [
    "fp = open(\"MyData.txt\",\"r\")\n",
    "li = fp.readlines()\n",
    "print(li)\n",
    "fp.close()"
   ]
  },
  {
   "cell_type": "code",
   "execution_count": 31,
   "id": "e8d30162-05a9-4e0f-8dd3-bc8adf93a08a",
   "metadata": {},
   "outputs": [
    {
     "name": "stdout",
     "output_type": "stream",
     "text": [
      "Hello Students"
     ]
    }
   ],
   "source": [
    "fp = open(\"MyData.txt\",\"r\")\n",
    "li = fp.readlines()\n",
    "for i in li:\n",
    "    print(i, end=\"\")\n",
    "fp.close()"
   ]
  },
  {
   "cell_type": "markdown",
   "id": "760488b1-d05e-40e7-bf6a-fb32723eaac3",
   "metadata": {},
   "source": [
    "### Properties of file object"
   ]
  },
  {
   "cell_type": "code",
   "execution_count": 34,
   "id": "311b569f-152a-4e2e-929b-29e9f76dcb86",
   "metadata": {},
   "outputs": [
    {
     "data": {
      "text/plain": [
       "'MyData.txt'"
      ]
     },
     "execution_count": 34,
     "metadata": {},
     "output_type": "execute_result"
    }
   ],
   "source": [
    "fp.name"
   ]
  },
  {
   "cell_type": "code",
   "execution_count": 36,
   "id": "949fb735-82a0-483e-aaac-64cbd92410cd",
   "metadata": {},
   "outputs": [
    {
     "data": {
      "text/plain": [
       "True"
      ]
     },
     "execution_count": 36,
     "metadata": {},
     "output_type": "execute_result"
    }
   ],
   "source": [
    "fp.closed"
   ]
  },
  {
   "cell_type": "code",
   "execution_count": 38,
   "id": "71f41dee-9ce7-4465-bc85-35527462a2e8",
   "metadata": {},
   "outputs": [
    {
     "data": {
      "text/plain": [
       "'r'"
      ]
     },
     "execution_count": 38,
     "metadata": {},
     "output_type": "execute_result"
    }
   ],
   "source": [
    "fp.mode"
   ]
  },
  {
   "cell_type": "markdown",
   "id": "086c5f87-2f3d-4ce7-b1bd-716ed8160cab",
   "metadata": {},
   "source": [
    "## Error handling using with "
   ]
  },
  {
   "cell_type": "code",
   "execution_count": 41,
   "id": "1ff345f1-6f97-4d4b-8760-ce2fb3cd46c3",
   "metadata": {},
   "outputs": [
    {
     "name": "stdout",
     "output_type": "stream",
     "text": [
      "Hello Students\n"
     ]
    },
    {
     "ename": "ZeroDivisionError",
     "evalue": "division by zero",
     "output_type": "error",
     "traceback": [
      "\u001b[1;31m---------------------------------------------------------------------------\u001b[0m",
      "\u001b[1;31mZeroDivisionError\u001b[0m                         Traceback (most recent call last)",
      "Cell \u001b[1;32mIn[41], line 3\u001b[0m\n\u001b[0;32m      1\u001b[0m fp \u001b[38;5;241m=\u001b[39m \u001b[38;5;28mopen\u001b[39m(\u001b[38;5;124m\"\u001b[39m\u001b[38;5;124mMyData.txt\u001b[39m\u001b[38;5;124m\"\u001b[39m,\u001b[38;5;124m\"\u001b[39m\u001b[38;5;124mr\u001b[39m\u001b[38;5;124m\"\u001b[39m)\n\u001b[0;32m      2\u001b[0m \u001b[38;5;28mprint\u001b[39m(fp\u001b[38;5;241m.\u001b[39mread())\n\u001b[1;32m----> 3\u001b[0m \u001b[38;5;28mprint\u001b[39m(\u001b[38;5;241m10\u001b[39m\u001b[38;5;241m/\u001b[39m\u001b[38;5;241m0\u001b[39m)\n\u001b[0;32m      4\u001b[0m fp\u001b[38;5;241m.\u001b[39mclose()\n",
      "\u001b[1;31mZeroDivisionError\u001b[0m: division by zero"
     ]
    }
   ],
   "source": [
    "fp = open(\"MyData.txt\",\"r\")\n",
    "print(fp.read())\n",
    "print(10/0)\n",
    "fp.close()"
   ]
  },
  {
   "cell_type": "code",
   "execution_count": 43,
   "id": "c75f6a0b-e57a-44eb-8ed2-839014dc0c1d",
   "metadata": {},
   "outputs": [
    {
     "data": {
      "text/plain": [
       "False"
      ]
     },
     "execution_count": 43,
     "metadata": {},
     "output_type": "execute_result"
    }
   ],
   "source": [
    "fp.closed  #as before closing the file, the ZeroDivisionError has occured"
   ]
  },
  {
   "cell_type": "code",
   "execution_count": 45,
   "id": "0a431884-03b5-446d-9a9b-31c987092ada",
   "metadata": {},
   "outputs": [
    {
     "name": "stdout",
     "output_type": "stream",
     "text": [
      "Hello Students\n"
     ]
    },
    {
     "ename": "ZeroDivisionError",
     "evalue": "division by zero",
     "output_type": "error",
     "traceback": [
      "\u001b[1;31m---------------------------------------------------------------------------\u001b[0m",
      "\u001b[1;31mZeroDivisionError\u001b[0m                         Traceback (most recent call last)",
      "Cell \u001b[1;32mIn[45], line 3\u001b[0m\n\u001b[0;32m      1\u001b[0m \u001b[38;5;28;01mwith\u001b[39;00m \u001b[38;5;28mopen\u001b[39m(\u001b[38;5;124m\"\u001b[39m\u001b[38;5;124mMyData.txt\u001b[39m\u001b[38;5;124m\"\u001b[39m,\u001b[38;5;124m\"\u001b[39m\u001b[38;5;124mr\u001b[39m\u001b[38;5;124m\"\u001b[39m) \u001b[38;5;28;01mas\u001b[39;00m fp:\n\u001b[0;32m      2\u001b[0m     \u001b[38;5;28mprint\u001b[39m(fp\u001b[38;5;241m.\u001b[39mread())\n\u001b[1;32m----> 3\u001b[0m     \u001b[38;5;28mprint\u001b[39m(\u001b[38;5;241m10\u001b[39m\u001b[38;5;241m/\u001b[39m\u001b[38;5;241m0\u001b[39m)\n\u001b[0;32m      4\u001b[0m     fp\u001b[38;5;241m.\u001b[39mclose()\n",
      "\u001b[1;31mZeroDivisionError\u001b[0m: division by zero"
     ]
    }
   ],
   "source": [
    "with open(\"MyData.txt\",\"r\") as fp:\n",
    "    print(fp.read())\n",
    "    print(10/0)\n",
    "    fp.close()"
   ]
  },
  {
   "cell_type": "code",
   "execution_count": 47,
   "id": "e385b351-fbd1-464a-b0d9-24ba2240ce5a",
   "metadata": {},
   "outputs": [
    {
     "data": {
      "text/plain": [
       "True"
      ]
     },
     "execution_count": 47,
     "metadata": {},
     "output_type": "execute_result"
    }
   ],
   "source": [
    "fp.closed #The same error has occured here, but the file has been closed automaticaly."
   ]
  },
  {
   "cell_type": "markdown",
   "id": "d0396698-251a-410c-a5cd-ec76dcb21ae7",
   "metadata": {},
   "source": [
    "## writing to a file"
   ]
  },
  {
   "cell_type": "markdown",
   "id": "fa176665-5760-4b44-bade-8f4a296dba32",
   "metadata": {},
   "source": [
    "### write() : write a string to the file"
   ]
  },
  {
   "cell_type": "code",
   "execution_count": 51,
   "id": "82598a87-0b7d-4f8d-a52b-1b8b33c4f3cd",
   "metadata": {},
   "outputs": [],
   "source": [
    "fp = open(\"file1.txt\",\"w\") # create and opens a file1.txt for writing \n",
    "s1 = \"Hello Students\"      \n",
    "fp.write(s1)\n",
    "fp.close()"
   ]
  },
  {
   "cell_type": "code",
   "execution_count": 53,
   "id": "c0edc463-39b8-4791-8334-9eefc21af1d6",
   "metadata": {},
   "outputs": [],
   "source": [
    "fp = open(\"MyData.txt\",\"w\") # opens a MyData.txt for writing \n",
    "s1 = \"Hello Students\"      \n",
    "fp.write(s1)                # overwrites with s1 string \n",
    "fp.close()"
   ]
  },
  {
   "cell_type": "markdown",
   "id": "2813d05b-0f35-47a3-8340-6422a6dd71c2",
   "metadata": {},
   "source": [
    "### writelines(list/tuple/set) "
   ]
  },
  {
   "cell_type": "code",
   "execution_count": 56,
   "id": "5d226b2f-fd11-448f-a0dd-9078c38156ce",
   "metadata": {},
   "outputs": [],
   "source": [
    "li = ['This is a Test file.\\n', 'It is stored in hard disk.\\n', 'Files will have their names.\\n', 'They are accessed using their names.']\n",
    "fp = open(\"file2.txt\",\"w\")\n",
    "fp.writelines(li)\n",
    "fp.close()"
   ]
  },
  {
   "cell_type": "markdown",
   "id": "c71beadc-7785-43a1-81fe-63a9dee2d2ba",
   "metadata": {},
   "source": [
    "## File opening modes (r, w, a, r+, w+, a+, x) : Text Files"
   ]
  },
  {
   "cell_type": "markdown",
   "id": "a47ef4e6-de53-40ad-9322-93c18949e2cf",
   "metadata": {},
   "source": [
    "### Read (\"r\"): \n",
    "#### Opens a file for reading. The file must exist, otherwise, an error is raised."
   ]
  },
  {
   "cell_type": "code",
   "execution_count": 60,
   "id": "743abe2d-dd58-48a9-9366-17992fc4df40",
   "metadata": {},
   "outputs": [],
   "source": [
    "with open('file1.txt', 'r') as file:\n",
    "    content = file.read()"
   ]
  },
  {
   "cell_type": "markdown",
   "id": "3607ba85-eb5f-458a-867e-8da406c7a773",
   "metadata": {},
   "source": [
    "### Write (\"w\"): \n",
    "#### Opens a file for writing. \n",
    "#### If the file doesn't exist, it is created. If it does exist, its content is truncated and overwritten by the new content."
   ]
  },
  {
   "cell_type": "code",
   "execution_count": 63,
   "id": "2002b5f3-f5a9-407d-a7e0-b31cd1ea563e",
   "metadata": {},
   "outputs": [],
   "source": [
    "with open('file1.txt', 'w') as file:\n",
    "    file.write('Hello, world!')"
   ]
  },
  {
   "cell_type": "markdown",
   "id": "b9c91292-798d-4080-bbf8-c69ff140373f",
   "metadata": {},
   "source": [
    "### Append (\"a\"): \n",
    "#### Opens a file for appending. \n",
    "#### If the file doesn't exist, it is created. If it exists, new data is written at the end of the file."
   ]
  },
  {
   "cell_type": "code",
   "execution_count": 66,
   "id": "cd78c91e-6988-45aa-a584-ed9c2b65a70c",
   "metadata": {},
   "outputs": [],
   "source": [
    "with open('file1.txt', 'a') as file:\n",
    "    file.write('\\nAppend this line.')"
   ]
  },
  {
   "cell_type": "markdown",
   "id": "81aeaf57-6d5b-47e7-91c7-df4ed1b69096",
   "metadata": {},
   "source": [
    "### Read and Write (\"r+\"): \n",
    "#### Opens a file for both reading and writing. \n",
    "#### The file must exist."
   ]
  },
  {
   "cell_type": "code",
   "execution_count": 69,
   "id": "02d0e891-2ff1-409b-b31c-43f8d087eeda",
   "metadata": {},
   "outputs": [],
   "source": [
    "with open('file1.txt', 'r+') as file:\n",
    "    content = file.read()\n",
    "    file.write('Adding more content.')"
   ]
  },
  {
   "cell_type": "markdown",
   "id": "47c887c3-9203-446c-92e3-6518e20a819a",
   "metadata": {},
   "source": [
    "### Write and Read (\"w+\"): \n",
    "#### Opens a file for both writing and reading. \n",
    "#### If the file doesn't exist, it is created. If it exists, its content is truncated."
   ]
  },
  {
   "cell_type": "code",
   "execution_count": 72,
   "id": "60382bc1-4df8-41a0-874d-dc19998e98e1",
   "metadata": {},
   "outputs": [],
   "source": [
    "with open('file1.txt', 'w+') as file:\n",
    "    file.write('Start fresh.')\n",
    "    file.seek(0)\n",
    "    content = file.read()"
   ]
  },
  {
   "cell_type": "markdown",
   "id": "c9eb9cdf-2994-4887-afb9-7bed966be293",
   "metadata": {},
   "source": [
    "### Append and Read (\"a+\"): \n",
    "#### Opens a file for both appending and reading. \n",
    "#### If the file doesn't exist, it is created."
   ]
  },
  {
   "cell_type": "code",
   "execution_count": 75,
   "id": "61e4a075-93d2-4e1d-99a4-a931615ad437",
   "metadata": {},
   "outputs": [],
   "source": [
    "with open('file1.txt', 'a+') as file:\n",
    "    file.write('\\nAdd this at the end.')\n",
    "    file.seek(0)\n",
    "    content = file.read()"
   ]
  },
  {
   "cell_type": "markdown",
   "id": "00a86439-b07f-4b68-a01b-d33266bd8d36",
   "metadata": {},
   "source": [
    "### Exclusive (\"x\"):\n",
    "#### creates a new file and opens it for writing. \n",
    "#### If the file already exists, the open() function will raise a FileExistsError."
   ]
  },
  {
   "cell_type": "code",
   "execution_count": 78,
   "id": "ae74999e-9c11-48af-b8e8-eb3aadd6be06",
   "metadata": {},
   "outputs": [
    {
     "ename": "FileExistsError",
     "evalue": "[Errno 17] File exists: 'file1.txt'",
     "output_type": "error",
     "traceback": [
      "\u001b[1;31m---------------------------------------------------------------------------\u001b[0m",
      "\u001b[1;31mFileExistsError\u001b[0m                           Traceback (most recent call last)",
      "Cell \u001b[1;32mIn[78], line 1\u001b[0m\n\u001b[1;32m----> 1\u001b[0m \u001b[38;5;28;01mwith\u001b[39;00m \u001b[38;5;28mopen\u001b[39m(\u001b[38;5;124m'\u001b[39m\u001b[38;5;124mfile1.txt\u001b[39m\u001b[38;5;124m'\u001b[39m, \u001b[38;5;124m'\u001b[39m\u001b[38;5;124mx\u001b[39m\u001b[38;5;124m'\u001b[39m) \u001b[38;5;28;01mas\u001b[39;00m file:\n\u001b[0;32m      2\u001b[0m     file\u001b[38;5;241m.\u001b[39mwrite(\u001b[38;5;124m'\u001b[39m\u001b[38;5;124mThis is a new file created exclusively.\u001b[39m\u001b[38;5;124m'\u001b[39m)\n",
      "File \u001b[1;32m~\\anaconda3\\Lib\\site-packages\\IPython\\core\\interactiveshell.py:324\u001b[0m, in \u001b[0;36m_modified_open\u001b[1;34m(file, *args, **kwargs)\u001b[0m\n\u001b[0;32m    317\u001b[0m \u001b[38;5;28;01mif\u001b[39;00m file \u001b[38;5;129;01min\u001b[39;00m {\u001b[38;5;241m0\u001b[39m, \u001b[38;5;241m1\u001b[39m, \u001b[38;5;241m2\u001b[39m}:\n\u001b[0;32m    318\u001b[0m     \u001b[38;5;28;01mraise\u001b[39;00m \u001b[38;5;167;01mValueError\u001b[39;00m(\n\u001b[0;32m    319\u001b[0m         \u001b[38;5;124mf\u001b[39m\u001b[38;5;124m\"\u001b[39m\u001b[38;5;124mIPython won\u001b[39m\u001b[38;5;124m'\u001b[39m\u001b[38;5;124mt let you open fd=\u001b[39m\u001b[38;5;132;01m{\u001b[39;00mfile\u001b[38;5;132;01m}\u001b[39;00m\u001b[38;5;124m by default \u001b[39m\u001b[38;5;124m\"\u001b[39m\n\u001b[0;32m    320\u001b[0m         \u001b[38;5;124m\"\u001b[39m\u001b[38;5;124mas it is likely to crash IPython. If you know what you are doing, \u001b[39m\u001b[38;5;124m\"\u001b[39m\n\u001b[0;32m    321\u001b[0m         \u001b[38;5;124m\"\u001b[39m\u001b[38;5;124myou can use builtins\u001b[39m\u001b[38;5;124m'\u001b[39m\u001b[38;5;124m open.\u001b[39m\u001b[38;5;124m\"\u001b[39m\n\u001b[0;32m    322\u001b[0m     )\n\u001b[1;32m--> 324\u001b[0m \u001b[38;5;28;01mreturn\u001b[39;00m io_open(file, \u001b[38;5;241m*\u001b[39margs, \u001b[38;5;241m*\u001b[39m\u001b[38;5;241m*\u001b[39mkwargs)\n",
      "\u001b[1;31mFileExistsError\u001b[0m: [Errno 17] File exists: 'file1.txt'"
     ]
    }
   ],
   "source": [
    "with open('file1.txt', 'x') as file:\n",
    "    file.write('This is a new file created exclusively.')"
   ]
  },
  {
   "cell_type": "code",
   "execution_count": 80,
   "id": "35827a65-4ea2-4665-8c96-f0e2307841c2",
   "metadata": {},
   "outputs": [],
   "source": [
    "with open('file3.txt', 'x') as file:\n",
    "    file.write('This is a new file created exclusively.')"
   ]
  },
  {
   "cell_type": "markdown",
   "id": "44533532-71bb-440f-a992-2a1462f452c6",
   "metadata": {},
   "source": [
    "## File openning modes (rb, wb, ab, rb+, wb+, ab+) : Binary Files"
   ]
  },
  {
   "cell_type": "code",
   "execution_count": null,
   "id": "2aafeaaa-fcc3-4873-8972-d62c502e4aae",
   "metadata": {},
   "outputs": [],
   "source": [
    "fp = open(\"python-logo.jpg\",\"rb\")\n",
    "data = fp.read()\n",
    "fp1 = open(\"python-logo-copy.jpg\",\"wb\")\n",
    "fp1.write(data)\n",
    "fp.close()\n",
    "fp1.close()"
   ]
  },
  {
   "cell_type": "markdown",
   "id": "ab341237-2336-4f7c-91e7-773476f0f6fa",
   "metadata": {},
   "source": [
    "## Random Access of file"
   ]
  },
  {
   "cell_type": "markdown",
   "id": "24953a25-42bd-44ed-84bc-155d1ac3d523",
   "metadata": {},
   "source": [
    "## tell()\n",
    "### tell() is used to obtain the current position of the file pointer within the file."
   ]
  },
  {
   "cell_type": "code",
   "execution_count": 84,
   "id": "8d6863fb-1bbd-4b53-be55-a6387d6488fa",
   "metadata": {},
   "outputs": [
    {
     "name": "stdout",
     "output_type": "stream",
     "text": [
      "Before reading pointer is at: 0\n",
      "After reading 2 characters pointer is at:  2\n",
      "After reading 5 characters pointer is at:  5\n",
      "after going to the end of the file, pointer is at: 34\n"
     ]
    }
   ],
   "source": [
    "fp = open(\"file1.txt\",\"r\")\n",
    "print(\"Before reading pointer is at:\", fp.tell()) #file pointer always starts from 0.\n",
    "fp.read(2)\n",
    "print(\"After reading 2 characters pointer is at: \",fp.tell())\n",
    "fp.read(3)\n",
    "print(\"After reading 5 characters pointer is at: \",fp.tell())\n",
    "fp.read()\n",
    "print(\"after going to the end of the file, pointer is at:\", fp.tell())\n",
    "fp.close()"
   ]
  },
  {
   "attachments": {},
   "cell_type": "markdown",
   "id": "86ceb67e-27db-4657-85d3-af1309feb840",
   "metadata": {},
   "source": [
    "## seek(offset, startpoint_for_offset)\n",
    "### offset : how many positions the pointer will move\n",
    "### startpoint_for_offset : specifies the point from where pointer will move specified as offset\n",
    "#### 0 -> from the beginning of the file (default)\n",
    "#### 1 -> from the current position of file pointer\n",
    "#### 2 -> from the end of the file"
   ]
  },
  {
   "cell_type": "code",
   "execution_count": 87,
   "id": "296301fd-1c6d-4b7e-b129-832a73257740",
   "metadata": {},
   "outputs": [
    {
     "name": "stdout",
     "output_type": "stream",
     "text": [
      "Before reading:  0\n",
      "After reading 6 characters, pointer is at: 6\n",
      "After seeking pointer to beginning of the file: 0\n"
     ]
    }
   ],
   "source": [
    "fp = open(\"file2.txt\",\"r\")\n",
    "print(\"Before reading: \",fp.tell())\n",
    "fp.read(6)\n",
    "print(\"After reading 6 characters, pointer is at:\", fp.tell())\n",
    "fp.seek(0,0) # 0 characters from beginning of the file i.e. at 0\n",
    "print(\"After seeking pointer to beginning of the file:\", fp.tell())\n",
    "fp.close()"
   ]
  },
  {
   "cell_type": "code",
   "execution_count": 89,
   "id": "274d22cf-2fd9-4c8f-a9d0-47e2f0ec4e0b",
   "metadata": {},
   "outputs": [
    {
     "name": "stdout",
     "output_type": "stream",
     "text": [
      "Before reading:  0\n",
      "After seeking pointer to the of the file: 116\n"
     ]
    }
   ],
   "source": [
    "fp = open(\"file2.txt\",\"r\")\n",
    "print(\"Before reading: \",fp.tell())\n",
    "fp.seek(0,2) # 0 characters from the end of the file i.e. at last\n",
    "print(\"After seeking pointer to the of the file:\", fp.tell())\n",
    "fp.close()"
   ]
  },
  {
   "cell_type": "code",
   "execution_count": 91,
   "id": "56f9266b-b2b0-4c60-9743-5222becf288e",
   "metadata": {},
   "outputs": [
    {
     "name": "stdout",
     "output_type": "stream",
     "text": [
      "Before reading:  0\n"
     ]
    },
    {
     "ename": "UnsupportedOperation",
     "evalue": "can't do nonzero cur-relative seeks",
     "output_type": "error",
     "traceback": [
      "\u001b[1;31m---------------------------------------------------------------------------\u001b[0m",
      "\u001b[1;31mUnsupportedOperation\u001b[0m                      Traceback (most recent call last)",
      "Cell \u001b[1;32mIn[91], line 4\u001b[0m\n\u001b[0;32m      2\u001b[0m \u001b[38;5;28mprint\u001b[39m(\u001b[38;5;124m\"\u001b[39m\u001b[38;5;124mBefore reading: \u001b[39m\u001b[38;5;124m\"\u001b[39m,fp\u001b[38;5;241m.\u001b[39mtell())\n\u001b[0;32m      3\u001b[0m fp\u001b[38;5;241m.\u001b[39mread(\u001b[38;5;241m1\u001b[39m)\n\u001b[1;32m----> 4\u001b[0m fp\u001b[38;5;241m.\u001b[39mseek(\u001b[38;5;241m3\u001b[39m,\u001b[38;5;241m1\u001b[39m) \u001b[38;5;66;03m# 3 characters from the current position of the file pointer\u001b[39;00m\n\u001b[0;32m      5\u001b[0m \u001b[38;5;28mprint\u001b[39m(\u001b[38;5;124m\"\u001b[39m\u001b[38;5;124mAfter seeking 3 characters, the file pointer is at:\u001b[39m\u001b[38;5;124m\"\u001b[39m, fp\u001b[38;5;241m.\u001b[39mtell())\n\u001b[0;32m      6\u001b[0m fp\u001b[38;5;241m.\u001b[39mclose()\n",
      "\u001b[1;31mUnsupportedOperation\u001b[0m: can't do nonzero cur-relative seeks"
     ]
    }
   ],
   "source": [
    "fp = open(\"file2.txt\",\"r\")\n",
    "print(\"Before reading: \",fp.tell())\n",
    "fp.read(1)\n",
    "fp.seek(3,1) # 3 characters from the current position of the file pointer\n",
    "print(\"After seeking 3 characters, the file pointer is at:\", fp.tell())\n",
    "fp.close()"
   ]
  },
  {
   "cell_type": "code",
   "execution_count": 93,
   "id": "34105beb-2574-4e4d-83f3-fbe30829e391",
   "metadata": {},
   "outputs": [
    {
     "name": "stdout",
     "output_type": "stream",
     "text": [
      "Before reading:  0\n",
      "After seeking 0 characters, the file pointer is at: 1\n"
     ]
    }
   ],
   "source": [
    "fp = open(\"file2.txt\",\"r\")\n",
    "print(\"Before reading: \",fp.tell())\n",
    "fp.read(1)\n",
    "fp.seek(0,1) # 0 characters from the current position of the file pointer\n",
    "print(\"After seeking 0 characters, the file pointer is at:\", fp.tell())\n",
    "fp.close()"
   ]
  },
  {
   "cell_type": "markdown",
   "id": "5906d0fa-17d4-45c2-9ac0-6524f2935d4b",
   "metadata": {},
   "source": [
    "### Note : \n",
    "### To do non-zero end relative and current relative seeks, file should be opened in binary mode."
   ]
  },
  {
   "cell_type": "code",
   "execution_count": 96,
   "id": "b46ce9df-33b2-47bd-a131-64db332daa7e",
   "metadata": {},
   "outputs": [
    {
     "name": "stdout",
     "output_type": "stream",
     "text": [
      "Before reading:  0\n",
      "After seeking 3 characters, the file pointer is at: 4\n"
     ]
    }
   ],
   "source": [
    "fp = open(\"file2.txt\",\"rb\")\n",
    "print(\"Before reading: \",fp.tell())\n",
    "fp.read(1)\n",
    "fp.seek(3,1) # 3 characters from the current position of the file pointer\n",
    "print(\"After seeking 3 characters, the file pointer is at:\", fp.tell())\n",
    "fp.close()"
   ]
  },
  {
   "cell_type": "code",
   "execution_count": 98,
   "id": "fbc44b8b-aa8c-483e-9010-ac3426cfe85f",
   "metadata": {},
   "outputs": [
    {
     "name": "stdout",
     "output_type": "stream",
     "text": [
      "Before reading:  0\n",
      "<class 'bytes'>\n",
      "After seeking 3 characters, the file pointer is at: 4\n"
     ]
    }
   ],
   "source": [
    "fp = open(\"file2.txt\",\"rb\")\n",
    "print(\"Before reading: \",fp.tell())\n",
    "print(type(fp.read(1))) # returns bytes\n",
    "fp.seek(3,1) # 3 characters from the current position of the file pointer\n",
    "print(\"After seeking 3 characters, the file pointer is at:\", fp.tell())\n",
    "fp.close()"
   ]
  },
  {
   "cell_type": "code",
   "execution_count": 100,
   "id": "1c13814b-b543-4b5d-83cf-234f22eb5daf",
   "metadata": {},
   "outputs": [
    {
     "name": "stdout",
     "output_type": "stream",
     "text": [
      "Before reading:  0\n",
      "This\n",
      "After seeking 3 characters, the file pointer is at: 7\n",
      " a Test file.\n",
      "It is stored in hard disk.\n",
      "Files will have their names.\n",
      "They are accessed using their names.\n"
     ]
    }
   ],
   "source": [
    "fp = open(\"file2.txt\",\"rb\")\n",
    "print(\"Before reading: \",fp.tell())\n",
    "print(fp.read(4).decode()) # returns bytes\n",
    "fp.seek(3,1) # 3 characters from the current position of the file pointer\n",
    "print(\"After seeking 3 characters, the file pointer is at:\", fp.tell())\n",
    "print(fp.read().decode())\n",
    "fp.close()"
   ]
  },
  {
   "cell_type": "code",
   "execution_count": 102,
   "id": "4b8b32ec-807a-43ce-9ff8-8bb601fe59ee",
   "metadata": {},
   "outputs": [
    {
     "name": "stdout",
     "output_type": "stream",
     "text": [
      "<class '_io.BufferedReader'>\n"
     ]
    }
   ],
   "source": [
    "fp = open(\"file2.txt\",\"rb\")\n",
    "print(type(fp))\n",
    "fp.close()"
   ]
  },
  {
   "cell_type": "code",
   "execution_count": null,
   "id": "e5173b47-4654-4a86-b59b-257b1611c7f2",
   "metadata": {},
   "outputs": [],
   "source": []
  }
 ],
 "metadata": {
  "kernelspec": {
   "display_name": "Python 3 (ipykernel)",
   "language": "python",
   "name": "python3"
  },
  "language_info": {
   "codemirror_mode": {
    "name": "ipython",
    "version": 3
   },
   "file_extension": ".py",
   "mimetype": "text/x-python",
   "name": "python",
   "nbconvert_exporter": "python",
   "pygments_lexer": "ipython3",
   "version": "3.12.7"
  }
 },
 "nbformat": 4,
 "nbformat_minor": 5
}
