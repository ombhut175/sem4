{
 "cells": [
  {
   "cell_type": "markdown",
   "metadata": {},
   "source": [
    "<a href='https://www.darshan.ac.in/'> <img src='https://www.darshan.ac.in/Content/media/DU_Logo.svg' width=\"250\" height=\"300\"/></a>\n",
    "<pre>\n",
    "<center><b><h1>Python Programming - 2301CS404</b></center>\n",
    "<center><b><h1>Lab - 8</b></center>    \n",
    "   <center><b><h1>OM BHUT | 23010101033 | 122</b></center> \n",
    "<pre>"
   ]
  },
  {
   "cell_type": "markdown",
   "metadata": {},
   "source": [
    "# User Defined Function"
   ]
  },
  {
   "cell_type": "markdown",
   "metadata": {},
   "source": [
    "### 01) Write a function to calculate BMI given mass and height. (BMI = mass/h**2)"
   ]
  },
  {
   "cell_type": "code",
   "execution_count": null,
   "metadata": {},
   "outputs": [],
   "source": [
    "def calculateBmi(mass,height):\n",
    "    return mass/height**2"
   ]
  },
  {
   "cell_type": "markdown",
   "metadata": {},
   "source": [
    "### 02) Write a function that add first n numbers."
   ]
  },
  {
   "cell_type": "code",
   "execution_count": 3,
   "metadata": {},
   "outputs": [
    {
     "data": {
      "text/plain": [
       "1275.0"
      ]
     },
     "execution_count": 3,
     "metadata": {},
     "output_type": "execute_result"
    }
   ],
   "source": [
    "def addFirstN(n : int):\n",
    "    return n*(n+1)/2\n",
    "addFirstN(50)"
   ]
  },
  {
   "cell_type": "markdown",
   "metadata": {},
   "source": [
    "### 03) Write a function that returns 1 if the given number is Prime or 0 otherwise."
   ]
  },
  {
   "cell_type": "code",
   "execution_count": null,
   "metadata": {},
   "outputs": [
    {
     "name": "stdout",
     "output_type": "stream",
     "text": [
      "0\n"
     ]
    }
   ],
   "source": [
    "def checkPrime(n):\n",
    "    if(n<=2 or n==4):\n",
    "        return 0\n",
    "    for i in range(2,n//2):\n",
    "        if n%i == 0:\n",
    "            return 0\n",
    "    return 1\n",
    "\n",
    "print(checkPrime(8))"
   ]
  },
  {
   "cell_type": "markdown",
   "metadata": {},
   "source": [
    "### 04) Write a function that returns the list of Prime numbers between given two numbers."
   ]
  },
  {
   "cell_type": "code",
   "execution_count": 7,
   "metadata": {},
   "outputs": [
    {
     "name": "stdout",
     "output_type": "stream",
     "text": [
      "[3, 5, 7, 11, 13, 17, 19, 23, 29, 31, 37, 41, 43, 47]\n"
     ]
    }
   ],
   "source": [
    "def primeNumbersList(a,b):\n",
    "    ans = []\n",
    "    for i in range(a,b+1):\n",
    "        if (checkPrime(i) == 1):\n",
    "            ans.append(i)\n",
    "    return ans\n",
    "print(primeNumbersList(2,50))"
   ]
  },
  {
   "cell_type": "markdown",
   "metadata": {},
   "source": [
    "### 05) Write a function that returns True if the given string is Palindrome or False otherwise."
   ]
  },
  {
   "cell_type": "code",
   "execution_count": 10,
   "metadata": {},
   "outputs": [
    {
     "name": "stdout",
     "output_type": "stream",
     "text": [
      "False\n"
     ]
    }
   ],
   "source": [
    "def checkPalindrome(s1):\n",
    "    return s1 == s1[::-1]\n",
    "print(checkPalindrome(\"abab\"))"
   ]
  },
  {
   "cell_type": "markdown",
   "metadata": {},
   "source": [
    "### 06) Write a function that returns the sum of all the elements of the list."
   ]
  },
  {
   "cell_type": "code",
   "execution_count": null,
   "metadata": {},
   "outputs": [],
   "source": [
    "def sumOfAllElements(l1):\n",
    "    return sum(l1)"
   ]
  },
  {
   "cell_type": "markdown",
   "metadata": {},
   "source": [
    "### 07) Write a function to calculate the sum of the first element of each tuples inside the list."
   ]
  },
  {
   "cell_type": "code",
   "execution_count": 1,
   "metadata": {},
   "outputs": [
    {
     "name": "stdout",
     "output_type": "stream",
     "text": [
      "8\n"
     ]
    }
   ],
   "source": [
    "def sumOfFirstElementsOfTuple(l1):\n",
    "    sum = 0\n",
    "    for t in l1:\n",
    "        sum += t[0]\n",
    "    return sum\n",
    "list1 = [(1,2,3),(3,4,1),(4,8,2)]\n",
    "print(sumOfFirstElementsOfTuple(list1))"
   ]
  },
  {
   "cell_type": "markdown",
   "metadata": {},
   "source": [
    "### 08) Write a recursive function to find nth term of Fibonacci Series."
   ]
  },
  {
   "cell_type": "code",
   "execution_count": null,
   "metadata": {},
   "outputs": [
    {
     "data": {
      "text/plain": [
       "8"
      ]
     },
     "execution_count": 8,
     "metadata": {},
     "output_type": "execute_result"
    }
   ],
   "source": [
    "def fibonacciSeries(n):\n",
    "    first = 0\n",
    "    second =1\n",
    "    for i in range(n):\n",
    "        print(first,end=\" \")\n",
    "        nextVal = first+second\n",
    "        first = second\n",
    "        second = nextVal\n",
    "\n",
    "\n",
    "def fibonacciSeriesUsingRecursion(n):\n",
    "    if n<=1:\n",
    "        return n\n",
    "    return fibonacciSeriesUsingRecursion(n - 1) + fibonacciSeriesUsingRecursion(n - 2)\n",
    "\n",
    "# fibonacciSeries(30)\n",
    "fibonacciSeriesUsingRecursion(6)"
   ]
  },
  {
   "cell_type": "markdown",
   "metadata": {},
   "source": [
    "### 09) Write a function to get the name of the student based on the given rollno.\n",
    "#### Example: Given dict1 = {101:'Ajay', 102:'Rahul', 103:'Jay', 104:'Pooja'} find name of student whose rollno = 103"
   ]
  },
  {
   "cell_type": "code",
   "execution_count": 12,
   "metadata": {},
   "outputs": [
    {
     "name": "stdout",
     "output_type": "stream",
     "text": [
      "Rahul\n"
     ]
    }
   ],
   "source": [
    "def giveNameFromRollNumber(dict1 : dict,rollNo):\n",
    "    return dict1[rollNo]\n",
    "\n",
    "dict1 = {101:'Ajay', 102:'Rahul', 103:'Jay', 104:'Pooja'}\n",
    "print(giveNameFromRollNumber(dict1,102))"
   ]
  },
  {
   "cell_type": "markdown",
   "metadata": {},
   "source": [
    "### 10) Write a function to get the sum of the scores ending with zero.\n",
    "#### Example : scores = [200, 456, 300, 100, 234, 678] \n",
    "#### Ans = 200 + 300 + 100 = 600"
   ]
  },
  {
   "cell_type": "code",
   "execution_count": null,
   "metadata": {},
   "outputs": [
    {
     "name": "stdout",
     "output_type": "stream",
     "text": [
      "18\n"
     ]
    }
   ],
   "source": [
    "def sumOfEndingScores(l1):\n",
    "    sum=0\n",
    "    for i in l1:\n",
    "        if i%10==0:\n",
    "            sum += i\n",
    "    return sum\n",
    "scores = [200, 456, 300, 100, 234, 678]\n",
    "print(sumOfEndingScores(scores))\n"
   ]
  },
  {
   "cell_type": "markdown",
   "metadata": {},
   "source": [
    "### 11) Write a function to invert a given Dictionary.\n",
    "#### hint: keys to values & values to keys\n",
    "#### Before : {'a': 10, 'b':20, 'c':30, 'd':40}\n",
    "#### After : {10:'a', 20:'b', 30:'c', 40:'d'}"
   ]
  },
  {
   "cell_type": "code",
   "execution_count": null,
   "metadata": {},
   "outputs": [
    {
     "name": "stdout",
     "output_type": "stream",
     "text": [
      "{'om': 0, 'yash': 1, 'raj': 2}\n"
     ]
    }
   ],
   "source": [
    "def invertDictionary(d1 : dict):\n",
    "    invertedDictionary = {value:key for key,value in d1.items()}\n",
    "    return invertedDictionary\n",
    "\n",
    "        \n",
    "d1 = {\n",
    "    0:\"om\",\n",
    "    1:\"yash\",\n",
    "    2:\"raj\"\n",
    "}\n",
    "print(invertDictionary(d1))"
   ]
  },
  {
   "cell_type": "markdown",
   "metadata": {},
   "source": [
    "### 12) Write a function to check whether the given string is Pangram or not.\n",
    "#### hint: Pangram is a string containing all the characters a-z atlest once.\n",
    "#### \"the quick brown fox jumps over the lazy dog\" is a Pangram string."
   ]
  },
  {
   "cell_type": "code",
   "execution_count": 12,
   "metadata": {},
   "outputs": [
    {
     "name": "stdout",
     "output_type": "stream",
     "text": [
      "True\n"
     ]
    }
   ],
   "source": [
    "def checkPanagram(s : str):\n",
    "    set1 = {chr(i) for i in range(97,123)}\n",
    "    set2 = set(s)\n",
    "    if \" \" in set2:\n",
    "        set2.remove(' ')\n",
    "    return set1 == set2    \n",
    "    \n",
    "s = \"the quick brown fox jumps over the lazy dog\"\n",
    "# s=\"hello\"\n",
    "print(checkPanagram(s))"
   ]
  },
  {
   "cell_type": "markdown",
   "metadata": {},
   "source": [
    "### 13) Write a function that returns the number of uppercase and lowercase letters in the given string. \n",
    "#### example : Input : s1 = AbcDEfgh ,Ouptput : no_upper = 3, no_lower = 5"
   ]
  },
  {
   "cell_type": "code",
   "execution_count": 14,
   "metadata": {},
   "outputs": [
    {
     "name": "stdout",
     "output_type": "stream",
     "text": [
      "{'upper': 3, 'lower': 5}\n"
     ]
    }
   ],
   "source": [
    "def countUpperLower(s : str):\n",
    "    noOfUpper = 0\n",
    "    noOfLower = 0\n",
    "    for i in s:\n",
    "        if i.isupper():\n",
    "            noOfUpper+=1\n",
    "        else:\n",
    "            noOfLower+=1\n",
    "    return {\n",
    "        \"upper\":noOfUpper,\n",
    "        \"lower\":noOfLower\n",
    "    }\n",
    "print(countUpperLower(\"AbcDEfgh\"))"
   ]
  },
  {
   "cell_type": "markdown",
   "metadata": {},
   "source": [
    "### 14) Write a lambda function to get smallest number from the given two numbers."
   ]
  },
  {
   "cell_type": "code",
   "execution_count": 15,
   "metadata": {},
   "outputs": [
    {
     "name": "stdout",
     "output_type": "stream",
     "text": [
      "5\n"
     ]
    }
   ],
   "source": [
    "x = lambda a,b : min(a,b)\n",
    "\n",
    "print(x(5,6))"
   ]
  },
  {
   "cell_type": "markdown",
   "metadata": {},
   "source": [
    "### 15) For the given list of names of students, extract the names having more that 7 characters. Use filter()."
   ]
  },
  {
   "cell_type": "code",
   "execution_count": 18,
   "metadata": {},
   "outputs": [
    {
     "name": "stdout",
     "output_type": "stream",
     "text": [
      "['rajnikant', 'raftaar']\n"
     ]
    }
   ],
   "source": [
    "l1 = [\"jayesh\",\"rajnikant\",\"raftaar\"]\n",
    "l2 = filter(lambda x: len(x)>=7,l1)\n",
    "print(list(l2))"
   ]
  },
  {
   "cell_type": "markdown",
   "metadata": {},
   "source": [
    "### 16) For the given list of names of students, convert the first letter of all the names into uppercase. use map()."
   ]
  },
  {
   "cell_type": "code",
   "execution_count": 22,
   "metadata": {},
   "outputs": [
    {
     "name": "stdout",
     "output_type": "stream",
     "text": [
      "['Jayesh', 'Rajnikant', 'Raftaar', 'Ok', 'Hello']\n"
     ]
    }
   ],
   "source": [
    "l1 = [\"jayesh\",\"rajnikant\",\"raftaar\",\"Ok\",\"hello\"]\n",
    "l2 = map(lambda x : x[0].upper() + x[1::] , l1)\n",
    "print(list(l2))"
   ]
  },
  {
   "cell_type": "markdown",
   "metadata": {},
   "source": [
    "### 17) Write udfs to call the functions with following types of arguments:\n",
    "1. Positional Arguments\n",
    "2. Keyword Arguments\n",
    "3. Default Arguments\n",
    "4. Variable Length Positional(*args) & variable length Keyword Arguments (**kwargs)\n",
    "5. Keyword-Only & Positional Only Arguments"
   ]
  },
  {
   "cell_type": "code",
   "execution_count": 3,
   "metadata": {},
   "outputs": [
    {
     "data": {
      "text/plain": [
       "30"
      ]
     },
     "execution_count": 3,
     "metadata": {},
     "output_type": "execute_result"
    }
   ],
   "source": [
    "def positionalArguments(a,b):\n",
    "    return a+b\n",
    "def defaultArguments(a=1,b=1):\n",
    "    return a+b\n",
    "def variableLengthPositional(a,*args):\n",
    "    print(a,args)\n",
    "def keywordArguments(a,**kwargs):\n",
    "    print(a,kwargs)\n",
    "def keywordOnly(*,a,b):\n",
    "    return a+b\n",
    "def positionalArgumentsOnly(a,b,/):\n",
    "    return a+b\n",
    "positionalArguments(1,2)\n",
    "positionalArguments(b=2,a=1)\n",
    "defaultArguments()\n",
    "variableLengthPositional(10,20,30,40)\n",
    "keywordArguments(10,b=20,c=30)\n",
    "keywordOnly(a=10,b=20)\n",
    "positionalArgumentsOnly(10,20)\n"
   ]
  },
  {
   "cell_type": "code",
   "execution_count": null,
   "metadata": {},
   "outputs": [],
   "source": []
  }
 ],
 "metadata": {
  "kernelspec": {
   "display_name": "Python 3 (ipykernel)",
   "language": "python",
   "name": "python3"
  },
  "language_info": {
   "codemirror_mode": {
    "name": "ipython",
    "version": 3
   },
   "file_extension": ".py",
   "mimetype": "text/x-python",
   "name": "python",
   "nbconvert_exporter": "python",
   "pygments_lexer": "ipython3",
   "version": "3.11.4"
  }
 },
 "nbformat": 4,
 "nbformat_minor": 4
}
