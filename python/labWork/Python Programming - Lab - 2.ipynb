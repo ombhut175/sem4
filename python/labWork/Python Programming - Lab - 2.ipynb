{
 "cells": [
  {
   "cell_type": "markdown",
   "metadata": {},
   "source": [
    "\n",
    "<a href='https://www.darshan.ac.in/'> <img src='https://www.darshan.ac.in/Content/media/DU_Logo.svg' width=\"250\" height=\"300\"/></a>\n",
    "<pre>\n",
    "<center><b><h1>Python Programming - 2301CS404</b></center>\n",
    "<center><b><h1>Lab - 2</b></center>  \n",
    "<center><b><h1>OM BHUT | 23010101033 | 122</b></center>  \n",
    "<pre>"
   ]
  },
  {
   "cell_type": "markdown",
   "metadata": {},
   "source": [
    "# if..else.."
   ]
  },
  {
   "cell_type": "markdown",
   "metadata": {},
   "source": [
    "### 01) WAP to check whether the given number is positive or negative."
   ]
  },
  {
   "cell_type": "code",
   "execution_count": 4,
   "metadata": {},
   "outputs": [
    {
     "name": "stdout",
     "output_type": "stream",
     "text": [
      "enter number-4\n",
      "negative\n"
     ]
    }
   ],
   "source": [
    "a = int(input(\"enter number\"))\n",
    "if(a>=0):\n",
    "    print(\"positive\")\n",
    "else:\n",
    "    print(\"negative\")"
   ]
  },
  {
   "cell_type": "markdown",
   "metadata": {},
   "source": [
    "### 02) WAP to check whether the given number is odd or even."
   ]
  },
  {
   "cell_type": "code",
   "execution_count": 6,
   "metadata": {},
   "outputs": [
    {
     "name": "stdout",
     "output_type": "stream",
     "text": [
      "enter number3\n",
      "odd\n"
     ]
    }
   ],
   "source": [
    "a = int(input(\"enter number\"))\n",
    "if(a%2==0):\n",
    "    print(\"even\")\n",
    "else:\n",
    "    print(\"odd\")"
   ]
  },
  {
   "cell_type": "markdown",
   "metadata": {},
   "source": [
    "### 03) WAP to find out largest number from given two numbers using simple if and ternary operator."
   ]
  },
  {
   "cell_type": "code",
   "execution_count": 10,
   "metadata": {},
   "outputs": [
    {
     "name": "stdout",
     "output_type": "stream",
     "text": [
      "enter number 15\n",
      "enter number 26\n",
      "b is greater\n"
     ]
    }
   ],
   "source": [
    "a = int(input(\"enter number 1\"))\n",
    "b = int(input(\"enter number 2\"))\n",
    "# if(a>b):\n",
    "#     print(\"a is greater\")\n",
    "# else:\n",
    "#     print(\"b is greater\")\n",
    "# a>b ? print(\"a is greater\") : print(\"b is greater\")\n",
    "print(\"a is greater\") if a>b else print(\"b is greater\")"
   ]
  },
  {
   "cell_type": "markdown",
   "metadata": {},
   "source": [
    "### 04) WAP to find out largest number from given three numbers."
   ]
  },
  {
   "cell_type": "code",
   "execution_count": 6,
   "metadata": {},
   "outputs": [
    {
     "name": "stdout",
     "output_type": "stream",
     "text": [
      "enter number 15\n",
      "enter number 26\n",
      "enter number 37\n",
      "c is greater\n"
     ]
    }
   ],
   "source": [
    "a = int(input(\"enter number 1\"))\n",
    "b = int(input(\"enter number 2\"))\n",
    "c = int(input(\"enter number 3\"))\n",
    "\n",
    "print(\"a is greater\" if a>c else \"c is greater\" if a>b else \"b is greater\" if b > c  else \"c is greater\")\n",
    "# print(\"a is greater\") if a>c else print(\"c is greater\") if a>b else print(\"b is greater\") if b > c  else print(\"c is greater\")\n",
    "# print(\"a is greater\" if a > b and a > c else \"b is greater\" if b > c else \"c is greater\")"
   ]
  },
  {
   "cell_type": "markdown",
   "metadata": {},
   "source": [
    "##### 05) WAP to check whether the given year is leap year or not.\n",
    "[If a year can be divisible by 4 but not divisible by 100 then it is leap year but if it is divisible by 400 then it is leap year]\n",
    "\n"
   ]
  },
  {
   "cell_type": "code",
   "execution_count": 9,
   "metadata": {},
   "outputs": [
    {
     "name": "stdout",
     "output_type": "stream",
     "text": [
      "enter year2024\n"
     ]
    }
   ],
   "source": [
    "n = int(input(\"enter year\"))\n",
    "if(n%4==0 and n%100==0 or n%4):\n",
    "    print(\"leap year\")"
   ]
  },
  {
   "cell_type": "markdown",
   "metadata": {},
   "source": [
    "### 06) WAP in python to display the name of the day according to the number given by the user."
   ]
  },
  {
   "cell_type": "code",
   "execution_count": 10,
   "metadata": {},
   "outputs": [
    {
     "name": "stdout",
     "output_type": "stream",
     "text": [
      "enter number5\n",
      "friday\n"
     ]
    }
   ],
   "source": [
    "n = int(input(\"enter number\"))\n",
    "match n:\n",
    "    case 1:\n",
    "        print(\"monday\")\n",
    "    case 2:\n",
    "        print(\"tuesday\")\n",
    "    case 3:\n",
    "        print(\"wednesday\")\n",
    "    case 4:\n",
    "        print(\"thursday\")\n",
    "    case 5:\n",
    "        print(\"friday\")\n",
    "    case 6:\n",
    "        print(\"saturday\")\n",
    "    case 7:\n",
    "        print(\"sunday\")"
   ]
  },
  {
   "cell_type": "markdown",
   "metadata": {},
   "source": [
    "### 07) WAP to implement simple calculator which performs (add,sub,mul,div) of two no. based on user input."
   ]
  },
  {
   "cell_type": "code",
   "execution_count": 12,
   "metadata": {},
   "outputs": [
    {
     "name": "stdout",
     "output_type": "stream",
     "text": [
      "enter number 15\n",
      "enter operator/\n",
      "enter number 20\n",
      "b should not be 0\n"
     ]
    }
   ],
   "source": [
    "a = int(input(\"enter number 1\"))\n",
    "c = input(\"enter operator\")\n",
    "b = int(input(\"enter number 2\"))\n",
    "\n",
    "match c:\n",
    "    case '+':\n",
    "        print(a+b)\n",
    "    case '-':\n",
    "        print(a-b)\n",
    "    case '*':\n",
    "        print(a*b)\n",
    "    case '/':\n",
    "        print(\"b should not be 0\") if b==0 else print(a/b)"
   ]
  },
  {
   "cell_type": "markdown",
   "metadata": {},
   "source": [
    "### 08) WAP to read marks of five subjects. Calculate percentage and print class accordingly. \n",
    "Fail below 35 </br>\n",
    "Pass Class between 35 to 45 </br>\n",
    "Second Class</br>\n",
    "between 45 to 60</br>\n",
    "First Class between 60 to 70</br> \n",
    "Distinction if more than 70"
   ]
  },
  {
   "cell_type": "code",
   "execution_count": 14,
   "metadata": {},
   "outputs": [
    {
     "name": "stdout",
     "output_type": "stream",
     "text": [
      "enter marks of student 150\n",
      "enter marks of student 250\n",
      "enter marks of student 350\n",
      "enter marks of student 450\n",
      "enter marks of student 550\n",
      "second\n"
     ]
    }
   ],
   "source": [
    "totalSum = 0;\n",
    "for i in range(5):\n",
    "    n = float(input(f\"enter marks of student {i+1}\"))\n",
    "    totalSum+=n\n",
    "percentage = totalSum/5\n",
    "if percentage<35:\n",
    "    print(\"fail\")\n",
    "elif percentage>=35 and percentage<45:\n",
    "    print(\"pass\")\n",
    "elif percentage>=45 and percentage<60:\n",
    "    print(\"second\")\n",
    "elif percentage>=60 and percentage<70:\n",
    "    print(\"first class\")\n",
    "else:\n",
    "    print(\"distinction\")"
   ]
  },
  {
   "cell_type": "markdown",
   "metadata": {},
   "source": [
    "### 09) Three sides of a triangle are entered through the keyboard, WAP to check whether the triangle is isosceles, equilateral, scalene or right-angled triangle."
   ]
  },
  {
   "cell_type": "code",
   "execution_count": 17,
   "metadata": {},
   "outputs": [
    {
     "name": "stdout",
     "output_type": "stream",
     "text": [
      "Enter side 1: 3\n",
      "Enter side 2: 4\n",
      "Enter side 3: 5\n",
      "scalene\n"
     ]
    }
   ],
   "source": [
    "a = int(input(\"Enter side 1: \"))\n",
    "b = int(input(\"Enter side 2: \"))\n",
    "c = int(input(\"Enter side 3: \"))\n",
    "\n",
    "if a==b and b==c and a==c:\n",
    "    print(\"Equilateral\")\n",
    "elif a==b or b==c or a==c:\n",
    "    print(\"isosceles\")\n",
    "elif a!=b and a!=c and b!=c:\n",
    "    print(\"scalene\")\n",
    "elif (a**2 + b**2 == c**2 or a**2+c**2 == b**2 or c**2+b**2 == a**2):\n",
    "    print(\"right-angled triangle\")"
   ]
  },
  {
   "cell_type": "markdown",
   "metadata": {},
   "source": [
    "### 10) WAP to find the second largest number among three user input numbers."
   ]
  },
  {
   "cell_type": "code",
   "execution_count": 21,
   "metadata": {},
   "outputs": [
    {
     "name": "stdout",
     "output_type": "stream",
     "text": [
      "Enter  1: 2\n",
      "Enter  2: 3\n",
      "Enter  3: 5\n",
      "b is second\n"
     ]
    }
   ],
   "source": [
    "a = int(input(\"Enter  1: \"))\n",
    "b = int(input(\"Enter  2: \"))\n",
    "c = int(input(\"Enter  3: \"))\n",
    "\n",
    "if a>b:\n",
    "    if a>c:\n",
    "        print(\"c is second\")\n",
    "    else:\n",
    "        print(\"a is second\")\n",
    "else:\n",
    "    if b>c:\n",
    "        print(\"c is second\")\n",
    "    else:\n",
    "        print(\"b is second\")"
   ]
  },
  {
   "cell_type": "markdown",
   "metadata": {},
   "source": [
    "### 11) WAP to calculate electricity bill based on following criteria. Which takes the unit from the user.\n",
    "a. First 1 to 50 units – Rs. 2.60/unit</br>\n",
    "b. Next 50 to 100 units – Rs. 3.25/unit</br>\n",
    "c. Next 100 to 200 units – Rs. 5.26/unit</br>\n",
    "d. above 200 units – Rs. 8.45/unit"
   ]
  },
  {
   "cell_type": "code",
   "execution_count": 32,
   "metadata": {},
   "outputs": [
    {
     "name": "stdout",
     "output_type": "stream",
     "text": [
      "Enter units: 350\n",
      "Total cost: Rs. 2086.0\n"
     ]
    }
   ],
   "source": [
    "unit = int(input(\"Enter units: \"))\n",
    "totalSum = 0\n",
    "\n",
    "# First 50 units\n",
    "if unit > 0:\n",
    "    if unit > 50:\n",
    "        totalSum += 50 * 2.60\n",
    "        unit -= 50\n",
    "    else:\n",
    "        totalSum += unit * 2.60\n",
    "        unit = 0\n",
    "\n",
    "# Next 50 units (51 to 100)\n",
    "if unit > 0:\n",
    "    if unit > 50:\n",
    "        totalSum += 50 * 3.25\n",
    "        unit -= 50\n",
    "    else:\n",
    "        totalSum += unit * 3.25\n",
    "        unit = 0\n",
    "\n",
    "# Next 100 units (101 to 200)\n",
    "if unit > 0:\n",
    "    if unit > 100:\n",
    "        totalSum += 100 * 5.26\n",
    "        unit -= 100\n",
    "    else:\n",
    "        totalSum += unit * 5.26\n",
    "        unit = 0\n",
    "\n",
    "# Above 200 units\n",
    "if unit > 0:\n",
    "    totalSum += unit * 8.45\n",
    "\n",
    "# Print total sum\n",
    "print(\"Total cost: Rs.\", totalSum)\n"
   ]
  },
  {
   "cell_type": "code",
   "execution_count": null,
   "metadata": {},
   "outputs": [],
   "source": []
  }
 ],
 "metadata": {
  "kernelspec": {
   "display_name": "Python 3 (ipykernel)",
   "language": "python",
   "name": "python3"
  },
  "language_info": {
   "codemirror_mode": {
    "name": "ipython",
    "version": 3
   },
   "file_extension": ".py",
   "mimetype": "text/x-python",
   "name": "python",
   "nbconvert_exporter": "python",
   "pygments_lexer": "ipython3",
   "version": "3.10.9"
  }
 },
 "nbformat": 4,
 "nbformat_minor": 4
}
