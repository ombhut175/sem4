{
 "cells": [
  {
   "cell_type": "markdown",
   "id": "4dc110f8-857c-4750-afd8-58064052fe7f",
   "metadata": {},
   "source": [
    "## Types of Arguments:\n",
    "#### 1. Positional Arguments (Positional - only)\n",
    "#### 2. Keyword Arguments (Keyword - only)\n",
    "#### 3. Default Arguments\n",
    "#### 4. Varible Length Positional Arguments (*args)\n",
    "#### 5. Varible Length Keyword Arguments (**kwargs)"
   ]
  },
  {
   "cell_type": "code",
   "execution_count": 1,
   "id": "b38e9064-267d-4998-8d59-b28e561af8af",
   "metadata": {},
   "outputs": [],
   "source": [
    "def net_sal(basic, allowance, deduction):\n",
    "    print(\"Basic is :\",basic)\n",
    "    print(\"Allowance is :\",allowance)\n",
    "    print(\"Deduction is : \",deduction)\n",
    "    net = basic + allowance - deduction\n",
    "    return net"
   ]
  },
  {
   "cell_type": "markdown",
   "id": "abaae326-83b4-44d6-9030-dd2e84e61f96",
   "metadata": {},
   "source": [
    "## Positional Arguments"
   ]
  },
  {
   "cell_type": "code",
   "execution_count": 4,
   "id": "2f4bb71d-d04f-4b67-b9f7-dd4903c0f152",
   "metadata": {},
   "outputs": [
    {
     "name": "stdout",
     "output_type": "stream",
     "text": [
      "Basic is : 8000\n",
      "Allowance is : 6000\n",
      "Deduction is :  2000\n"
     ]
    },
    {
     "data": {
      "text/plain": [
       "12000"
      ]
     },
     "execution_count": 4,
     "metadata": {},
     "output_type": "execute_result"
    }
   ],
   "source": [
    "net_sal(8000,6000,2000)"
   ]
  },
  {
   "cell_type": "code",
   "execution_count": 6,
   "id": "5f5acada-6389-48f9-a7cd-443b6cc41785",
   "metadata": {},
   "outputs": [
    {
     "name": "stdout",
     "output_type": "stream",
     "text": [
      "Basic is : 2000\n",
      "Allowance is : 6000\n",
      "Deduction is :  8000\n"
     ]
    },
    {
     "data": {
      "text/plain": [
       "0"
      ]
     },
     "execution_count": 6,
     "metadata": {},
     "output_type": "execute_result"
    }
   ],
   "source": [
    "net_sal(2000,6000,8000)"
   ]
  },
  {
   "cell_type": "markdown",
   "id": "a3d537f5-ee38-4d6b-b13f-5f827c03f262",
   "metadata": {},
   "source": [
    "## Keyword Arguments"
   ]
  },
  {
   "cell_type": "code",
   "execution_count": 9,
   "id": "219fa6a6-c804-48a6-b7c4-574c008f80ed",
   "metadata": {},
   "outputs": [
    {
     "name": "stdout",
     "output_type": "stream",
     "text": [
      "Basic is : 8000\n",
      "Allowance is : 6000\n",
      "Deduction is :  2000\n"
     ]
    },
    {
     "data": {
      "text/plain": [
       "12000"
      ]
     },
     "execution_count": 9,
     "metadata": {},
     "output_type": "execute_result"
    }
   ],
   "source": [
    "net_sal(deduction=2000,allowance=6000,basic=8000)"
   ]
  },
  {
   "cell_type": "code",
   "execution_count": 11,
   "id": "62d240f2-08ee-4757-8d73-bcabde2b0894",
   "metadata": {},
   "outputs": [
    {
     "ename": "SyntaxError",
     "evalue": "positional argument follows keyword argument (3302827400.py, line 1)",
     "output_type": "error",
     "traceback": [
      "\u001b[1;36m  Cell \u001b[1;32mIn[11], line 1\u001b[1;36m\u001b[0m\n\u001b[1;33m    net_sal(allowance=6000,8000,deduction=2000)\u001b[0m\n\u001b[1;37m                                              ^\u001b[0m\n\u001b[1;31mSyntaxError\u001b[0m\u001b[1;31m:\u001b[0m positional argument follows keyword argument\n"
     ]
    }
   ],
   "source": [
    "net_sal(allowance=6000,8000,deduction=2000)"
   ]
  },
  {
   "cell_type": "code",
   "execution_count": 13,
   "id": "cb1e422a-335f-4d41-88c4-989b172731c9",
   "metadata": {},
   "outputs": [
    {
     "name": "stdout",
     "output_type": "stream",
     "text": [
      "Basic is : 8000\n",
      "Allowance is : 6000\n",
      "Deduction is :  2000\n"
     ]
    },
    {
     "data": {
      "text/plain": [
       "12000"
      ]
     },
     "execution_count": 13,
     "metadata": {},
     "output_type": "execute_result"
    }
   ],
   "source": [
    "net_sal(8000,allowance=6000,deduction=2000)"
   ]
  },
  {
   "cell_type": "code",
   "execution_count": 17,
   "id": "f392bdf8-d0a6-4563-a4c9-56e0151fc023",
   "metadata": {},
   "outputs": [
    {
     "ename": "TypeError",
     "evalue": "net_sal() got multiple values for argument 'allowance'",
     "output_type": "error",
     "traceback": [
      "\u001b[1;31m---------------------------------------------------------------------------\u001b[0m",
      "\u001b[1;31mTypeError\u001b[0m                                 Traceback (most recent call last)",
      "Cell \u001b[1;32mIn[17], line 1\u001b[0m\n\u001b[1;32m----> 1\u001b[0m net_sal(\u001b[38;5;241m8000\u001b[39m,\u001b[38;5;241m6000\u001b[39m,allowance\u001b[38;5;241m=\u001b[39m\u001b[38;5;241m2000\u001b[39m)\n",
      "\u001b[1;31mTypeError\u001b[0m: net_sal() got multiple values for argument 'allowance'"
     ]
    }
   ],
   "source": [
    "net_sal(8000,6000,allowance=2000)"
   ]
  },
  {
   "cell_type": "code",
   "execution_count": 19,
   "id": "4d868a0d-51b6-4c83-90ba-d7a7ec0c817c",
   "metadata": {},
   "outputs": [],
   "source": [
    "## Order : positional --> keyword"
   ]
  },
  {
   "cell_type": "markdown",
   "id": "b9a77778-4cb9-43a7-80c2-dda56af47b8a",
   "metadata": {},
   "source": [
    "## Default Arguments"
   ]
  },
  {
   "cell_type": "code",
   "execution_count": 21,
   "id": "4aeb6d57-9072-46e3-9a21-fc766384ed95",
   "metadata": {},
   "outputs": [],
   "source": [
    "def add(a,b=0,c=0):\n",
    "    return a+b+c"
   ]
  },
  {
   "cell_type": "code",
   "execution_count": 23,
   "id": "2e3a4edb-5c02-4f02-8f25-7b3554ed0fc1",
   "metadata": {},
   "outputs": [
    {
     "data": {
      "text/plain": [
       "6"
      ]
     },
     "execution_count": 23,
     "metadata": {},
     "output_type": "execute_result"
    }
   ],
   "source": [
    "add(1,2,3)"
   ]
  },
  {
   "cell_type": "code",
   "execution_count": 25,
   "id": "f8116d06-ab6d-4a7d-8b80-9cc501055716",
   "metadata": {},
   "outputs": [
    {
     "data": {
      "text/plain": [
       "3"
      ]
     },
     "execution_count": 25,
     "metadata": {},
     "output_type": "execute_result"
    }
   ],
   "source": [
    "add(1,2)"
   ]
  },
  {
   "cell_type": "code",
   "execution_count": 27,
   "id": "3b372b6d-f2ec-47bc-9bfb-e6aee6827c38",
   "metadata": {},
   "outputs": [
    {
     "data": {
      "text/plain": [
       "1"
      ]
     },
     "execution_count": 27,
     "metadata": {},
     "output_type": "execute_result"
    }
   ],
   "source": [
    "add(1)"
   ]
  },
  {
   "cell_type": "code",
   "execution_count": 29,
   "id": "736de0d7-b523-4939-8caa-b0793499f1f0",
   "metadata": {},
   "outputs": [
    {
     "data": {
      "text/plain": [
       "15"
      ]
     },
     "execution_count": 29,
     "metadata": {},
     "output_type": "execute_result"
    }
   ],
   "source": [
    "add(3,b=3,c=9)"
   ]
  },
  {
   "cell_type": "markdown",
   "id": "0bc6b99f-a272-47af-9a29-c4389dfa8918",
   "metadata": {},
   "source": [
    "## Positional Only Arguments"
   ]
  },
  {
   "cell_type": "code",
   "execution_count": 32,
   "id": "faa4e94b-3d21-4a0b-b7a9-935c32037344",
   "metadata": {},
   "outputs": [],
   "source": [
    "def add(a,b,/):\n",
    "    return a+b"
   ]
  },
  {
   "cell_type": "code",
   "execution_count": 34,
   "id": "6d13baaf-7a1a-40cf-bd6a-25165e58f0f4",
   "metadata": {},
   "outputs": [
    {
     "ename": "TypeError",
     "evalue": "add() got some positional-only arguments passed as keyword arguments: 'a, b'",
     "output_type": "error",
     "traceback": [
      "\u001b[1;31m---------------------------------------------------------------------------\u001b[0m",
      "\u001b[1;31mTypeError\u001b[0m                                 Traceback (most recent call last)",
      "Cell \u001b[1;32mIn[34], line 1\u001b[0m\n\u001b[1;32m----> 1\u001b[0m add(b\u001b[38;5;241m=\u001b[39m\u001b[38;5;241m10\u001b[39m,a\u001b[38;5;241m=\u001b[39m\u001b[38;5;241m20\u001b[39m)\n",
      "\u001b[1;31mTypeError\u001b[0m: add() got some positional-only arguments passed as keyword arguments: 'a, b'"
     ]
    }
   ],
   "source": [
    "add(b=10,a=20)"
   ]
  },
  {
   "cell_type": "code",
   "execution_count": 36,
   "id": "b0374b45-3f0d-499a-9870-64faac3806c4",
   "metadata": {},
   "outputs": [
    {
     "data": {
      "text/plain": [
       "30"
      ]
     },
     "execution_count": 36,
     "metadata": {},
     "output_type": "execute_result"
    }
   ],
   "source": [
    "add(10,20)"
   ]
  },
  {
   "cell_type": "code",
   "execution_count": 38,
   "id": "e4fcda25-bafb-40e7-9df1-9eb0f27a78f6",
   "metadata": {},
   "outputs": [
    {
     "ename": "TypeError",
     "evalue": "add() got some positional-only arguments passed as keyword arguments: 'b'",
     "output_type": "error",
     "traceback": [
      "\u001b[1;31m---------------------------------------------------------------------------\u001b[0m",
      "\u001b[1;31mTypeError\u001b[0m                                 Traceback (most recent call last)",
      "Cell \u001b[1;32mIn[38], line 1\u001b[0m\n\u001b[1;32m----> 1\u001b[0m add(\u001b[38;5;241m10\u001b[39m,b\u001b[38;5;241m=\u001b[39m\u001b[38;5;241m20\u001b[39m)\n",
      "\u001b[1;31mTypeError\u001b[0m: add() got some positional-only arguments passed as keyword arguments: 'b'"
     ]
    }
   ],
   "source": [
    "add(10,b=20)"
   ]
  },
  {
   "cell_type": "markdown",
   "id": "d1c1b74c-d7d3-405c-b028-62ade4646131",
   "metadata": {},
   "source": [
    "## Keyword only Arguments"
   ]
  },
  {
   "cell_type": "code",
   "execution_count": 41,
   "id": "f7f68b4f-a4de-4a06-a75c-30980313042e",
   "metadata": {},
   "outputs": [],
   "source": [
    "def add(*,a,b):\n",
    "    return a+b"
   ]
  },
  {
   "cell_type": "code",
   "execution_count": 43,
   "id": "260e0edc-b6d6-4195-bc70-7450034c0dfd",
   "metadata": {},
   "outputs": [
    {
     "data": {
      "text/plain": [
       "30"
      ]
     },
     "execution_count": 43,
     "metadata": {},
     "output_type": "execute_result"
    }
   ],
   "source": [
    "add(a=10,b=20)"
   ]
  },
  {
   "cell_type": "code",
   "execution_count": 45,
   "id": "cf70c6e2-7bb5-45b5-8ddc-79e300d7efb6",
   "metadata": {},
   "outputs": [
    {
     "ename": "TypeError",
     "evalue": "add() takes 0 positional arguments but 1 positional argument (and 1 keyword-only argument) were given",
     "output_type": "error",
     "traceback": [
      "\u001b[1;31m---------------------------------------------------------------------------\u001b[0m",
      "\u001b[1;31mTypeError\u001b[0m                                 Traceback (most recent call last)",
      "Cell \u001b[1;32mIn[45], line 1\u001b[0m\n\u001b[1;32m----> 1\u001b[0m add(\u001b[38;5;241m10\u001b[39m,b\u001b[38;5;241m=\u001b[39m\u001b[38;5;241m20\u001b[39m)\n",
      "\u001b[1;31mTypeError\u001b[0m: add() takes 0 positional arguments but 1 positional argument (and 1 keyword-only argument) were given"
     ]
    }
   ],
   "source": [
    "add(10,b=20)"
   ]
  },
  {
   "cell_type": "code",
   "execution_count": 49,
   "id": "efe6e956-2d14-4ce8-959f-4d28e8afafaa",
   "metadata": {},
   "outputs": [],
   "source": [
    "def add(a,b,/,c,d,e,f): #first two are positional only -> rest can be of any type\n",
    "    return a+b+c+d+e+f"
   ]
  },
  {
   "cell_type": "code",
   "execution_count": 51,
   "id": "22c1b9b4-a9b7-4660-bffb-6208b0f83330",
   "metadata": {},
   "outputs": [
    {
     "data": {
      "text/plain": [
       "21"
      ]
     },
     "execution_count": 51,
     "metadata": {},
     "output_type": "execute_result"
    }
   ],
   "source": [
    "add(1,2,c=3,d=4,e=5,f=6)"
   ]
  },
  {
   "cell_type": "code",
   "execution_count": 55,
   "id": "1654a920-c893-48d6-9705-6944f58e0ecf",
   "metadata": {},
   "outputs": [
    {
     "data": {
      "text/plain": [
       "21"
      ]
     },
     "execution_count": 55,
     "metadata": {},
     "output_type": "execute_result"
    }
   ],
   "source": [
    "add(1,2,3,4,e=5,f=6)"
   ]
  },
  {
   "cell_type": "code",
   "execution_count": 57,
   "id": "85e0cb20-e8f0-43b9-8c2b-6c50ca19a761",
   "metadata": {},
   "outputs": [],
   "source": [
    "def add(a,b,/,c,d,*,e,f): #first two are positional only and last two are keyword only, rest can be of any type\n",
    "    return a+b+c+d+e+f"
   ]
  },
  {
   "cell_type": "code",
   "execution_count": 59,
   "id": "4478ce0e-19a6-4fc7-8659-9c76db9af68d",
   "metadata": {},
   "outputs": [
    {
     "data": {
      "text/plain": [
       "21"
      ]
     },
     "execution_count": 59,
     "metadata": {},
     "output_type": "execute_result"
    }
   ],
   "source": [
    "add(1,2,c=3,d=4,e=5,f=6)"
   ]
  },
  {
   "cell_type": "code",
   "execution_count": 61,
   "id": "1854d9af-d1c4-4be4-96c4-3bd691f07e4a",
   "metadata": {},
   "outputs": [
    {
     "data": {
      "text/plain": [
       "21"
      ]
     },
     "execution_count": 61,
     "metadata": {},
     "output_type": "execute_result"
    }
   ],
   "source": [
    "add(1,2,3,4,e=5,f=6)"
   ]
  },
  {
   "cell_type": "code",
   "execution_count": 63,
   "id": "7201bfdf-dbe5-4ea2-85e1-c49fc4341782",
   "metadata": {},
   "outputs": [
    {
     "data": {
      "text/plain": [
       "21"
      ]
     },
     "execution_count": 63,
     "metadata": {},
     "output_type": "execute_result"
    }
   ],
   "source": [
    "add(1,2,3,4,e=5,f=6)"
   ]
  },
  {
   "cell_type": "markdown",
   "id": "a314d970-5bfb-4e1c-ad85-0d82b713d325",
   "metadata": {},
   "source": [
    "## Variable Length/Arbitrary Positional Argument"
   ]
  },
  {
   "cell_type": "code",
   "execution_count": 66,
   "id": "82cf8b81-73f4-4a04-b812-6c454c752fb2",
   "metadata": {},
   "outputs": [],
   "source": [
    "# fun() , fun(10), fun(10,20), fun(10,20,30), fun(1,2,3,.....,100)"
   ]
  },
  {
   "cell_type": "code",
   "execution_count": 68,
   "id": "a270fd31-bf33-411d-9fe6-486994ce3b12",
   "metadata": {},
   "outputs": [],
   "source": [
    "def fun(*args): #tuple\n",
    "    print(args)\n",
    "    print(type(args))"
   ]
  },
  {
   "cell_type": "code",
   "execution_count": 70,
   "id": "a537042e-3b13-469c-8553-1876e1a751dc",
   "metadata": {},
   "outputs": [
    {
     "name": "stdout",
     "output_type": "stream",
     "text": [
      "()\n",
      "<class 'tuple'>\n"
     ]
    }
   ],
   "source": [
    "fun()"
   ]
  },
  {
   "cell_type": "code",
   "execution_count": 72,
   "id": "3060d0cd-eb9e-4fec-85b7-cf028f4111a1",
   "metadata": {},
   "outputs": [
    {
     "name": "stdout",
     "output_type": "stream",
     "text": [
      "(10,)\n",
      "<class 'tuple'>\n"
     ]
    }
   ],
   "source": [
    "fun(10)"
   ]
  },
  {
   "cell_type": "code",
   "execution_count": 74,
   "id": "a906969b-4fdf-4dcb-b651-fc4b3d6dffa3",
   "metadata": {},
   "outputs": [
    {
     "name": "stdout",
     "output_type": "stream",
     "text": [
      "(10, 20)\n",
      "<class 'tuple'>\n"
     ]
    }
   ],
   "source": [
    "fun(10,20)"
   ]
  },
  {
   "cell_type": "code",
   "execution_count": 76,
   "id": "fc397509-7aa4-4984-a10d-f2fa732aa41a",
   "metadata": {},
   "outputs": [],
   "source": [
    "def fun2(a,b,*args,c,d):\n",
    "    print(a,b, args,c,d)"
   ]
  },
  {
   "cell_type": "code",
   "execution_count": 78,
   "id": "115cd271-48d4-4cb9-9a16-9bf1dc1581f0",
   "metadata": {},
   "outputs": [
    {
     "ename": "TypeError",
     "evalue": "fun2() missing 2 required positional arguments: 'a' and 'b'",
     "output_type": "error",
     "traceback": [
      "\u001b[1;31m---------------------------------------------------------------------------\u001b[0m",
      "\u001b[1;31mTypeError\u001b[0m                                 Traceback (most recent call last)",
      "Cell \u001b[1;32mIn[78], line 1\u001b[0m\n\u001b[1;32m----> 1\u001b[0m fun2()\n",
      "\u001b[1;31mTypeError\u001b[0m: fun2() missing 2 required positional arguments: 'a' and 'b'"
     ]
    }
   ],
   "source": [
    "fun2()"
   ]
  },
  {
   "cell_type": "code",
   "execution_count": 80,
   "id": "2e0f834f-0161-43a3-9b09-ac8a04f4e243",
   "metadata": {},
   "outputs": [
    {
     "ename": "TypeError",
     "evalue": "fun2() missing 1 required positional argument: 'b'",
     "output_type": "error",
     "traceback": [
      "\u001b[1;31m---------------------------------------------------------------------------\u001b[0m",
      "\u001b[1;31mTypeError\u001b[0m                                 Traceback (most recent call last)",
      "Cell \u001b[1;32mIn[80], line 1\u001b[0m\n\u001b[1;32m----> 1\u001b[0m fun2(\u001b[38;5;241m10\u001b[39m)\n",
      "\u001b[1;31mTypeError\u001b[0m: fun2() missing 1 required positional argument: 'b'"
     ]
    }
   ],
   "source": [
    "fun2(10)"
   ]
  },
  {
   "cell_type": "code",
   "execution_count": 82,
   "id": "0b30ac05-e32f-48fb-b8e0-1a4255fd0df1",
   "metadata": {},
   "outputs": [
    {
     "ename": "TypeError",
     "evalue": "fun2() missing 2 required keyword-only arguments: 'c' and 'd'",
     "output_type": "error",
     "traceback": [
      "\u001b[1;31m---------------------------------------------------------------------------\u001b[0m",
      "\u001b[1;31mTypeError\u001b[0m                                 Traceback (most recent call last)",
      "Cell \u001b[1;32mIn[82], line 1\u001b[0m\n\u001b[1;32m----> 1\u001b[0m fun2(\u001b[38;5;241m10\u001b[39m,\u001b[38;5;241m20\u001b[39m,\u001b[38;5;241m30\u001b[39m)\n",
      "\u001b[1;31mTypeError\u001b[0m: fun2() missing 2 required keyword-only arguments: 'c' and 'd'"
     ]
    }
   ],
   "source": [
    "fun2(10,20,30)"
   ]
  },
  {
   "cell_type": "markdown",
   "id": "ad517c55-f114-400b-bbe4-0b9be3609af8",
   "metadata": {},
   "source": [
    "## Variable Length/Arbitrary Keyword Argument"
   ]
  },
  {
   "cell_type": "code",
   "execution_count": 84,
   "id": "b2b89013-9547-45cb-8e3f-f0124aa92278",
   "metadata": {},
   "outputs": [],
   "source": [
    "def fun3(**kwargs):\n",
    "    print(kwargs)\n",
    "    print(type(kwargs))"
   ]
  },
  {
   "cell_type": "code",
   "execution_count": 86,
   "id": "d253b538-f9d2-439a-8818-c0d8b1dd001b",
   "metadata": {},
   "outputs": [
    {
     "name": "stdout",
     "output_type": "stream",
     "text": [
      "{}\n",
      "<class 'dict'>\n"
     ]
    }
   ],
   "source": [
    "fun3()"
   ]
  },
  {
   "cell_type": "code",
   "execution_count": 88,
   "id": "a963ebc9-8c41-4e48-8bfd-1797efdb19a8",
   "metadata": {},
   "outputs": [
    {
     "name": "stdout",
     "output_type": "stream",
     "text": [
      "{'a': 10}\n",
      "<class 'dict'>\n"
     ]
    }
   ],
   "source": [
    "fun3(a=10)"
   ]
  },
  {
   "cell_type": "code",
   "execution_count": 90,
   "id": "ce6c4c8f-13d7-4193-95dc-1cca6c40bb51",
   "metadata": {},
   "outputs": [
    {
     "name": "stdout",
     "output_type": "stream",
     "text": [
      "{'a': 10, 'b': 20}\n",
      "<class 'dict'>\n"
     ]
    }
   ],
   "source": [
    "fun3(a=10, b=20)"
   ]
  },
  {
   "cell_type": "code",
   "execution_count": 92,
   "id": "d8535850-124c-4799-8a31-9f8730b588a7",
   "metadata": {},
   "outputs": [
    {
     "name": "stdout",
     "output_type": "stream",
     "text": [
      "{'a': 10, 'b': 20, 'c': 30}\n",
      "<class 'dict'>\n"
     ]
    }
   ],
   "source": [
    "fun3(a=10, b=20,c=30)"
   ]
  },
  {
   "cell_type": "code",
   "execution_count": 94,
   "id": "f316e4a6-b950-4232-82ba-a2ec7dc6e360",
   "metadata": {},
   "outputs": [],
   "source": [
    "def fun4(a,b,**kwrgs):\n",
    "    print(kwrgs)\n",
    "    print(a)\n",
    "    print(b)"
   ]
  },
  {
   "cell_type": "code",
   "execution_count": 96,
   "id": "8ec7b88d-dfdb-4985-9e1f-dfea050bb24b",
   "metadata": {},
   "outputs": [
    {
     "name": "stdout",
     "output_type": "stream",
     "text": [
      "{}\n",
      "10\n",
      "20\n"
     ]
    }
   ],
   "source": [
    "fun4(10,20)"
   ]
  },
  {
   "cell_type": "code",
   "execution_count": 100,
   "id": "6660005f-449c-4b59-8827-eba8e7bbf38e",
   "metadata": {},
   "outputs": [
    {
     "name": "stdout",
     "output_type": "stream",
     "text": [
      "{'x': 30}\n",
      "10\n",
      "20\n"
     ]
    }
   ],
   "source": [
    "fun4(10,20,x = 30)"
   ]
  },
  {
   "cell_type": "code",
   "execution_count": 102,
   "id": "9f80a8df-c806-45dc-987b-d1f33f907600",
   "metadata": {},
   "outputs": [
    {
     "name": "stdout",
     "output_type": "stream",
     "text": [
      "{'x': 30, 'y': 40}\n",
      "10\n",
      "20\n"
     ]
    }
   ],
   "source": [
    "fun4(10,20,x = 30, y=40)"
   ]
  }
 ],
 "metadata": {
  "kernelspec": {
   "display_name": "Python 3 (ipykernel)",
   "language": "python",
   "name": "python3"
  },
  "language_info": {
   "codemirror_mode": {
    "name": "ipython",
    "version": 3
   },
   "file_extension": ".py",
   "mimetype": "text/x-python",
   "name": "python",
   "nbconvert_exporter": "python",
   "pygments_lexer": "ipython3",
   "version": "3.12.7"
  }
 },
 "nbformat": 4,
 "nbformat_minor": 5
}
