{
 "cells": [
  {
   "cell_type": "markdown",
   "id": "7301b31f-64ff-4e9d-88a9-106d405b83fb",
   "metadata": {},
   "source": [
    "## Set"
   ]
  },
  {
   "cell_type": "code",
   "execution_count": 1,
   "id": "2cf016d0-271f-442f-9d44-fd47a410468b",
   "metadata": {},
   "outputs": [],
   "source": [
    "s1 = {'hello', 45, 89.23, 'hello', 45, True}"
   ]
  },
  {
   "cell_type": "code",
   "execution_count": 3,
   "id": "0084a8be-74e0-431b-a648-65c89411d549",
   "metadata": {},
   "outputs": [
    {
     "data": {
      "text/plain": [
       "{45, 89.23, True, 'hello'}"
      ]
     },
     "execution_count": 3,
     "metadata": {},
     "output_type": "execute_result"
    }
   ],
   "source": [
    "s1  # unordered, # unique values # No Duplicates"
   ]
  },
  {
   "cell_type": "code",
   "execution_count": 5,
   "id": "dccbd617-d0de-4e4c-9f71-9901712eb024",
   "metadata": {},
   "outputs": [
    {
     "name": "stdout",
     "output_type": "stream",
     "text": [
      "89.23\n",
      "45\n",
      "True\n",
      "hello\n"
     ]
    }
   ],
   "source": [
    "for i in s1: # iterable\n",
    "    print(i)"
   ]
  },
  {
   "cell_type": "code",
   "execution_count": 7,
   "id": "b37262c6-9f06-4b01-a6b7-62d6eb66a306",
   "metadata": {},
   "outputs": [
    {
     "ename": "TypeError",
     "evalue": "'set' object is not subscriptable",
     "output_type": "error",
     "traceback": [
      "\u001b[1;31m---------------------------------------------------------------------------\u001b[0m",
      "\u001b[1;31mTypeError\u001b[0m                                 Traceback (most recent call last)",
      "Cell \u001b[1;32mIn[7], line 1\u001b[0m\n\u001b[1;32m----> 1\u001b[0m s1[\u001b[38;5;241m0\u001b[39m]\n",
      "\u001b[1;31mTypeError\u001b[0m: 'set' object is not subscriptable"
     ]
    }
   ],
   "source": [
    "s1[0]"
   ]
  },
  {
   "cell_type": "code",
   "execution_count": 9,
   "id": "8e707a11-de5d-4b24-aa6a-2620e5e2ad64",
   "metadata": {},
   "outputs": [],
   "source": [
    "s1.add(78)"
   ]
  },
  {
   "cell_type": "code",
   "execution_count": 11,
   "id": "e106e72f-098b-44d9-b8f9-3c59222c2dd4",
   "metadata": {},
   "outputs": [
    {
     "data": {
      "text/plain": [
       "{45, 78, 89.23, True, 'hello'}"
      ]
     },
     "execution_count": 11,
     "metadata": {},
     "output_type": "execute_result"
    }
   ],
   "source": [
    "s1"
   ]
  },
  {
   "cell_type": "code",
   "execution_count": 13,
   "id": "f7022653-1b8b-4fcb-98bc-9205d1bf181d",
   "metadata": {},
   "outputs": [
    {
     "name": "stdout",
     "output_type": "stream",
     "text": [
      "<class 'set'>\n"
     ]
    }
   ],
   "source": [
    "print(type(s1))"
   ]
  },
  {
   "cell_type": "code",
   "execution_count": 15,
   "id": "120c0196-d1c6-4370-a03f-9142fe04d703",
   "metadata": {},
   "outputs": [
    {
     "ename": "TypeError",
     "evalue": "set expected at most 1 argument, got 5",
     "output_type": "error",
     "traceback": [
      "\u001b[1;31m---------------------------------------------------------------------------\u001b[0m",
      "\u001b[1;31mTypeError\u001b[0m                                 Traceback (most recent call last)",
      "Cell \u001b[1;32mIn[15], line 1\u001b[0m\n\u001b[1;32m----> 1\u001b[0m s2 \u001b[38;5;241m=\u001b[39m \u001b[38;5;28mset\u001b[39m(\u001b[38;5;241m1\u001b[39m,\u001b[38;5;241m2\u001b[39m,\u001b[38;5;241m3\u001b[39m,\u001b[38;5;241m4\u001b[39m,\u001b[38;5;241m5\u001b[39m)\n",
      "\u001b[1;31mTypeError\u001b[0m: set expected at most 1 argument, got 5"
     ]
    }
   ],
   "source": [
    "s2 = set(1,2,3,4,5)"
   ]
  },
  {
   "cell_type": "code",
   "execution_count": 17,
   "id": "6ca36fa6-30c9-4097-a73f-79fa88be3259",
   "metadata": {},
   "outputs": [],
   "source": [
    "s2 = set((1,2,3,4,5))"
   ]
  },
  {
   "cell_type": "code",
   "execution_count": 19,
   "id": "02647331-45df-4924-bd7e-a1806ac75133",
   "metadata": {},
   "outputs": [
    {
     "data": {
      "text/plain": [
       "{1, 2, 3, 4, 5}"
      ]
     },
     "execution_count": 19,
     "metadata": {},
     "output_type": "execute_result"
    }
   ],
   "source": [
    "s2"
   ]
  },
  {
   "cell_type": "code",
   "execution_count": 21,
   "id": "829273c8-3fac-435e-b5b0-e772efd14c9c",
   "metadata": {},
   "outputs": [],
   "source": [
    "s3 = set('Python')"
   ]
  },
  {
   "cell_type": "code",
   "execution_count": 23,
   "id": "57372f3b-a3aa-46a0-a005-1c287a587e87",
   "metadata": {},
   "outputs": [
    {
     "data": {
      "text/plain": [
       "{'P', 'h', 'n', 'o', 't', 'y'}"
      ]
     },
     "execution_count": 23,
     "metadata": {},
     "output_type": "execute_result"
    }
   ],
   "source": [
    "s3  #as it is unordered"
   ]
  },
  {
   "cell_type": "code",
   "execution_count": 25,
   "id": "f3639a22-6d47-497b-ba19-516713bbe630",
   "metadata": {},
   "outputs": [
    {
     "data": {
      "text/plain": [
       "{'P', 'h', 'n', 'o', 't', 'y'}"
      ]
     },
     "execution_count": 25,
     "metadata": {},
     "output_type": "execute_result"
    }
   ],
   "source": [
    "s3"
   ]
  },
  {
   "cell_type": "code",
   "execution_count": 27,
   "id": "9b0fb53c-b5f4-4665-903c-9eb57c94f2bd",
   "metadata": {},
   "outputs": [
    {
     "ename": "TypeError",
     "evalue": "'set' object does not support item assignment",
     "output_type": "error",
     "traceback": [
      "\u001b[1;31m---------------------------------------------------------------------------\u001b[0m",
      "\u001b[1;31mTypeError\u001b[0m                                 Traceback (most recent call last)",
      "Cell \u001b[1;32mIn[27], line 1\u001b[0m\n\u001b[1;32m----> 1\u001b[0m s3[\u001b[38;5;241m1\u001b[39m] \u001b[38;5;241m=\u001b[39m \u001b[38;5;124m'\u001b[39m\u001b[38;5;124mu\u001b[39m\u001b[38;5;124m'\u001b[39m\n",
      "\u001b[1;31mTypeError\u001b[0m: 'set' object does not support item assignment"
     ]
    }
   ],
   "source": [
    "s3[1] = 'u'"
   ]
  },
  {
   "cell_type": "code",
   "execution_count": 29,
   "id": "82abcdfb-8390-48e4-bf56-184a6f12534b",
   "metadata": {},
   "outputs": [],
   "source": [
    "s3.discard('h') \n",
    "# can't edit using index, but deleting and adding the new one is possible\n",
    "# This is how it is mutable"
   ]
  },
  {
   "cell_type": "code",
   "execution_count": 31,
   "id": "d79ca72f-a200-473e-9b25-500d8647ab59",
   "metadata": {},
   "outputs": [
    {
     "data": {
      "text/plain": [
       "{'P', 'n', 'o', 't', 'y'}"
      ]
     },
     "execution_count": 31,
     "metadata": {},
     "output_type": "execute_result"
    }
   ],
   "source": [
    "s3"
   ]
  },
  {
   "cell_type": "code",
   "execution_count": 33,
   "id": "6e7d3cb8-15d5-47c0-a52e-0bf43d91b99b",
   "metadata": {},
   "outputs": [],
   "source": [
    "s3.add('u')"
   ]
  },
  {
   "cell_type": "code",
   "execution_count": 35,
   "id": "a7a0d508-a489-47cb-90d0-abf6ed2bd446",
   "metadata": {},
   "outputs": [
    {
     "data": {
      "text/plain": [
       "{'P', 'n', 'o', 't', 'u', 'y'}"
      ]
     },
     "execution_count": 35,
     "metadata": {},
     "output_type": "execute_result"
    }
   ],
   "source": [
    "s3"
   ]
  },
  {
   "cell_type": "code",
   "execution_count": 37,
   "id": "c6d0d3bc-cd1b-4909-9ac1-15ca0ce0f391",
   "metadata": {},
   "outputs": [
    {
     "data": {
      "text/plain": [
       "6"
      ]
     },
     "execution_count": 37,
     "metadata": {},
     "output_type": "execute_result"
    }
   ],
   "source": [
    "len(s3)"
   ]
  },
  {
   "cell_type": "code",
   "execution_count": 39,
   "id": "dfa7f0f1-4dc0-44ff-ad85-930244c81559",
   "metadata": {},
   "outputs": [],
   "source": [
    "S = {1,2,3,4,5,6,7,8,9,10}"
   ]
  },
  {
   "cell_type": "code",
   "execution_count": 41,
   "id": "3dda942b-7ba5-4b09-9d84-4be629297815",
   "metadata": {},
   "outputs": [],
   "source": [
    "A = {1,2,3,5,7}"
   ]
  },
  {
   "cell_type": "code",
   "execution_count": 43,
   "id": "6d552a50-7454-4c83-96cb-7d4df8f630fe",
   "metadata": {},
   "outputs": [],
   "source": [
    "B = {5,7,9,10}"
   ]
  },
  {
   "cell_type": "code",
   "execution_count": 45,
   "id": "9a57bdec-81e3-4261-aaaa-3ee91d317b6c",
   "metadata": {},
   "outputs": [],
   "source": [
    "C = {1,2,3,4,5,6,7,8,9,10}"
   ]
  },
  {
   "cell_type": "code",
   "execution_count": 47,
   "id": "bf958df6-8a2b-4d4c-8e59-b4b183a6f404",
   "metadata": {},
   "outputs": [],
   "source": [
    "D = {1,2,3,4,5}"
   ]
  },
  {
   "cell_type": "code",
   "execution_count": 49,
   "id": "a94318e4-35c4-41a2-9282-e5482ead64d6",
   "metadata": {},
   "outputs": [],
   "source": [
    "E = {6,7,8,9,10}"
   ]
  },
  {
   "cell_type": "markdown",
   "id": "03d69416-65de-46a7-b9dc-f42701ddab0a",
   "metadata": {},
   "source": [
    "### union(iterable), intersection(iterable), difference(iterable), symmetric_difference(iterable)"
   ]
  },
  {
   "cell_type": "code",
   "execution_count": 53,
   "id": "2f345778-7a5d-43b0-962a-0c8e46bb2bdb",
   "metadata": {},
   "outputs": [
    {
     "data": {
      "text/plain": [
       "{1, 2, 3, 5, 7, 9, 10}"
      ]
     },
     "execution_count": 53,
     "metadata": {},
     "output_type": "execute_result"
    }
   ],
   "source": [
    "A.union(B)"
   ]
  },
  {
   "cell_type": "code",
   "execution_count": 55,
   "id": "1c1a9821-3916-4a61-bcdf-689a96087c7c",
   "metadata": {},
   "outputs": [
    {
     "data": {
      "text/plain": [
       "{1, 2, 3, 5, 7, 'P', 'h', 'n', 'o', 't', 'y'}"
      ]
     },
     "execution_count": 55,
     "metadata": {},
     "output_type": "execute_result"
    }
   ],
   "source": [
    "A.union('Python')"
   ]
  },
  {
   "cell_type": "code",
   "execution_count": 57,
   "id": "fc2907cd-7392-497d-a846-532706f32005",
   "metadata": {},
   "outputs": [],
   "source": [
    "l1 = [11,22,33]"
   ]
  },
  {
   "cell_type": "code",
   "execution_count": 59,
   "id": "d017655f-d37a-4a20-8f52-a7008220ea2c",
   "metadata": {},
   "outputs": [
    {
     "data": {
      "text/plain": [
       "{1, 2, 3, 5, 7, 11, 22, 33}"
      ]
     },
     "execution_count": 59,
     "metadata": {},
     "output_type": "execute_result"
    }
   ],
   "source": [
    "A.union(l1)"
   ]
  },
  {
   "cell_type": "code",
   "execution_count": 61,
   "id": "7faf625e-5434-4003-ae3e-a212921d3772",
   "metadata": {},
   "outputs": [
    {
     "data": {
      "text/plain": [
       "{1, 2, 3, 5, 7}"
      ]
     },
     "execution_count": 61,
     "metadata": {},
     "output_type": "execute_result"
    }
   ],
   "source": [
    "A"
   ]
  },
  {
   "cell_type": "code",
   "execution_count": 63,
   "id": "26e52ad3-8a8f-482c-8a3f-0b4eb36962df",
   "metadata": {},
   "outputs": [
    {
     "data": {
      "text/plain": [
       "{5, 7}"
      ]
     },
     "execution_count": 63,
     "metadata": {},
     "output_type": "execute_result"
    }
   ],
   "source": [
    "A.intersection(B)"
   ]
  },
  {
   "cell_type": "code",
   "execution_count": 65,
   "id": "a129ea36-63ea-476e-88e0-c27d287b9089",
   "metadata": {},
   "outputs": [
    {
     "data": {
      "text/plain": [
       "{1, 2, 3}"
      ]
     },
     "execution_count": 65,
     "metadata": {},
     "output_type": "execute_result"
    }
   ],
   "source": [
    "A.difference(B)"
   ]
  },
  {
   "cell_type": "code",
   "execution_count": 67,
   "id": "d383a6da-5796-4215-93aa-49a763d52051",
   "metadata": {},
   "outputs": [
    {
     "data": {
      "text/plain": [
       "{9, 10}"
      ]
     },
     "execution_count": 67,
     "metadata": {},
     "output_type": "execute_result"
    }
   ],
   "source": [
    "B.difference(A)"
   ]
  },
  {
   "cell_type": "code",
   "execution_count": 69,
   "id": "e5f86fcc-6b63-4509-b183-dd9d06440809",
   "metadata": {},
   "outputs": [],
   "source": [
    "A.intersection_update(B)"
   ]
  },
  {
   "cell_type": "code",
   "execution_count": 71,
   "id": "0d96ef8f-dece-4a42-9040-847e72999564",
   "metadata": {},
   "outputs": [
    {
     "data": {
      "text/plain": [
       "{5, 7}"
      ]
     },
     "execution_count": 71,
     "metadata": {},
     "output_type": "execute_result"
    }
   ],
   "source": [
    "A"
   ]
  },
  {
   "cell_type": "code",
   "execution_count": 73,
   "id": "1c30bb79-a611-4161-b02d-7e1c95a41ad6",
   "metadata": {},
   "outputs": [],
   "source": [
    "A = {1,2,3,5,7}"
   ]
  },
  {
   "cell_type": "code",
   "execution_count": 75,
   "id": "7cc3146b-385a-445d-947e-11be60e6f9f6",
   "metadata": {},
   "outputs": [
    {
     "data": {
      "text/plain": [
       "{1, 2, 3}"
      ]
     },
     "execution_count": 75,
     "metadata": {},
     "output_type": "execute_result"
    }
   ],
   "source": [
    "A.difference(B)"
   ]
  },
  {
   "cell_type": "code",
   "execution_count": 77,
   "id": "2762c74e-c1f2-4eed-bc2f-f35df51e7dc1",
   "metadata": {},
   "outputs": [
    {
     "data": {
      "text/plain": [
       "{1, 2, 3, 5, 7}"
      ]
     },
     "execution_count": 77,
     "metadata": {},
     "output_type": "execute_result"
    }
   ],
   "source": [
    "A"
   ]
  },
  {
   "cell_type": "code",
   "execution_count": 79,
   "id": "5242470a-7153-4930-8bc9-5d9f25aae89f",
   "metadata": {},
   "outputs": [],
   "source": [
    "A.difference_update(B)"
   ]
  },
  {
   "cell_type": "code",
   "execution_count": 81,
   "id": "d06af040-b07d-4892-b9e6-7684bba6bbb6",
   "metadata": {},
   "outputs": [
    {
     "data": {
      "text/plain": [
       "{1, 2, 3}"
      ]
     },
     "execution_count": 81,
     "metadata": {},
     "output_type": "execute_result"
    }
   ],
   "source": [
    "A"
   ]
  },
  {
   "cell_type": "code",
   "execution_count": 83,
   "id": "c35a93eb-4801-4568-9189-9c81988c3216",
   "metadata": {},
   "outputs": [],
   "source": [
    "A = {1,2,3,5,7}"
   ]
  },
  {
   "cell_type": "code",
   "execution_count": 85,
   "id": "2b389da0-06ad-4473-9a23-7d93be71fe27",
   "metadata": {},
   "outputs": [
    {
     "data": {
      "text/plain": [
       "{1, 2, 3, 9, 10}"
      ]
     },
     "execution_count": 85,
     "metadata": {},
     "output_type": "execute_result"
    }
   ],
   "source": [
    "A.symmetric_difference(B)"
   ]
  },
  {
   "cell_type": "code",
   "execution_count": 87,
   "id": "9c2e46ed-e9d5-47dd-8d36-012df328224b",
   "metadata": {},
   "outputs": [
    {
     "data": {
      "text/plain": [
       "{1, 2, 3, 5, 7}"
      ]
     },
     "execution_count": 87,
     "metadata": {},
     "output_type": "execute_result"
    }
   ],
   "source": [
    "A"
   ]
  },
  {
   "cell_type": "code",
   "execution_count": 89,
   "id": "f3d4fa5e-9870-49a7-b651-d0c58fa5cc63",
   "metadata": {},
   "outputs": [],
   "source": [
    "A.symmetric_difference_update(B)"
   ]
  },
  {
   "cell_type": "code",
   "execution_count": 91,
   "id": "a2357110-e671-47b3-a638-6be57fa6b7ac",
   "metadata": {},
   "outputs": [
    {
     "data": {
      "text/plain": [
       "{1, 2, 3, 9, 10}"
      ]
     },
     "execution_count": 91,
     "metadata": {},
     "output_type": "execute_result"
    }
   ],
   "source": [
    "A"
   ]
  },
  {
   "cell_type": "code",
   "execution_count": 93,
   "id": "ff228580-9bb1-471b-a9db-39f1a0d6df86",
   "metadata": {},
   "outputs": [
    {
     "data": {
      "text/plain": [
       "{5, 7, 9, 10}"
      ]
     },
     "execution_count": 93,
     "metadata": {},
     "output_type": "execute_result"
    }
   ],
   "source": [
    "B"
   ]
  },
  {
   "cell_type": "code",
   "execution_count": 95,
   "id": "80dfa4df-190f-4bb7-a28f-c9d8416c1a3e",
   "metadata": {},
   "outputs": [],
   "source": [
    "A = {1,2,3,5,7}"
   ]
  },
  {
   "cell_type": "code",
   "execution_count": 97,
   "id": "e8e6b6f4-8c4e-4932-899a-3557f63931db",
   "metadata": {},
   "outputs": [
    {
     "data": {
      "text/plain": [
       "{5, 7, 9, 10}"
      ]
     },
     "execution_count": 97,
     "metadata": {},
     "output_type": "execute_result"
    }
   ],
   "source": [
    "B"
   ]
  },
  {
   "cell_type": "code",
   "execution_count": 99,
   "id": "3e525410-2884-4656-ab12-4d398d073b94",
   "metadata": {},
   "outputs": [
    {
     "data": {
      "text/plain": [
       "{1, 2, 3, 5, 7, 9, 10}"
      ]
     },
     "execution_count": 99,
     "metadata": {},
     "output_type": "execute_result"
    }
   ],
   "source": [
    "A | B #union"
   ]
  },
  {
   "cell_type": "code",
   "execution_count": 101,
   "id": "62e12c05-59c4-42cc-9944-8326315beaed",
   "metadata": {},
   "outputs": [
    {
     "data": {
      "text/plain": [
       "{5, 7}"
      ]
     },
     "execution_count": 101,
     "metadata": {},
     "output_type": "execute_result"
    }
   ],
   "source": [
    "A & B #intersection"
   ]
  },
  {
   "cell_type": "code",
   "execution_count": 103,
   "id": "2f0b43f3-7b52-44a4-8db8-e93371e075d6",
   "metadata": {},
   "outputs": [
    {
     "data": {
      "text/plain": [
       "{1, 2, 3, 9, 10}"
      ]
     },
     "execution_count": 103,
     "metadata": {},
     "output_type": "execute_result"
    }
   ],
   "source": [
    "A ^ B #symmetric difference"
   ]
  },
  {
   "cell_type": "code",
   "execution_count": 105,
   "id": "8a943db3-93b3-4819-873f-e303a4d2fb29",
   "metadata": {},
   "outputs": [
    {
     "data": {
      "text/plain": [
       "{1, 2, 3}"
      ]
     },
     "execution_count": 105,
     "metadata": {},
     "output_type": "execute_result"
    }
   ],
   "source": [
    "A - B #difference"
   ]
  },
  {
   "cell_type": "code",
   "execution_count": 107,
   "id": "6c277fb4-a8f4-49f6-be54-9655589f9c9e",
   "metadata": {},
   "outputs": [
    {
     "data": {
      "text/plain": [
       "{1, 2, 3, 9, 10}"
      ]
     },
     "execution_count": 107,
     "metadata": {},
     "output_type": "execute_result"
    }
   ],
   "source": [
    "B ^ A"
   ]
  },
  {
   "cell_type": "code",
   "execution_count": 109,
   "id": "d957fc72-a9b5-4aa3-8bc3-a06b6bdab725",
   "metadata": {},
   "outputs": [
    {
     "data": {
      "text/plain": [
       "True"
      ]
     },
     "execution_count": 109,
     "metadata": {},
     "output_type": "execute_result"
    }
   ],
   "source": [
    "A < S # A is subset o S or not"
   ]
  },
  {
   "cell_type": "code",
   "execution_count": 115,
   "id": "acef79a1-0d50-4537-8daf-dfaa6be372bd",
   "metadata": {},
   "outputs": [
    {
     "data": {
      "text/plain": [
       "False"
      ]
     },
     "execution_count": 115,
     "metadata": {},
     "output_type": "execute_result"
    }
   ],
   "source": [
    "S < A # S is subset of A or not"
   ]
  },
  {
   "cell_type": "code",
   "execution_count": 113,
   "id": "e00b4ebf-1540-4fde-9edd-54c806b17435",
   "metadata": {},
   "outputs": [
    {
     "data": {
      "text/plain": [
       "True"
      ]
     },
     "execution_count": 113,
     "metadata": {},
     "output_type": "execute_result"
    }
   ],
   "source": [
    "S > A # A is superset of S or not"
   ]
  },
  {
   "cell_type": "code",
   "execution_count": 125,
   "id": "2ddff286-78d1-44da-b121-882a7d8ef9e7",
   "metadata": {},
   "outputs": [
    {
     "data": {
      "text/plain": [
       "True"
      ]
     },
     "execution_count": 125,
     "metadata": {},
     "output_type": "execute_result"
    }
   ],
   "source": [
    "C == S #equal or not"
   ]
  },
  {
   "cell_type": "code",
   "execution_count": 127,
   "id": "5983ec19-e657-4fc0-a7d8-9d2c064bfbba",
   "metadata": {},
   "outputs": [
    {
     "data": {
      "text/plain": [
       "True"
      ]
     },
     "execution_count": 127,
     "metadata": {},
     "output_type": "execute_result"
    }
   ],
   "source": [
    "C != A #both are not equal or not"
   ]
  },
  {
   "cell_type": "code",
   "execution_count": 129,
   "id": "38a95855-857b-4fbc-b851-54fe207fc626",
   "metadata": {},
   "outputs": [
    {
     "data": {
      "text/plain": [
       "False"
      ]
     },
     "execution_count": 129,
     "metadata": {},
     "output_type": "execute_result"
    }
   ],
   "source": [
    "6 in B"
   ]
  },
  {
   "cell_type": "code",
   "execution_count": 131,
   "id": "988bdbbc-5115-4b71-9f79-ac5eaf0b4d48",
   "metadata": {},
   "outputs": [
    {
     "data": {
      "text/plain": [
       "True"
      ]
     },
     "execution_count": 131,
     "metadata": {},
     "output_type": "execute_result"
    }
   ],
   "source": [
    "7 in B"
   ]
  },
  {
   "cell_type": "markdown",
   "id": "e7f43b65-f7c4-49a8-a971-5323266bd6f7",
   "metadata": {},
   "source": [
    "## add(), copy(), update()"
   ]
  },
  {
   "cell_type": "code",
   "execution_count": 134,
   "id": "6f9b5679-a2bd-4ba7-b8fc-5ac342a6093c",
   "metadata": {},
   "outputs": [],
   "source": [
    "s1 = {10,20,30,40,50}"
   ]
  },
  {
   "cell_type": "code",
   "execution_count": 136,
   "id": "284e3a19-7d46-4952-b668-ce57b65c18a3",
   "metadata": {},
   "outputs": [],
   "source": [
    "s1.add(60)"
   ]
  },
  {
   "cell_type": "code",
   "execution_count": 138,
   "id": "404daf5a-cf34-4db4-9c57-28ceb7898cfc",
   "metadata": {},
   "outputs": [
    {
     "data": {
      "text/plain": [
       "{10, 20, 30, 40, 50, 60}"
      ]
     },
     "execution_count": 138,
     "metadata": {},
     "output_type": "execute_result"
    }
   ],
   "source": [
    "s1"
   ]
  },
  {
   "cell_type": "code",
   "execution_count": 140,
   "id": "8558f803-1189-4588-9d60-5eaa49c6d4f3",
   "metadata": {},
   "outputs": [],
   "source": [
    "s1.add(78)"
   ]
  },
  {
   "cell_type": "code",
   "execution_count": 142,
   "id": "8ce17770-9e31-49c5-bf4e-a9e61ada98fc",
   "metadata": {},
   "outputs": [
    {
     "data": {
      "text/plain": [
       "{10, 20, 30, 40, 50, 60, 78}"
      ]
     },
     "execution_count": 142,
     "metadata": {},
     "output_type": "execute_result"
    }
   ],
   "source": [
    "s1"
   ]
  },
  {
   "cell_type": "code",
   "execution_count": 144,
   "id": "35362940-1c9a-457d-ab37-e4b75ab02cc5",
   "metadata": {},
   "outputs": [],
   "source": [
    "s1.add(11)"
   ]
  },
  {
   "cell_type": "code",
   "execution_count": 146,
   "id": "628c81cd-8c4b-4600-82c3-33eb92f51333",
   "metadata": {},
   "outputs": [
    {
     "data": {
      "text/plain": [
       "{10, 11, 20, 30, 40, 50, 60, 78}"
      ]
     },
     "execution_count": 146,
     "metadata": {},
     "output_type": "execute_result"
    }
   ],
   "source": [
    "s1"
   ]
  },
  {
   "cell_type": "code",
   "execution_count": 150,
   "id": "63277366-9383-4f06-8511-d219c3957ba3",
   "metadata": {},
   "outputs": [
    {
     "ename": "TypeError",
     "evalue": "unhashable type: 'list'",
     "output_type": "error",
     "traceback": [
      "\u001b[1;31m---------------------------------------------------------------------------\u001b[0m",
      "\u001b[1;31mTypeError\u001b[0m                                 Traceback (most recent call last)",
      "Cell \u001b[1;32mIn[150], line 1\u001b[0m\n\u001b[1;32m----> 1\u001b[0m s1\u001b[38;5;241m.\u001b[39madd(l1)\n",
      "\u001b[1;31mTypeError\u001b[0m: unhashable type: 'list'"
     ]
    }
   ],
   "source": [
    "s1.add(l1)  #mutable object can't be set member"
   ]
  },
  {
   "cell_type": "code",
   "execution_count": 152,
   "id": "ce3179e1-60b5-4c6b-b9fb-7f736464b0dd",
   "metadata": {},
   "outputs": [],
   "source": [
    "t1 = (1,2,3)"
   ]
  },
  {
   "cell_type": "code",
   "execution_count": 154,
   "id": "9d85bcbe-f3dd-4afe-9ad1-d07c12a4efa2",
   "metadata": {},
   "outputs": [],
   "source": [
    "s1.add(t1) # immutable object can be set member"
   ]
  },
  {
   "cell_type": "code",
   "execution_count": 156,
   "id": "90cb2c99-391d-49a8-9f67-7dc0c5f7661b",
   "metadata": {},
   "outputs": [
    {
     "data": {
      "text/plain": [
       "{(1, 2, 3), 10, 11, 20, 30, 40, 50, 60, 78}"
      ]
     },
     "execution_count": 156,
     "metadata": {},
     "output_type": "execute_result"
    }
   ],
   "source": [
    "s1"
   ]
  },
  {
   "cell_type": "code",
   "execution_count": 158,
   "id": "ac22e7ed-76dd-4a9d-9940-0cae314935aa",
   "metadata": {},
   "outputs": [],
   "source": [
    "s1.add('python') # immutable object can be set member"
   ]
  },
  {
   "cell_type": "code",
   "execution_count": 160,
   "id": "27ab0cef-c647-43d9-9e1e-1ff42e0621fd",
   "metadata": {},
   "outputs": [
    {
     "data": {
      "text/plain": [
       "{(1, 2, 3), 10, 11, 20, 30, 40, 50, 60, 78, 'python'}"
      ]
     },
     "execution_count": 160,
     "metadata": {},
     "output_type": "execute_result"
    }
   ],
   "source": [
    "s1"
   ]
  },
  {
   "cell_type": "code",
   "execution_count": 164,
   "id": "440c6c68-560d-4679-92b8-be3b05b0d223",
   "metadata": {},
   "outputs": [
    {
     "ename": "TypeError",
     "evalue": "unhashable type: 'set'",
     "output_type": "error",
     "traceback": [
      "\u001b[1;31m---------------------------------------------------------------------------\u001b[0m",
      "\u001b[1;31mTypeError\u001b[0m                                 Traceback (most recent call last)",
      "Cell \u001b[1;32mIn[164], line 1\u001b[0m\n\u001b[1;32m----> 1\u001b[0m s1\u001b[38;5;241m.\u001b[39madd(A)\n",
      "\u001b[1;31mTypeError\u001b[0m: unhashable type: 'set'"
     ]
    }
   ],
   "source": [
    "s1.add(A) #mutable object can't be set member"
   ]
  },
  {
   "cell_type": "code",
   "execution_count": 166,
   "id": "7a3a6a03-f86e-45fb-b201-6a6acc1b641d",
   "metadata": {},
   "outputs": [
    {
     "data": {
      "text/plain": [
       "{(1, 2, 3), 10, 11, 20, 30, 40, 50, 60, 78, 'python'}"
      ]
     },
     "execution_count": 166,
     "metadata": {},
     "output_type": "execute_result"
    }
   ],
   "source": [
    "s1.copy()"
   ]
  },
  {
   "cell_type": "code",
   "execution_count": 168,
   "id": "b7bd54dc-a216-4a4b-8f85-91df106db2d4",
   "metadata": {},
   "outputs": [],
   "source": [
    "s1.update(l1)"
   ]
  },
  {
   "cell_type": "code",
   "execution_count": 170,
   "id": "328bc049-4a78-4535-81ae-97187f9cd2cb",
   "metadata": {},
   "outputs": [
    {
     "data": {
      "text/plain": [
       "{(1, 2, 3), 10, 11, 20, 22, 30, 33, 40, 50, 60, 78, 'python'}"
      ]
     },
     "execution_count": 170,
     "metadata": {},
     "output_type": "execute_result"
    }
   ],
   "source": [
    "s1"
   ]
  },
  {
   "cell_type": "code",
   "execution_count": 172,
   "id": "11c58cc5-f435-4bf9-a747-58161ed2c2ae",
   "metadata": {},
   "outputs": [
    {
     "data": {
      "text/plain": [
       "[11, 22, 33]"
      ]
     },
     "execution_count": 172,
     "metadata": {},
     "output_type": "execute_result"
    }
   ],
   "source": [
    "l1"
   ]
  },
  {
   "cell_type": "code",
   "execution_count": 174,
   "id": "b70bdbe9-0f51-4fde-a16a-ec68593852c7",
   "metadata": {},
   "outputs": [],
   "source": [
    "s1.update(t1)"
   ]
  },
  {
   "cell_type": "code",
   "execution_count": 176,
   "id": "cb2484f3-f919-4165-8506-1376be68a900",
   "metadata": {},
   "outputs": [
    {
     "data": {
      "text/plain": [
       "{(1, 2, 3), 1, 10, 11, 2, 20, 22, 3, 30, 33, 40, 50, 60, 78, 'python'}"
      ]
     },
     "execution_count": 176,
     "metadata": {},
     "output_type": "execute_result"
    }
   ],
   "source": [
    "s1"
   ]
  },
  {
   "cell_type": "code",
   "execution_count": 178,
   "id": "bfc97033-c037-45b0-970c-e38d83c1523f",
   "metadata": {},
   "outputs": [
    {
     "data": {
      "text/plain": [
       "{(1, 2, 3), 1, 10, 11, 2, 20, 22, 3, 30, 33, 40, 50, 60, 78, 'python'}"
      ]
     },
     "execution_count": 178,
     "metadata": {},
     "output_type": "execute_result"
    }
   ],
   "source": [
    "s1"
   ]
  },
  {
   "cell_type": "code",
   "execution_count": 180,
   "id": "1c761e5e-4513-485c-a543-989bf3aa9445",
   "metadata": {},
   "outputs": [],
   "source": [
    "s1.update({60,70,80})"
   ]
  },
  {
   "cell_type": "code",
   "execution_count": 182,
   "id": "03eb0f96-3047-4371-ad9d-06417319d6e5",
   "metadata": {},
   "outputs": [
    {
     "data": {
      "text/plain": [
       "{(1, 2, 3), 1, 10, 11, 2, 20, 22, 3, 30, 33, 40, 50, 60, 70, 78, 80, 'python'}"
      ]
     },
     "execution_count": 182,
     "metadata": {},
     "output_type": "execute_result"
    }
   ],
   "source": [
    "s1"
   ]
  },
  {
   "cell_type": "markdown",
   "id": "74a23ac5-97d1-48ed-ad87-7bf97a451b97",
   "metadata": {},
   "source": [
    "## pop(), discard(), remove(), clear()"
   ]
  },
  {
   "cell_type": "code",
   "execution_count": 185,
   "id": "a5677a77-9e35-40de-a25b-3819d0b4955b",
   "metadata": {},
   "outputs": [
    {
     "data": {
      "text/plain": [
       "1"
      ]
     },
     "execution_count": 185,
     "metadata": {},
     "output_type": "execute_result"
    }
   ],
   "source": [
    "s1.pop()"
   ]
  },
  {
   "cell_type": "code",
   "execution_count": 187,
   "id": "87ecb786-251d-419a-9fc1-e6b549e94267",
   "metadata": {},
   "outputs": [
    {
     "data": {
      "text/plain": [
       "2"
      ]
     },
     "execution_count": 187,
     "metadata": {},
     "output_type": "execute_result"
    }
   ],
   "source": [
    "s1.pop()"
   ]
  },
  {
   "cell_type": "code",
   "execution_count": 189,
   "id": "7a5c716c-88cc-4705-b5dc-ddfb07f3cb93",
   "metadata": {},
   "outputs": [],
   "source": [
    "s1.discard((1,2,3))"
   ]
  },
  {
   "cell_type": "code",
   "execution_count": 191,
   "id": "e8c9776c-ec64-480f-878f-f066f24cacc3",
   "metadata": {},
   "outputs": [
    {
     "data": {
      "text/plain": [
       "{10, 11, 20, 22, 3, 30, 33, 40, 50, 60, 70, 78, 80, 'python'}"
      ]
     },
     "execution_count": 191,
     "metadata": {},
     "output_type": "execute_result"
    }
   ],
   "source": [
    "s1"
   ]
  },
  {
   "cell_type": "code",
   "execution_count": 193,
   "id": "23d692b6-dd6b-4be6-b27c-afd9469f6fb2",
   "metadata": {},
   "outputs": [],
   "source": [
    "s1.discard('python')"
   ]
  },
  {
   "cell_type": "code",
   "execution_count": 195,
   "id": "9eef1e35-c496-44b2-9d77-4a8ebd09ad7f",
   "metadata": {},
   "outputs": [
    {
     "data": {
      "text/plain": [
       "{3, 10, 11, 20, 22, 30, 33, 40, 50, 60, 70, 78, 80}"
      ]
     },
     "execution_count": 195,
     "metadata": {},
     "output_type": "execute_result"
    }
   ],
   "source": [
    "\n",
    "s1"
   ]
  },
  {
   "cell_type": "code",
   "execution_count": 197,
   "id": "1096de7a-7677-4bb0-ba85-05118ad2f825",
   "metadata": {},
   "outputs": [],
   "source": [
    "s1.remove(33)"
   ]
  },
  {
   "cell_type": "code",
   "execution_count": 199,
   "id": "f84ea720-87d2-4510-83a5-0a76d78e61bf",
   "metadata": {},
   "outputs": [
    {
     "data": {
      "text/plain": [
       "{3, 10, 11, 20, 22, 30, 40, 50, 60, 70, 78, 80}"
      ]
     },
     "execution_count": 199,
     "metadata": {},
     "output_type": "execute_result"
    }
   ],
   "source": [
    "s1"
   ]
  },
  {
   "cell_type": "code",
   "execution_count": 203,
   "id": "c87fa5fd-48b5-4562-87ad-edc44c6cf467",
   "metadata": {},
   "outputs": [
    {
     "ename": "KeyError",
     "evalue": "'python'",
     "output_type": "error",
     "traceback": [
      "\u001b[1;31m---------------------------------------------------------------------------\u001b[0m",
      "\u001b[1;31mKeyError\u001b[0m                                  Traceback (most recent call last)",
      "Cell \u001b[1;32mIn[203], line 1\u001b[0m\n\u001b[1;32m----> 1\u001b[0m s1\u001b[38;5;241m.\u001b[39mremove(\u001b[38;5;124m'\u001b[39m\u001b[38;5;124mpython\u001b[39m\u001b[38;5;124m'\u001b[39m)\n",
      "\u001b[1;31mKeyError\u001b[0m: 'python'"
     ]
    }
   ],
   "source": [
    "s1.remove('python') # generates error if the specified value is not in the set"
   ]
  },
  {
   "cell_type": "code",
   "execution_count": 207,
   "id": "0d626bf9-04d8-46d6-9781-6a4b39eefb98",
   "metadata": {},
   "outputs": [],
   "source": [
    "s1.discard('python') #simply ignores if the specified value is not in the set"
   ]
  },
  {
   "cell_type": "code",
   "execution_count": 209,
   "id": "38fbb745-1680-4558-a895-d95ff1b7953d",
   "metadata": {},
   "outputs": [],
   "source": [
    "s1.clear()"
   ]
  },
  {
   "cell_type": "code",
   "execution_count": 211,
   "id": "95b554ba-03a1-4bea-a084-1c619b730326",
   "metadata": {},
   "outputs": [
    {
     "data": {
      "text/plain": [
       "set()"
      ]
     },
     "execution_count": 211,
     "metadata": {},
     "output_type": "execute_result"
    }
   ],
   "source": [
    "s1"
   ]
  },
  {
   "cell_type": "markdown",
   "id": "9953329d-417d-4547-89dd-4e62ac5e168e",
   "metadata": {},
   "source": [
    "### Empty set creation"
   ]
  },
  {
   "cell_type": "code",
   "execution_count": 213,
   "id": "e82a155a-9a6f-4f77-b25e-bff8c99c8b52",
   "metadata": {},
   "outputs": [],
   "source": [
    "s1 = {}"
   ]
  },
  {
   "cell_type": "code",
   "execution_count": 215,
   "id": "e729c4ae-660d-4fd8-9169-2712ebfff2cc",
   "metadata": {},
   "outputs": [
    {
     "name": "stdout",
     "output_type": "stream",
     "text": [
      "<class 'dict'>\n"
     ]
    }
   ],
   "source": [
    "print(type(s1))"
   ]
  },
  {
   "cell_type": "code",
   "execution_count": 217,
   "id": "90e1f60b-7166-4ad8-81f4-29691a77f209",
   "metadata": {},
   "outputs": [],
   "source": [
    "s1 = set()"
   ]
  },
  {
   "cell_type": "code",
   "execution_count": 219,
   "id": "c203d1b4-b4c8-49b5-9425-3531f4577d75",
   "metadata": {},
   "outputs": [
    {
     "name": "stdout",
     "output_type": "stream",
     "text": [
      "<class 'set'>\n"
     ]
    }
   ],
   "source": [
    "print(type(s1))"
   ]
  },
  {
   "cell_type": "markdown",
   "id": "fcab069c-cce1-4548-ac4f-4a85d35afc10",
   "metadata": {},
   "source": [
    "## Set Comprehension"
   ]
  },
  {
   "cell_type": "code",
   "execution_count": 223,
   "id": "7ae333cf-8425-4b32-99bf-59e0e7a83954",
   "metadata": {},
   "outputs": [
    {
     "name": "stdout",
     "output_type": "stream",
     "text": [
      "{0, 1, 2, 3, 4}\n"
     ]
    }
   ],
   "source": [
    "s = set()\n",
    "for i in range(5):\n",
    "    s.add(i)\n",
    "print(s)"
   ]
  },
  {
   "cell_type": "code",
   "execution_count": 225,
   "id": "ccf19e8e-19cb-44c6-aa00-8fc83710fd84",
   "metadata": {},
   "outputs": [],
   "source": [
    "s1 = {i for i in range(5)}"
   ]
  },
  {
   "cell_type": "code",
   "execution_count": 227,
   "id": "41d78d24-9576-4183-b609-296a92570070",
   "metadata": {},
   "outputs": [
    {
     "data": {
      "text/plain": [
       "{0, 1, 2, 3, 4}"
      ]
     },
     "execution_count": 227,
     "metadata": {},
     "output_type": "execute_result"
    }
   ],
   "source": [
    "s1"
   ]
  },
  {
   "cell_type": "code",
   "execution_count": 229,
   "id": "87280437-cb25-4cd5-aa82-354bd595db02",
   "metadata": {},
   "outputs": [],
   "source": [
    "s2 = { i**2 for i in [-2,-1,0,1,2]}"
   ]
  },
  {
   "cell_type": "code",
   "execution_count": 231,
   "id": "5389ef31-e1d5-4d60-9c47-5178a68e8b7b",
   "metadata": {},
   "outputs": [
    {
     "data": {
      "text/plain": [
       "{0, 1, 4}"
      ]
     },
     "execution_count": 231,
     "metadata": {},
     "output_type": "execute_result"
    }
   ],
   "source": [
    "s2"
   ]
  },
  {
   "cell_type": "code",
   "execution_count": 233,
   "id": "222c7d02-fe7a-46a2-badc-69376ede6f7a",
   "metadata": {},
   "outputs": [],
   "source": [
    "s3 = { i for i in (3,10,8,6,9,12,11) if i%2==0}"
   ]
  },
  {
   "cell_type": "code",
   "execution_count": 235,
   "id": "64541f77-992f-4b41-8437-8703b8541eea",
   "metadata": {},
   "outputs": [
    {
     "data": {
      "text/plain": [
       "{6, 8, 10, 12}"
      ]
     },
     "execution_count": 235,
     "metadata": {},
     "output_type": "execute_result"
    }
   ],
   "source": [
    "s3"
   ]
  },
  {
   "cell_type": "code",
   "execution_count": 237,
   "id": "ef28e28b-775f-4b53-9c00-31fa8aac388e",
   "metadata": {},
   "outputs": [],
   "source": [
    "s4 = { i.upper() for i in 'phillipines'}"
   ]
  },
  {
   "cell_type": "code",
   "execution_count": 239,
   "id": "27533d97-72a7-4bd9-ab4f-286663927a7e",
   "metadata": {},
   "outputs": [
    {
     "data": {
      "text/plain": [
       "{'E', 'H', 'I', 'L', 'N', 'P', 'S'}"
      ]
     },
     "execution_count": 239,
     "metadata": {},
     "output_type": "execute_result"
    }
   ],
   "source": [
    "s4"
   ]
  },
  {
   "cell_type": "markdown",
   "id": "9e4f7143-d1bb-4846-adfd-2c069ca00ef9",
   "metadata": {},
   "source": [
    "### unhashable (mutable) objects can not be set member"
   ]
  },
  {
   "cell_type": "code",
   "execution_count": 242,
   "id": "7e1a5101-6684-4ea3-a3f2-86a59df3a356",
   "metadata": {},
   "outputs": [
    {
     "ename": "TypeError",
     "evalue": "unhashable type: 'list'",
     "output_type": "error",
     "traceback": [
      "\u001b[1;31m---------------------------------------------------------------------------\u001b[0m",
      "\u001b[1;31mTypeError\u001b[0m                                 Traceback (most recent call last)",
      "Cell \u001b[1;32mIn[242], line 1\u001b[0m\n\u001b[1;32m----> 1\u001b[0m s5 \u001b[38;5;241m=\u001b[39m {\u001b[38;5;241m1\u001b[39m,\u001b[38;5;241m2.3\u001b[39m,\u001b[38;5;241m6\u001b[39m\u001b[38;5;241m+\u001b[39m\u001b[38;5;241m5\u001b[39mj,[\u001b[38;5;241m1\u001b[39m,\u001b[38;5;241m2\u001b[39m,\u001b[38;5;241m3\u001b[39m]}\n",
      "\u001b[1;31mTypeError\u001b[0m: unhashable type: 'list'"
     ]
    }
   ],
   "source": [
    "s5 = {1,2.3,6+5j,[1,2,3]}  # mutable object i.e. list can not be part of set"
   ]
  },
  {
   "cell_type": "code",
   "execution_count": 244,
   "id": "4278454e-75a6-41a9-8f13-40a2b45e1766",
   "metadata": {},
   "outputs": [],
   "source": [
    "s5 = {1,2.3,6+5j,(1,2,3)} "
   ]
  },
  {
   "cell_type": "code",
   "execution_count": 246,
   "id": "32776202-74ea-4e8d-853f-b5404608ced8",
   "metadata": {},
   "outputs": [
    {
     "data": {
      "text/plain": [
       "{(1, 2, 3), (6+5j), 1, 2.3}"
      ]
     },
     "execution_count": 246,
     "metadata": {},
     "output_type": "execute_result"
    }
   ],
   "source": [
    "s5"
   ]
  },
  {
   "cell_type": "code",
   "execution_count": 248,
   "id": "1d25ddb0-89b8-4a3e-9ef7-c18ed4bdb558",
   "metadata": {},
   "outputs": [],
   "source": [
    "s5 = {1,2.3,6+5j,'python'} "
   ]
  },
  {
   "cell_type": "code",
   "execution_count": 250,
   "id": "64e2d66e-f07a-4c27-b374-3dda9cefcff6",
   "metadata": {},
   "outputs": [
    {
     "data": {
      "text/plain": [
       "{(6+5j), 1, 2.3, 'python'}"
      ]
     },
     "execution_count": 250,
     "metadata": {},
     "output_type": "execute_result"
    }
   ],
   "source": [
    "s5"
   ]
  },
  {
   "cell_type": "code",
   "execution_count": 252,
   "id": "47e8c9bf-749c-41f6-a418-520be8dde106",
   "metadata": {},
   "outputs": [
    {
     "ename": "TypeError",
     "evalue": "unhashable type: 'set'",
     "output_type": "error",
     "traceback": [
      "\u001b[1;31m---------------------------------------------------------------------------\u001b[0m",
      "\u001b[1;31mTypeError\u001b[0m                                 Traceback (most recent call last)",
      "Cell \u001b[1;32mIn[252], line 1\u001b[0m\n\u001b[1;32m----> 1\u001b[0m s5 \u001b[38;5;241m=\u001b[39m {\u001b[38;5;241m1\u001b[39m,\u001b[38;5;241m2.3\u001b[39m,\u001b[38;5;241m6\u001b[39m\u001b[38;5;241m+\u001b[39m\u001b[38;5;241m5\u001b[39mj,{\u001b[38;5;241m1\u001b[39m,\u001b[38;5;241m2\u001b[39m,\u001b[38;5;241m3\u001b[39m}}\n",
      "\u001b[1;31mTypeError\u001b[0m: unhashable type: 'set'"
     ]
    }
   ],
   "source": [
    "s5 = {1,2.3,6+5j,{1,2,3}}  # mutable object i.e.set can not be part of set"
   ]
  }
 ],
 "metadata": {
  "kernelspec": {
   "display_name": "Python 3 (ipykernel)",
   "language": "python",
   "name": "python3"
  },
  "language_info": {
   "codemirror_mode": {
    "name": "ipython",
    "version": 3
   },
   "file_extension": ".py",
   "mimetype": "text/x-python",
   "name": "python",
   "nbconvert_exporter": "python",
   "pygments_lexer": "ipython3",
   "version": "3.12.7"
  }
 },
 "nbformat": 4,
 "nbformat_minor": 5
}
