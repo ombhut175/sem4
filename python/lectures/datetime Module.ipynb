{
 "cells": [
  {
   "cell_type": "code",
   "execution_count": 1,
   "id": "a793031d-f895-49f3-bb63-4adf931a7845",
   "metadata": {},
   "outputs": [],
   "source": [
    "import datetime"
   ]
  },
  {
   "cell_type": "code",
   "execution_count": 3,
   "id": "d829404a-651f-4357-ae90-ff5a988ef51f",
   "metadata": {},
   "outputs": [],
   "source": [
    "nw = datetime.datetime.now()"
   ]
  },
  {
   "cell_type": "code",
   "execution_count": 9,
   "id": "f5b0d071-3f51-44e8-bf1d-e1a1e27b92e9",
   "metadata": {},
   "outputs": [
    {
     "name": "stdout",
     "output_type": "stream",
     "text": [
      "<class 'datetime.datetime'>\n"
     ]
    }
   ],
   "source": [
    "print(type(nw))"
   ]
  },
  {
   "cell_type": "code",
   "execution_count": 35,
   "id": "2340e609-2543-4c62-94c8-30f6e451cf28",
   "metadata": {},
   "outputs": [
    {
     "name": "stdout",
     "output_type": "stream",
     "text": [
      "2025-02-11 00:24:10.359788\n"
     ]
    }
   ],
   "source": [
    "td = datetime.datetime.now()\n",
    "df2 = td +  datetime.timedelta(days=1.3)\n",
    "print(df2)"
   ]
  },
  {
   "cell_type": "code",
   "execution_count": 77,
   "id": "900cdaea-f192-4fae-9884-e81556205805",
   "metadata": {},
   "outputs": [
    {
     "name": "stdout",
     "output_type": "stream",
     "text": [
      "2024-02-09 14:30:59\n",
      "2024-02-10 14:30:59\n"
     ]
    }
   ],
   "source": [
    "s1 = \"2024/2/9 14:30:59\"\n",
    "dt = datetime.datetime.strptime(s1, \"%Y/%m/%d %H:%M:%S\")\n",
    "print(dt)\n",
    "df = dt + datetime.timedelta(days=1)\n",
    "print(df)"
   ]
  },
  {
   "cell_type": "code",
   "execution_count": 109,
   "id": "c101c0d3-6fe0-428d-ad26-d85e73c4ebc4",
   "metadata": {},
   "outputs": [
    {
     "name": "stdout",
     "output_type": "stream",
     "text": [
      "<class 'str'>\n"
     ]
    }
   ],
   "source": [
    "dt = datetime.datetime.now()\n",
    "print(type(dt.strftime(\"%d,%B %Y %A %H:%M:%S\")))"
   ]
  },
  {
   "cell_type": "code",
   "execution_count": null,
   "id": "cbf7b829-25af-45f2-8ca7-1c4892a85df2",
   "metadata": {},
   "outputs": [],
   "source": [
    "%y - year without century\n",
    "%Y - year with century\n",
    "%m - month (01 to 12)\n",
    "%d - date (01 to 31)\n",
    "%a - Abbreviated weekday name (Mon)\n",
    "%A - Full weekday name\n",
    "%b - Abbreviated month name (Jan)\n",
    "%B - Full month name\n",
    "\n",
    "%H - hours (00 to 23)\n",
    "%I - hours (01 to 12)\n",
    "%P - AM or PM\n",
    "%M - minute (00 to 59)\n",
    "%S - seconds (00 to 59)\n",
    "%f - Microseconds (000000 to 999999)"
   ]
  },
  {
   "cell_type": "code",
   "execution_count": 129,
   "id": "db415e0d-038e-4e5b-9d81-acd3f565c1c5",
   "metadata": {},
   "outputs": [
    {
     "name": "stdout",
     "output_type": "stream",
     "text": [
      "07 February, 2025 - Fri, 08:46 PM\n"
     ]
    }
   ],
   "source": [
    "td = datetime.datetime.now()\n",
    "df2 = td -  datetime.timedelta(days=2)\n",
    "s1 = df2.strftime(\"%d %B, %Y - %a, %I:%M %p\")\n",
    "print(s1)"
   ]
  },
  {
   "cell_type": "code",
   "execution_count": 131,
   "id": "869a96c7-8e56-4342-b251-af152ba92502",
   "metadata": {},
   "outputs": [
    {
     "name": "stdout",
     "output_type": "stream",
     "text": [
      "2025-02-07 20:47:14.445471\n"
     ]
    }
   ],
   "source": [
    "td = datetime.datetime.now()\n",
    "df2 = td -  datetime.timedelta(days=2)\n",
    "print(df2)"
   ]
  },
  {
   "cell_type": "code",
   "execution_count": 181,
   "id": "5f9032d0-9db4-494f-9fa4-8ed5608d2e35",
   "metadata": {},
   "outputs": [
    {
     "name": "stdout",
     "output_type": "stream",
     "text": [
      "2019-03-02 21:56:00.123450\n"
     ]
    }
   ],
   "source": [
    "s1 = \"2019-3-2 21:56:00:12345\"\n",
    "d = datetime.datetime.strptime(s1,\"%Y-%m-%d %H:%M:%S:%f\")\n",
    "print(d)"
   ]
  },
  {
   "cell_type": "code",
   "execution_count": 183,
   "id": "065bfd9a-f8b6-4c93-81a7-e6ae83fedb7d",
   "metadata": {},
   "outputs": [],
   "source": [
    "nw = datetime.date.today()"
   ]
  },
  {
   "cell_type": "code",
   "execution_count": 185,
   "id": "93f470c6-7f8f-4152-b425-c8742a0b827c",
   "metadata": {},
   "outputs": [
    {
     "name": "stdout",
     "output_type": "stream",
     "text": [
      "<class 'datetime.date'>\n"
     ]
    }
   ],
   "source": [
    "print(type(nw))"
   ]
  },
  {
   "cell_type": "code",
   "execution_count": 189,
   "id": "eb51958b-7e08-4f64-8202-6653c0814475",
   "metadata": {},
   "outputs": [
    {
     "name": "stdout",
     "output_type": "stream",
     "text": [
      "<class 'datetime.timedelta'>\n"
     ]
    }
   ],
   "source": [
    "td = datetime.datetime.now()\n",
    "df2 = datetime.timedelta(days=2)\n",
    "print(type(df2))"
   ]
  },
  {
   "cell_type": "code",
   "execution_count": null,
   "id": "f731a04a-44bf-436a-b1f0-9f11088dd8c4",
   "metadata": {},
   "outputs": [],
   "source": []
  }
 ],
 "metadata": {
  "kernelspec": {
   "display_name": "Python 3 (ipykernel)",
   "language": "python",
   "name": "python3"
  },
  "language_info": {
   "codemirror_mode": {
    "name": "ipython",
    "version": 3
   },
   "file_extension": ".py",
   "mimetype": "text/x-python",
   "name": "python",
   "nbconvert_exporter": "python",
   "pygments_lexer": "ipython3",
   "version": "3.12.7"
  }
 },
 "nbformat": 4,
 "nbformat_minor": 5
}
