{
 "cells": [
  {
   "cell_type": "markdown",
   "metadata": {},
   "source": [
    "\n",
    "<a href='https://www.darshan.ac.in/'> <img src='https://www.darshan.ac.in/Content/media/DU_Logo.svg' width=\"250\" height=\"300\"/></a>\n",
    "<pre>\n",
    "<center><b><h1>Python Programming - 2301CS404</b></center>\n",
    "<center><b><h1>Lab - 3</b></center>    \n",
    "<pre>"
   ]
  },
  {
   "cell_type": "markdown",
   "metadata": {},
   "source": [
    "# for and while loop"
   ]
  },
  {
   "cell_type": "markdown",
   "metadata": {},
   "source": [
    "### 01) WAP to print 1 to 10."
   ]
  },
  {
   "cell_type": "code",
   "execution_count": 4,
   "metadata": {},
   "outputs": [
    {
     "name": "stdout",
     "output_type": "stream",
     "text": [
      "1\n",
      "2\n",
      "3\n",
      "4\n",
      "5\n",
      "6\n",
      "7\n",
      "8\n",
      "9\n",
      "10\n"
     ]
    }
   ],
   "source": [
    "for i in range(1,11):\n",
    "    print(i)"
   ]
  },
  {
   "cell_type": "markdown",
   "metadata": {},
   "source": [
    "### 02) WAP to print 1 to n."
   ]
  },
  {
   "cell_type": "code",
   "execution_count": 7,
   "metadata": {},
   "outputs": [
    {
     "name": "stdout",
     "output_type": "stream",
     "text": [
      "enter n: 50\n",
      "0\n",
      "1\n",
      "2\n",
      "3\n",
      "4\n",
      "5\n",
      "6\n",
      "7\n",
      "8\n",
      "9\n",
      "10\n",
      "11\n",
      "12\n",
      "13\n",
      "14\n",
      "15\n",
      "16\n",
      "17\n",
      "18\n",
      "19\n",
      "20\n",
      "21\n",
      "22\n",
      "23\n",
      "24\n",
      "25\n",
      "26\n",
      "27\n",
      "28\n",
      "29\n",
      "30\n",
      "31\n",
      "32\n",
      "33\n",
      "34\n",
      "35\n",
      "36\n",
      "37\n",
      "38\n",
      "39\n",
      "40\n",
      "41\n",
      "42\n",
      "43\n",
      "44\n",
      "45\n",
      "46\n",
      "47\n",
      "48\n",
      "49\n",
      "50\n"
     ]
    }
   ],
   "source": [
    "n = int(input(\"enter n: \"))\n",
    "for i in range(n+1):\n",
    "    print(i)\n"
   ]
  },
  {
   "cell_type": "markdown",
   "metadata": {},
   "source": [
    "### 03) WAP to print odd numbers between 1 to n."
   ]
  },
  {
   "cell_type": "code",
   "execution_count": 15,
   "metadata": {},
   "outputs": [
    {
     "name": "stdout",
     "output_type": "stream",
     "text": [
      "enter n: 50\n",
      "1 3 5 7 9 11 13 15 17 19 21 23 25 27 29 31 33 35 37 39 41 43 45 47 49 "
     ]
    }
   ],
   "source": [
    "n = int(input(\"enter n: \"))\n",
    "for i in range(n+1):\n",
    "    if(i%2!=0):\n",
    "        print(i,end = \" \")"
   ]
  },
  {
   "cell_type": "markdown",
   "metadata": {},
   "source": [
    "### 04) WAP to print numbers between two given numbers which is divisible by 2 but not divisible by 3."
   ]
  },
  {
   "cell_type": "code",
   "execution_count": 16,
   "metadata": {},
   "outputs": [
    {
     "name": "stdout",
     "output_type": "stream",
     "text": [
      "enter a 1\n",
      "enter b 50\n",
      "50 "
     ]
    }
   ],
   "source": [
    "a = int(input(\"enter a \"))\n",
    "b = int(input(\"enter b \"))\n",
    "for i in (a,b+1):\n",
    "    if(i%2==0 and i%3!=0):\n",
    "        print(i,end = \" \")"
   ]
  },
  {
   "cell_type": "markdown",
   "metadata": {},
   "source": [
    "### 05) WAP to print sum of 1 to n numbers."
   ]
  },
  {
   "cell_type": "code",
   "execution_count": 24,
   "metadata": {},
   "outputs": [
    {
     "name": "stdout",
     "output_type": "stream",
     "text": [
      "enter n 5\n",
      "15\n"
     ]
    }
   ],
   "source": [
    "n = int(input(\"enter n \"))\n",
    "sum = 0\n",
    "for i in range(1,n+1):\n",
    "    sum+=i\n",
    "print(sum)"
   ]
  },
  {
   "cell_type": "markdown",
   "metadata": {},
   "source": [
    "### 06) WAP to print sum of series 1 + 4 + 9 + 16 + 25 + 36 + ...n."
   ]
  },
  {
   "cell_type": "code",
   "execution_count": 27,
   "metadata": {},
   "outputs": [
    {
     "name": "stdout",
     "output_type": "stream",
     "text": [
      "enter n 3\n",
      "14\n"
     ]
    }
   ],
   "source": [
    "n = int(input(\"enter n \"))\n",
    "sum = 0\n",
    "for i in range(1,n+1):\n",
    "    sum+=i**2\n",
    "print(sum)"
   ]
  },
  {
   "cell_type": "markdown",
   "metadata": {},
   "source": [
    "### 07) WAP to print sum of series 1 – 2 + 3 – 4 + 5 – 6 + 7 ... n."
   ]
  },
  {
   "cell_type": "code",
   "execution_count": 29,
   "metadata": {},
   "outputs": [
    {
     "name": "stdout",
     "output_type": "stream",
     "text": [
      "enter n 5\n",
      "3\n"
     ]
    }
   ],
   "source": [
    "n = int(input(\"enter n \"))\n",
    "sum = 0\n",
    "for i in range(1,n+1):\n",
    "    if(i%2==0):\n",
    "        sum-=i\n",
    "    else:\n",
    "        sum+=i\n",
    "print(sum)"
   ]
  },
  {
   "cell_type": "markdown",
   "metadata": {},
   "source": [
    "### 08) WAP to print multiplication table of given number."
   ]
  },
  {
   "cell_type": "code",
   "execution_count": 31,
   "metadata": {},
   "outputs": [
    {
     "name": "stdout",
     "output_type": "stream",
     "text": [
      "enter n 10\n",
      "10 20 30 40 50 60 70 80 90 100 "
     ]
    }
   ],
   "source": [
    "n = int(input(\"enter n \"))\n",
    "for i in range(1,11):\n",
    "    print(n*i,end=\" \")\n"
   ]
  },
  {
   "cell_type": "markdown",
   "metadata": {},
   "source": [
    "### 09) WAP to find factorial of the given number."
   ]
  },
  {
   "cell_type": "code",
   "execution_count": 33,
   "metadata": {},
   "outputs": [
    {
     "name": "stdout",
     "output_type": "stream",
     "text": [
      "enter n5\n",
      "120\n"
     ]
    }
   ],
   "source": [
    "def factorial(n):\n",
    "    fact = 1\n",
    "    ans = 1\n",
    "    for i in range(2,n+1):\n",
    "        ans = ans*i\n",
    "    return ans\n",
    "n = int(input(\"enter n\"))\n",
    "print(factorial(n))"
   ]
  },
  {
   "cell_type": "markdown",
   "metadata": {},
   "source": [
    "### 10) WAP to find factors of the given number."
   ]
  },
  {
   "cell_type": "code",
   "execution_count": 3,
   "metadata": {},
   "outputs": [
    {
     "name": "stdout",
     "output_type": "stream",
     "text": [
      "[1, 2, 3, 6]\n"
     ]
    }
   ],
   "source": [
    "def factors(n):\n",
    "    list = []\n",
    "    for i in range(1,n+1):\n",
    "        if(n%i==0):\n",
    "            list.append(i)\n",
    "    return list\n",
    "n = int(input(\"enter n \"))\n",
    "print(factors(n))"
   ]
  },
  {
   "cell_type": "markdown",
   "metadata": {},
   "source": [
    "### 11) WAP to find whether the given number is prime or not."
   ]
  },
  {
   "cell_type": "code",
   "execution_count": 8,
   "metadata": {},
   "outputs": [
    {
     "name": "stdout",
     "output_type": "stream",
     "text": [
      "False\n"
     ]
    }
   ],
   "source": [
    "def checkPrime(n):\n",
    "    if(n==1):\n",
    "        return False\n",
    "    for i in range(2,int(n/2)+1):\n",
    "        if(i%n==0):\n",
    "            return False\n",
    "    \n",
    "    return True\n",
    "\n",
    "n = int(input(\"enter n \"))\n",
    "print(checkPrime(n))"
   ]
  },
  {
   "cell_type": "markdown",
   "metadata": {},
   "source": [
    "### 12) WAP to print sum of digits of given number."
   ]
  },
  {
   "cell_type": "code",
   "execution_count": 14,
   "metadata": {},
   "outputs": [
    {
     "name": "stdout",
     "output_type": "stream",
     "text": [
      "7\n"
     ]
    }
   ],
   "source": [
    "def sumOfDigits(n):\n",
    "    sum=0\n",
    "    while(n>0):\n",
    "        lastDigit = n%10\n",
    "        sum+=lastDigit\n",
    "        n//=10\n",
    "    return sum\n",
    "n = int(input(\"enter n \"))\n",
    "print(sumOfDigits(n))"
   ]
  },
  {
   "cell_type": "markdown",
   "metadata": {},
   "source": [
    "### 13) WAP to check whether the given number is palindrome or not"
   ]
  },
  {
   "cell_type": "code",
   "execution_count": 17,
   "metadata": {},
   "outputs": [
    {
     "name": "stdout",
     "output_type": "stream",
     "text": [
      "False\n"
     ]
    }
   ],
   "source": [
    "def checkPalindrome(n):\n",
    "    originalNum = n\n",
    "    reversedNum = 0\n",
    "    while (n>0):\n",
    "       remainder = n%10\n",
    "       reversedNum = reversedNum*10 + remainder\n",
    "       n//=10\n",
    "    return originalNum==reversedNum\n",
    "n = int(input(\"enter n \"))\n",
    "print((checkPalindrome(n)))"
   ]
  },
  {
   "cell_type": "markdown",
   "metadata": {},
   "source": [
    "### 14) WAP to print GCD of given two numbers."
   ]
  },
  {
   "cell_type": "code",
   "execution_count": 21,
   "metadata": {},
   "outputs": [
    {
     "name": "stdout",
     "output_type": "stream",
     "text": [
      "5\n"
     ]
    }
   ],
   "source": [
    "a = int(input(\"enter a \"))\n",
    "b = int(input(\"enter b\"))\n",
    "i=2\n",
    "while(i<=a and i<=b):\n",
    "    if(a%i==0 and b%i==0):\n",
    "       print(i)\n",
    "       break\n",
    "    i+=1"
   ]
  }
 ],
 "metadata": {
  "kernelspec": {
   "display_name": "Python 3 (ipykernel)",
   "language": "python",
   "name": "python3"
  },
  "language_info": {
   "codemirror_mode": {
    "name": "ipython",
    "version": 3
   },
   "file_extension": ".py",
   "mimetype": "text/x-python",
   "name": "python",
   "nbconvert_exporter": "python",
   "pygments_lexer": "ipython3",
   "version": "3.11.4"
  }
 },
 "nbformat": 4,
 "nbformat_minor": 4
}
