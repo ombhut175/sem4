{
 "cells": [
  {
   "cell_type": "code",
   "execution_count": null,
   "metadata": {},
   "outputs": [],
   "source": []
  },
  {
   "cell_type": "markdown",
   "metadata": {},
   "source": [
    "<a href='https://www.darshan.ac.in/'> <img src='https://www.darshan.ac.in/Content/media/DU_Logo.svg' width=\"250\" height=\"10\"/></a>\n",
    "<pre>\n",
    "<center><b><h1>Python Programming - 2301CS404</b></center>\n",
    "<center><b><h1>Lab - 1</b></center>    \n",
    "<center><b><h1>OM BHUT | 23010101033 | 122</b></center>\n",
    "<pre>"
   ]
  },
  {
   "cell_type": "markdown",
   "metadata": {},
   "source": [
    "### 01) WAP to print “Hello World”"
   ]
  },
  {
   "cell_type": "code",
   "execution_count": null,
   "metadata": {},
   "outputs": [],
   "source": [
    "print(\"Hello World\")"
   ]
  },
  {
   "cell_type": "markdown",
   "metadata": {},
   "source": [
    "### 02) WAP to print addition of two numbers with and without using input()."
   ]
  },
  {
   "cell_type": "code",
   "execution_count": 2,
   "metadata": {},
   "outputs": [
    {
     "name": "stdout",
     "output_type": "stream",
     "text": [
      "9\n"
     ]
    }
   ],
   "source": [
    "# a =int(input(\"Enter number 1\"))\n",
    "# b = int(input(\"Enter number 2\"))\n",
    "# print(a+b)\n",
    "\n",
    "# print(4+5)\n"
   ]
  },
  {
   "cell_type": "markdown",
   "metadata": {},
   "source": [
    "### 03) WAP to check the type of the variable."
   ]
  },
  {
   "cell_type": "code",
   "execution_count": 7,
   "metadata": {},
   "outputs": [
    {
     "name": "stdout",
     "output_type": "stream",
     "text": [
      "{hi}\n"
     ]
    }
   ],
   "source": [
    "a = input(\"enter a\")\n",
    "print(type(5))\n",
    "# print('{hi}')\n"
   ]
  },
  {
   "cell_type": "markdown",
   "metadata": {},
   "source": [
    "### 04) WAP to calculate simple interest."
   ]
  },
  {
   "cell_type": "code",
   "execution_count": 9,
   "metadata": {},
   "outputs": [
    {
     "name": "stdout",
     "output_type": "stream",
     "text": [
      "enter p10\n",
      "enter r10\n",
      "enter t10\n",
      "10.0\n"
     ]
    }
   ],
   "source": [
    "p = int(input(\"enter p\"))\n",
    "r = int(input(\"enter r\"))\n",
    "t = int(input(\"enter t\"))\n",
    "sI = (p*r*t)/100\n",
    "print(sI)"
   ]
  },
  {
   "cell_type": "markdown",
   "metadata": {},
   "source": [
    "### 05) WAP to calculate area and perimeter of a circle."
   ]
  },
  {
   "cell_type": "code",
   "execution_count": 14,
   "metadata": {},
   "outputs": [
    {
     "name": "stdout",
     "output_type": "stream",
     "text": [
      "enter r10\n",
      "perimeter = 62.83185307179586 \n",
      " area = 314.1592653589793\n"
     ]
    }
   ],
   "source": [
    "import math\n",
    "r = int(input(\"enter r\"))\n",
    "print(f\"perimeter = {2*math.pi*r} \\n area = {math.pi*r*r}\")"
   ]
  },
  {
   "cell_type": "markdown",
   "metadata": {},
   "source": [
    "### 06) WAP to calculate area of a triangle."
   ]
  },
  {
   "cell_type": "code",
   "execution_count": 16,
   "metadata": {},
   "outputs": [
    {
     "name": "stdout",
     "output_type": "stream",
     "text": [
      "enter l2\n",
      "enter b2\n",
      "enter h2\n",
      "4.0\n"
     ]
    }
   ],
   "source": [
    "b = int(input(\"enter b\"))\n",
    "h = int(input(\"enter h\"))\n",
    "print((b*h)/2)"
   ]
  },
  {
   "cell_type": "markdown",
   "metadata": {},
   "source": [
    "### 07) WAP to compute quotient and remainder.\n"
   ]
  },
  {
   "cell_type": "code",
   "execution_count": 17,
   "metadata": {},
   "outputs": [
    {
     "name": "stdout",
     "output_type": "stream",
     "text": [
      "enter divident25\n",
      "enter divisor6\n",
      "quotient = 4 \n",
      " remainder = 1\n"
     ]
    }
   ],
   "source": [
    "divident = int(input(\"enter divident\"))\n",
    "divisor = int(input(\"enter divisor\"))\n",
    "\n",
    "print(f\"quotient = {int(divident/divisor)} \\n remainder = {divident%divisor}\")\n"
   ]
  },
  {
   "cell_type": "markdown",
   "metadata": {},
   "source": [
    "### 08) WAP to convert degree into Fahrenheit and vice versa."
   ]
  },
  {
   "cell_type": "code",
   "execution_count": 18,
   "metadata": {},
   "outputs": [
    {
     "name": "stdout",
     "output_type": "stream",
     "text": [
      "enter f77\n",
      "enter c25\n",
      "c = 77.0 \n",
      " f = 25.0\n"
     ]
    }
   ],
   "source": [
    "f = float(input(\"enter f\"))\n",
    "c = float(input(\"enter c\"))\n",
    "print(f\"c = {(c*9/5)+32} \\n f = {(f-32)*5/9}\")"
   ]
  },
  {
   "cell_type": "markdown",
   "metadata": {},
   "source": [
    "### 09) WAP to find the distance between two points in 2-D space."
   ]
  },
  {
   "cell_type": "code",
   "execution_count": 19,
   "metadata": {},
   "outputs": [
    {
     "name": "stdout",
     "output_type": "stream",
     "text": [
      "enter x11\n",
      "enter x24\n",
      "enter y12\n",
      "enter y26\n",
      "5.0\n"
     ]
    }
   ],
   "source": [
    "import math\n",
    "x1=int(input(\"enter x1\"))\n",
    "x2=int(input(\"enter x2\"))\n",
    "y1=int(input(\"enter y1\"))\n",
    "y2=int(input(\"enter y2\"))\n",
    "print(math.sqrt((x2-x1)**2 + (y2-y1)**2))"
   ]
  },
  {
   "cell_type": "markdown",
   "metadata": {},
   "source": [
    "### 10) WAP to print sum of n natural numbers."
   ]
  },
  {
   "cell_type": "code",
   "execution_count": 24,
   "metadata": {},
   "outputs": [
    {
     "name": "stdout",
     "output_type": "stream",
     "text": [
      "enter n3\n",
      "6\n"
     ]
    }
   ],
   "source": [
    "n = int(input(\"enter n\"))\n",
    "sum=0\n",
    "for i in range(1,n+1):\n",
    "    sum+=i\n",
    "print(sum)"
   ]
  },
  {
   "cell_type": "markdown",
   "metadata": {},
   "source": [
    "### 11) WAP to print sum of square of n natural numbers."
   ]
  },
  {
   "cell_type": "code",
   "execution_count": 25,
   "metadata": {},
   "outputs": [
    {
     "name": "stdout",
     "output_type": "stream",
     "text": [
      "enter n3\n",
      "14\n"
     ]
    }
   ],
   "source": [
    "n = int(input(\"enter n\"))\n",
    "sum=0\n",
    "for i in range(1,n+1):\n",
    "    sum+=i**2\n",
    "print(sum)"
   ]
  },
  {
   "cell_type": "markdown",
   "metadata": {},
   "source": [
    "### 12) WAP to concate the first and last name of the student."
   ]
  },
  {
   "cell_type": "code",
   "execution_count": 28,
   "metadata": {},
   "outputs": [
    {
     "name": "stdout",
     "output_type": "stream",
     "text": [
      "enter firstmeet\n",
      "enter lastok\n",
      "meetok\n"
     ]
    }
   ],
   "source": [
    "first = input(\"enter first\")\n",
    "last = input(\"enter last\")\n",
    "print(first+last,sep=\" \")"
   ]
  },
  {
   "cell_type": "markdown",
   "metadata": {},
   "source": [
    "### 13) WAP to swap two numbers."
   ]
  },
  {
   "cell_type": "code",
   "execution_count": 2,
   "metadata": {
    "ExecuteTime": {
     "end_time": "2024-11-27T12:10:22.994868Z",
     "start_time": "2024-11-27T12:10:22.990739Z"
    }
   },
   "outputs": [
    {
     "name": "stdout",
     "output_type": "stream",
     "text": [
      "20 10\n"
     ]
    }
   ],
   "source": [
    "a=10\n",
    "b=20\n",
    "temp=a\n",
    "a=b\n",
    "b=temp\n",
    "print(a,b,sep=\" \")"
   ]
  },
  {
   "cell_type": "markdown",
   "metadata": {},
   "source": [
    "### 14) WAP to get the distance from user into kilometer, and convert it into meter, feet, inches and centimeter."
   ]
  },
  {
   "cell_type": "code",
   "execution_count": 4,
   "metadata": {
    "ExecuteTime": {
     "end_time": "2024-11-28T10:55:48.221174Z",
     "start_time": "2024-11-28T10:55:37.028240Z"
    }
   },
   "outputs": [
    {
     "name": "stdout",
     "output_type": "stream",
     "text": [
      "meter = 1000.0\n",
      "feet = 3280.84\n",
      "inches = 39370.1\n",
      "centimeter = 100000\n"
     ]
    }
   ],
   "source": [
    "km = float(input(\"enter km\"))\n",
    "print(f\"meter = {km * 1000}\",f\"feet = {3280.84}\",f\"inches = {39370.1}\",f\"centimeter = {100000}\",sep=\"\\n\");"
   ]
  },
  {
   "cell_type": "markdown",
   "metadata": {},
   "source": [
    "### 15) WAP to get day, month and year from the user and print the date in the given format: 23-11-2024."
   ]
  },
  {
   "cell_type": "code",
   "execution_count": 5,
   "metadata": {
    "ExecuteTime": {
     "end_time": "2024-11-28T11:00:15.262488Z",
     "start_time": "2024-11-28T11:00:01.038273Z"
    }
   },
   "outputs": [
    {
     "name": "stdout",
     "output_type": "stream",
     "text": [
      "23-11-2024\n"
     ]
    }
   ],
   "source": [
    "day = int(input(\"day\"))\n",
    "month = int(input(\"month\"))\n",
    "year = int(input(\"year\"))\n",
    "print(f\"{day}-{month}-{year}\")"
   ]
  },
  {
   "cell_type": "code",
   "execution_count": null,
   "metadata": {},
   "outputs": [],
   "source": []
  }
 ],
 "metadata": {
  "kernelspec": {
   "display_name": "Python 3 (ipykernel)",
   "language": "python",
   "name": "python3"
  },
  "language_info": {
   "codemirror_mode": {
    "name": "ipython",
    "version": 3
   },
   "file_extension": ".py",
   "mimetype": "text/x-python",
   "name": "python",
   "nbconvert_exporter": "python",
   "pygments_lexer": "ipython3",
   "version": "3.10.9"
  },
  "vscode": {
   "interpreter": {
    "hash": "31f2aee4e71d21fbe5cf8b01ff0e069b9275f58929596ceb00d14d90e3e16cd6"
   }
  }
 },
 "nbformat": 4,
 "nbformat_minor": 4
}
