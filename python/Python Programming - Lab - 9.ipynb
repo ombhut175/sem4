{
 "cells": [
  {
   "cell_type": "markdown",
   "metadata": {},
   "source": [
    "<a href='https://www.darshan.ac.in/'> <img src='https://www.darshan.ac.in/Content/media/DU_Logo.svg' width=\"250\" height=\"300\"/></a>\n",
    "<pre>\n",
    "<center><b><h1>Python Programming - 2301CS404</b></center>\n",
    "<center><b><h1>Lab - 9</b></center>    \n",
    "<pre>"
   ]
  },
  {
   "cell_type": "markdown",
   "metadata": {},
   "source": [
    "# File I/O"
   ]
  },
  {
   "cell_type": "markdown",
   "metadata": {},
   "source": [
    "### 01) WAP to read and display the contents of a text file. (also try to open the file in some other directory) \n",
    "#### - in the form of a string\n",
    "#### - line by line\n",
    "#### - in the form of a list"
   ]
  },
  {
   "cell_type": "code",
   "execution_count": 2,
   "metadata": {},
   "outputs": [
    {
     "name": "stdout",
     "output_type": "stream",
     "text": [
      "hello world\n"
     ]
    }
   ],
   "source": [
    "fp1 = open(\"hello.txt\")\n",
    "data = fp1.read()\n",
    "print(data)\n",
    "fp1.close()"
   ]
  },
  {
   "cell_type": "code",
   "execution_count": 18,
   "metadata": {},
   "outputs": [
    {
     "name": "stdout",
     "output_type": "stream",
     "text": [
      "hello world\n",
      "\n",
      "hello world\n",
      "\n",
      "hello world\n",
      "\n",
      "hello world\n",
      "\n",
      "hello world\n",
      "\n",
      "hello world\n"
     ]
    }
   ],
   "source": [
    "fp1 = open(\"hello.txt\")\n",
    "for i in fp1:\n",
    "    print(i)\n",
    "fp1.close()"
   ]
  },
  {
   "cell_type": "code",
   "execution_count": 17,
   "metadata": {},
   "outputs": [
    {
     "name": "stdout",
     "output_type": "stream",
     "text": [
      "['hello world\\n', 'hello world\\n', 'hello world\\n', 'hello world\\n', 'hello world\\n', 'hello world']\n"
     ]
    }
   ],
   "source": [
    "fp1 = open(\"hello.txt\")\n",
    "data = fp1.readlines()\n",
    "print(data)\n",
    "fp1.close()"
   ]
  },
  {
   "cell_type": "markdown",
   "metadata": {},
   "source": [
    "### 02) WAP to create file named \"new.txt\" only if it doesn't exist."
   ]
  },
  {
   "cell_type": "code",
   "execution_count": 1,
   "metadata": {},
   "outputs": [],
   "source": [
    "fp1 = open(\"new.txt\",\"x\")\n",
    "fp1.close()"
   ]
  },
  {
   "cell_type": "markdown",
   "metadata": {},
   "source": [
    "### 03) WAP to read first 5 lines from the text file."
   ]
  },
  {
   "cell_type": "code",
   "execution_count": 6,
   "metadata": {},
   "outputs": [
    {
     "name": "stdout",
     "output_type": "stream",
     "text": [
      "hello 1\n",
      "\n",
      "hello 2\n",
      "\n",
      "hello 3\n",
      "\n",
      "hello 4\n",
      "\n",
      "hello 5\n"
     ]
    }
   ],
   "source": [
    "fp1 = open(\"new.txt\")\n",
    "for i in range(0,5):\n",
    "    data = fp1.readline()\n",
    "    print(data)\n",
    "fp1.close()"
   ]
  },
  {
   "cell_type": "markdown",
   "metadata": {},
   "source": [
    "### 04) WAP to find the longest word(s) in a file"
   ]
  },
  {
   "cell_type": "code",
   "execution_count": 14,
   "metadata": {},
   "outputs": [
    {
     "name": "stdout",
     "output_type": "stream",
     "text": [
      "['hello', 'hello', 'hello', 'hello', 'hello']\n"
     ]
    }
   ],
   "source": [
    "fp1 = open(\"new.txt\")\n",
    "s1 = fp1.read().split()\n",
    "l1 = [len(i) for i in s1]\n",
    "maxLength = max(l1)\n",
    "ans = filter(lambda x: len(x)==maxLength,s1)\n",
    "print(list(ans))\n",
    "fp1.close()"
   ]
  },
  {
   "cell_type": "markdown",
   "metadata": {},
   "source": [
    "### 05) WAP to count the no. of lines, words and characters in a given text file."
   ]
  },
  {
   "cell_type": "code",
   "execution_count": 28,
   "metadata": {},
   "outputs": [
    {
     "name": "stdout",
     "output_type": "stream",
     "text": [
      "10 30 5\n"
     ]
    }
   ],
   "source": [
    "with open(\"new.txt\",\"r\") as fp1:\n",
    "    countWords = 0\n",
    "    countCharacters = 0\n",
    "    countLines = 0\n",
    "    data = fp1.read().split()\n",
    "    l1 = [len(i) for i in data]\n",
    "    countWords = len(l1)\n",
    "    countCharacters = sum(l1)\n",
    "    fp1.seek(0)\n",
    "    countLines = len(fp1.readlines())\n",
    "    \n",
    "        \n",
    "    print(countWords,countCharacters,countLines,sep=\" \")\n",
    "    "
   ]
  },
  {
   "cell_type": "markdown",
   "metadata": {},
   "source": [
    "### 06) WAP to copy the content of a file to the another file."
   ]
  },
  {
   "cell_type": "code",
   "execution_count": 29,
   "metadata": {},
   "outputs": [],
   "source": [
    "with open(\"new.txt\",\"r\") as fp1,open(\"new2.txt\",\"w\") as fp2:\n",
    "    fp2.write(fp1.read())\n"
   ]
  },
  {
   "cell_type": "markdown",
   "metadata": {},
   "source": [
    "### 07) WAP to find the size of the text file. "
   ]
  },
  {
   "cell_type": "code",
   "execution_count": 30,
   "metadata": {},
   "outputs": [
    {
     "name": "stdout",
     "output_type": "stream",
     "text": [
      "43\n"
     ]
    }
   ],
   "source": [
    "import os\n",
    "print(os.path.getsize(\"new.txt\"))"
   ]
  },
  {
   "cell_type": "markdown",
   "metadata": {},
   "source": [
    "### 08) WAP to create an UDF named frequency to count occurances of the specific word in a given text file."
   ]
  },
  {
   "cell_type": "code",
   "execution_count": 34,
   "metadata": {},
   "outputs": [
    {
     "data": {
      "text/plain": [
       "5"
      ]
     },
     "execution_count": 34,
     "metadata": {},
     "output_type": "execute_result"
    }
   ],
   "source": [
    "def frequencyOfWord(wordToFind:str,fileName:str):\n",
    "    with open(fileName,\"r\") as fp1:\n",
    "        data = fp1.read().split()\n",
    "    return data.count(wordToFind)\n",
    "frequencyOfWord(\"hello\",\"new.txt\")"
   ]
  },
  {
   "cell_type": "markdown",
   "metadata": {},
   "source": [
    "### 09) WAP to get the score of five subjects from the user, store them in a file. Fetch those marks and find the highest score."
   ]
  },
  {
   "cell_type": "code",
   "execution_count": 44,
   "metadata": {},
   "outputs": [
    {
     "name": "stdout",
     "output_type": "stream",
     "text": [
      "78\n"
     ]
    }
   ],
   "source": [
    "marks = [\"25\",\"45\",\"78\",\"35\",\"45\"]\n",
    "# for i in range(0,5):\n",
    "#     mark = input(f\"enter marks for {i+1}\")\n",
    "with open(\"marks.txt\",\"w\") as fp1:\n",
    "    fp1.write(\" \".join(marks))\n",
    "with open(\"marks.txt\",\"r\") as fp2:\n",
    "    data = fp2.read().split()\n",
    "    l1 = [int(i) for i in data]\n",
    "    print(max(l1))"
   ]
  },
  {
   "cell_type": "markdown",
   "metadata": {},
   "source": [
    "### 10) WAP to write first 100 prime numbers to a file named primenumbers.txt \n",
    "(Note: each number should be in new line)"
   ]
  },
  {
   "cell_type": "code",
   "execution_count": 49,
   "metadata": {},
   "outputs": [],
   "source": [
    "def firstHundredPrime():\n",
    "    l1 = []\n",
    "    for i in range(0,100):\n",
    "        check = True\n",
    "        for j in range(2,i//2):\n",
    "            if i%j==0:\n",
    "                check=False\n",
    "        if(check):\n",
    "            l1.append(str(i))    \n",
    "    return l1\n",
    "with open(\"primenumbers.txt\",\"w\") as fp1:\n",
    "    l1 = firstHundredPrime()\n",
    "    fp1.write(\"\\n\".join(l1))"
   ]
  },
  {
   "cell_type": "markdown",
   "metadata": {},
   "source": [
    "### 11) WAP to merge two files and write it in a new file."
   ]
  },
  {
   "cell_type": "code",
   "execution_count": 51,
   "metadata": {},
   "outputs": [],
   "source": [
    "with open(\"new.txt\",\"r\") as fp1,open(\"marks.txt\",\"r\") as fp2, open(\"mergeAns.txt\",\"w\") as fp3:\n",
    "    data1 = fp1.read()    \n",
    "    data2 = fp2.read()\n",
    "    ans = data1+\"\\n\"+data2\n",
    "    fp3.write(ans)"
   ]
  },
  {
   "cell_type": "markdown",
   "metadata": {},
   "source": [
    "### 12) WAP to replace word1 by word2 of a text file. Write the updated data to new file."
   ]
  },
  {
   "cell_type": "code",
   "execution_count": 58,
   "metadata": {},
   "outputs": [],
   "source": [
    "data = \"\"\n",
    "with open(\"mergeAns.txt\",\"r\") as fp1:\n",
    "    data = fp1.read().replace(\"hello\",\"helloBye\")\n",
    "with open(\"new4.txt\",\"w\") as fp1:\n",
    "    fp1.write(data)"
   ]
  },
  {
   "cell_type": "markdown",
   "metadata": {},
   "source": [
    "### 13) Demonstrate tell() and seek() for all the cases(seek from beginning-end-current position) taking a suitable example of your choice."
   ]
  },
  {
   "cell_type": "code",
   "execution_count": null,
   "metadata": {},
   "outputs": [],
   "source": []
  }
 ],
 "metadata": {
  "kernelspec": {
   "display_name": "Python 3 (ipykernel)",
   "language": "python",
   "name": "python3"
  },
  "language_info": {
   "codemirror_mode": {
    "name": "ipython",
    "version": 3
   },
   "file_extension": ".py",
   "mimetype": "text/x-python",
   "name": "python",
   "nbconvert_exporter": "python",
   "pygments_lexer": "ipython3",
   "version": "3.11.4"
  }
 },
 "nbformat": 4,
 "nbformat_minor": 4
}
