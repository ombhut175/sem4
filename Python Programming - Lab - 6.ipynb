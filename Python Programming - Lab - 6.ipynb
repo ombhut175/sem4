{
 "cells": [
  {
   "attachments": {},
   "cell_type": "markdown",
   "metadata": {},
   "source": [
    "<a href='https://www.darshan.ac.in/'> <img src='https://www.darshan.ac.in/Content/media/DU_Logo.svg' width=\"250\" height=\"300\"/></a>\n",
    "<pre>\n",
    "<center><b><h1>Python Programming - 2301CS404</b></center>\n",
    "<center><b><h1>Lab - 6</b></center>    \n",
    "<pre>"
   ]
  },
  {
   "cell_type": "markdown",
   "metadata": {},
   "source": [
    "# Tuple"
   ]
  },
  {
   "cell_type": "markdown",
   "metadata": {},
   "source": [
    "### 01) WAP to find sum of tuple elements."
   ]
  },
  {
   "cell_type": "code",
   "execution_count": 1,
   "metadata": {},
   "outputs": [
    {
     "name": "stdout",
     "output_type": "stream",
     "text": [
      "15\n"
     ]
    }
   ],
   "source": [
    "t1 = (1,2,3,4,5)\n",
    "print(sum(t1))"
   ]
  },
  {
   "cell_type": "markdown",
   "metadata": {},
   "source": [
    "### 02) WAP to find Maximum and Minimum K elements in a given tuple."
   ]
  },
  {
   "cell_type": "code",
   "execution_count": 13,
   "metadata": {},
   "outputs": [
    {
     "name": "stdout",
     "output_type": "stream",
     "text": [
      "min value =1 2 2.5 max value =12 9 5 "
     ]
    }
   ],
   "source": [
    "t1 = (1,2,3,4,5,9,12,2.5)\n",
    "n = int(input(\"enter n\"))\n",
    "sortedTuple = sorted(t1)\n",
    "print(\"min value \",end=\"=\")\n",
    "for i in range(0,n):\n",
    "    print(sortedTuple[i] , end=\" \")\n",
    "print(\"max value \",end=\"=\")\n",
    "for i in range(len(t1)-1,len(t1)-n-1,-1):\n",
    "    print(sortedTuple[i] , end=\" \")"
   ]
  },
  {
   "cell_type": "markdown",
   "metadata": {},
   "source": [
    "### 03) WAP to find tuples which have all elements divisible by K from a list of tuples."
   ]
  },
  {
   "cell_type": "code",
   "execution_count": 29,
   "metadata": {},
   "outputs": [
    {
     "name": "stdout",
     "output_type": "stream",
     "text": [
      "(3, 3, 3, 6)\n"
     ]
    }
   ],
   "source": [
    "l1 = [(1,2,3,4),(5,6,7,8),(9,10,11,12),(3,3,3,6)]\n",
    "k = int(input())\n",
    "for tuple in l1:\n",
    "    check = False\n",
    "    count = 0\n",
    "    for i in tuple:\n",
    "        if i%k==0:\n",
    "            count+=1\n",
    "    if(count==len(tuple)):\n",
    "        print(tuple)\n"
   ]
  },
  {
   "cell_type": "code",
   "execution_count": null,
   "metadata": {},
   "outputs": [],
   "source": [
    "def find_tuples_divisible_by_k(tuples_list, K):\n",
    "    # Filter tuples where all elements are divisible by K\n",
    "    result = [tup for tup in tuples_list if all(x % K == 0 for x in tup)]\n",
    "    return result\n",
    "\n",
    "# Example usage:\n",
    "tuples_list = [(10, 20, 30), (5, 15, 25), (2, 4, 8), (7, 14, 21)]\n",
    "K = 5\n",
    "result = find_tuples_divisible_by_k(tuples_list, K)\n",
    "print(result)"
   ]
  },
  {
   "cell_type": "markdown",
   "metadata": {},
   "source": [
    "### 04) WAP to create a list of tuples from given list having number and its cube in each tuple."
   ]
  },
  {
   "cell_type": "code",
   "execution_count": 30,
   "metadata": {},
   "outputs": [
    {
     "name": "stdout",
     "output_type": "stream",
     "text": [
      "[(1, 1), (3, 27), (6, 216), (5, 125), (9, 729), (2, 8)]\n"
     ]
    }
   ],
   "source": [
    "l1 = [1,3,6,5,9,2]\n",
    "t1 = [(i,i**3) for i in l1]\n",
    "print(t1)"
   ]
  },
  {
   "cell_type": "markdown",
   "metadata": {},
   "source": [
    "### 05) WAP to find tuples with all positive elements from the given list of tuples."
   ]
  },
  {
   "cell_type": "code",
   "execution_count": 34,
   "metadata": {},
   "outputs": [
    {
     "name": "stdout",
     "output_type": "stream",
     "text": [
      "[(1, 2, 3, 4), (9, 10, 11, 12)]\n"
     ]
    }
   ],
   "source": [
    "l1 = [(1,2,3,4),(-5,6,7,8),(9,10,11,12),(-3,3,3,6)]\n",
    "ans = [tuple for tuple in l1 if(all(x>=0 for x in tuple))]\n",
    "print(ans)"
   ]
  },
  {
   "cell_type": "markdown",
   "metadata": {},
   "source": [
    "### 06) WAP to add tuple to list and vice – versa."
   ]
  },
  {
   "cell_type": "code",
   "execution_count": 2,
   "metadata": {},
   "outputs": [
    {
     "name": "stdout",
     "output_type": "stream",
     "text": [
      "[(3, 4)]\n",
      "(1, 2, [3, 4])\n"
     ]
    }
   ],
   "source": [
    "t1 = (3,4)\n",
    "l1 = [1,2]\n",
    "ansList = []\n",
    "ansList.append(t1)\n",
    "l2 = list(t1)\n",
    "l1.append(l2)\n",
    "ansTuple = tuple(l1)\n",
    "print(ansList)\n",
    "print(ansTuple)"
   ]
  },
  {
   "cell_type": "markdown",
   "metadata": {},
   "source": [
    "### 07) WAP to remove list of tuples of length K."
   ]
  },
  {
   "cell_type": "code",
   "execution_count": 6,
   "metadata": {},
   "outputs": [
    {
     "name": "stdout",
     "output_type": "stream",
     "text": [
      "[(1, 2, 3, 4, 7, 8)]\n"
     ]
    }
   ],
   "source": [
    "l1 = [(1,2,3,4,7,8),(-5,6,7,8),(9,10,11,12),(-3,3,3,6)]\n",
    "k = int(input())\n",
    "l2 = [tuple for tuple in l1 if len(tuple)!=k]\n",
    "print(l2)"
   ]
  },
  {
   "cell_type": "markdown",
   "metadata": {},
   "source": [
    "### 08) WAP to remove duplicates from tuple."
   ]
  },
  {
   "cell_type": "code",
   "execution_count": 7,
   "metadata": {},
   "outputs": [
    {
     "data": {
      "text/plain": [
       "(3, -3, 6)"
      ]
     },
     "execution_count": 7,
     "metadata": {},
     "output_type": "execute_result"
    }
   ],
   "source": [
    "t1 = (-3,3,3,6)\n",
    "ans = tuple(set(t1))\n",
    "ans"
   ]
  },
  {
   "cell_type": "code",
   "execution_count": 17,
   "metadata": {},
   "outputs": [
    {
     "name": "stdout",
     "output_type": "stream",
     "text": [
      "(-3, 3, 6, 5)\n"
     ]
    }
   ],
   "source": [
    "t1 = (-3,3,3,6,6,5,5,6)\n",
    "l1 = []\n",
    "s1 = set()\n",
    "for i in t1:\n",
    "    if i not in s1:\n",
    "        l1.append(i)\n",
    "    s1.add(i)\n",
    "print(tuple(l1))\n"
   ]
  },
  {
   "cell_type": "markdown",
   "metadata": {},
   "source": [
    "### 09) WAP to multiply adjacent elements of a tuple and print that resultant tuple."
   ]
  },
  {
   "cell_type": "code",
   "execution_count": 10,
   "metadata": {},
   "outputs": [
    {
     "name": "stdout",
     "output_type": "stream",
     "text": [
      "(2, 6, 12, 20, 30, 42)\n"
     ]
    }
   ],
   "source": [
    "t1 = (1,2,3,4,5,6,7)\n",
    "ans = tuple(t1[i]*t1[i+1] for i in range(0,len(t1)-1))\n",
    "print(ans)"
   ]
  },
  {
   "cell_type": "markdown",
   "metadata": {},
   "source": [
    "### 10) WAP to test if the given tuple is distinct or not."
   ]
  },
  {
   "cell_type": "code",
   "execution_count": 14,
   "metadata": {},
   "outputs": [
    {
     "name": "stdout",
     "output_type": "stream",
     "text": [
      "True\n"
     ]
    }
   ],
   "source": [
    "t1 = (1,2,3,4,5,6,7)\n",
    "print(len(t1) == len(set(t1)))"
   ]
  },
  {
   "cell_type": "code",
   "execution_count": null,
   "metadata": {},
   "outputs": [],
   "source": []
  }
 ],
 "metadata": {
  "kernelspec": {
   "display_name": "Python 3 (ipykernel)",
   "language": "python",
   "name": "python3"
  },
  "language_info": {
   "codemirror_mode": {
    "name": "ipython",
    "version": 3
   },
   "file_extension": ".py",
   "mimetype": "text/x-python",
   "name": "python",
   "nbconvert_exporter": "python",
   "pygments_lexer": "ipython3",
   "version": "3.10.9"
  }
 },
 "nbformat": 4,
 "nbformat_minor": 4
}
